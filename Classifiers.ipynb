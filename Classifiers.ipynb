{
 "cells": [
  {
   "cell_type": "markdown",
   "metadata": {},
   "source": [
    "# Classifier training"
   ]
  },
  {
   "cell_type": "code",
   "execution_count": 1,
   "metadata": {},
   "outputs": [],
   "source": [
    "import pandas as pd\n",
    "import numpy as np\n",
    "import tensorflow as tf\n",
    "import scipy.stats as sm\n",
    "import sklearn"
   ]
  },
  {
   "cell_type": "markdown",
   "metadata": {},
   "source": [
    "# Loading the data"
   ]
  },
  {
   "cell_type": "code",
   "execution_count": 2,
   "metadata": {},
   "outputs": [
    {
     "data": {
      "text/html": [
       "<div>\n",
       "<style scoped>\n",
       "    .dataframe tbody tr th:only-of-type {\n",
       "        vertical-align: middle;\n",
       "    }\n",
       "\n",
       "    .dataframe tbody tr th {\n",
       "        vertical-align: top;\n",
       "    }\n",
       "\n",
       "    .dataframe thead th {\n",
       "        text-align: right;\n",
       "    }\n",
       "</style>\n",
       "<table border=\"1\" class=\"dataframe\">\n",
       "  <thead>\n",
       "    <tr style=\"text-align: right;\">\n",
       "      <th></th>\n",
       "      <th>age</th>\n",
       "      <th>sex</th>\n",
       "      <th>chest_pain</th>\n",
       "      <th>rest_blood_pressure</th>\n",
       "      <th>cholestorol</th>\n",
       "      <th>fast_blood_sugar</th>\n",
       "      <th>rest_ecg</th>\n",
       "      <th>max_heart_rate</th>\n",
       "      <th>exercise_angina</th>\n",
       "      <th>st_depression</th>\n",
       "      <th>st_slope</th>\n",
       "      <th>major_vessels</th>\n",
       "      <th>thal</th>\n",
       "      <th>target</th>\n",
       "    </tr>\n",
       "  </thead>\n",
       "  <tbody>\n",
       "    <tr>\n",
       "      <th>0</th>\n",
       "      <td>63.0</td>\n",
       "      <td>1.0</td>\n",
       "      <td>1.0</td>\n",
       "      <td>145.0</td>\n",
       "      <td>233.0</td>\n",
       "      <td>1.0</td>\n",
       "      <td>2.0</td>\n",
       "      <td>150.0</td>\n",
       "      <td>0.0</td>\n",
       "      <td>2.3</td>\n",
       "      <td>3.0</td>\n",
       "      <td>0.0</td>\n",
       "      <td>6.0</td>\n",
       "      <td>0</td>\n",
       "    </tr>\n",
       "    <tr>\n",
       "      <th>1</th>\n",
       "      <td>67.0</td>\n",
       "      <td>1.0</td>\n",
       "      <td>4.0</td>\n",
       "      <td>160.0</td>\n",
       "      <td>286.0</td>\n",
       "      <td>0.0</td>\n",
       "      <td>2.0</td>\n",
       "      <td>108.0</td>\n",
       "      <td>1.0</td>\n",
       "      <td>1.5</td>\n",
       "      <td>2.0</td>\n",
       "      <td>3.0</td>\n",
       "      <td>3.0</td>\n",
       "      <td>1</td>\n",
       "    </tr>\n",
       "    <tr>\n",
       "      <th>2</th>\n",
       "      <td>67.0</td>\n",
       "      <td>1.0</td>\n",
       "      <td>4.0</td>\n",
       "      <td>120.0</td>\n",
       "      <td>229.0</td>\n",
       "      <td>0.0</td>\n",
       "      <td>2.0</td>\n",
       "      <td>129.0</td>\n",
       "      <td>1.0</td>\n",
       "      <td>2.6</td>\n",
       "      <td>2.0</td>\n",
       "      <td>2.0</td>\n",
       "      <td>7.0</td>\n",
       "      <td>1</td>\n",
       "    </tr>\n",
       "    <tr>\n",
       "      <th>3</th>\n",
       "      <td>37.0</td>\n",
       "      <td>1.0</td>\n",
       "      <td>3.0</td>\n",
       "      <td>130.0</td>\n",
       "      <td>250.0</td>\n",
       "      <td>0.0</td>\n",
       "      <td>0.0</td>\n",
       "      <td>187.0</td>\n",
       "      <td>0.0</td>\n",
       "      <td>3.5</td>\n",
       "      <td>3.0</td>\n",
       "      <td>0.0</td>\n",
       "      <td>3.0</td>\n",
       "      <td>0</td>\n",
       "    </tr>\n",
       "    <tr>\n",
       "      <th>4</th>\n",
       "      <td>41.0</td>\n",
       "      <td>0.0</td>\n",
       "      <td>2.0</td>\n",
       "      <td>130.0</td>\n",
       "      <td>204.0</td>\n",
       "      <td>0.0</td>\n",
       "      <td>2.0</td>\n",
       "      <td>172.0</td>\n",
       "      <td>0.0</td>\n",
       "      <td>1.4</td>\n",
       "      <td>1.0</td>\n",
       "      <td>0.0</td>\n",
       "      <td>3.0</td>\n",
       "      <td>0</td>\n",
       "    </tr>\n",
       "  </tbody>\n",
       "</table>\n",
       "</div>"
      ],
      "text/plain": [
       "    age  sex  chest_pain  rest_blood_pressure  cholestorol  fast_blood_sugar  \\\n",
       "0  63.0  1.0         1.0                145.0        233.0               1.0   \n",
       "1  67.0  1.0         4.0                160.0        286.0               0.0   \n",
       "2  67.0  1.0         4.0                120.0        229.0               0.0   \n",
       "3  37.0  1.0         3.0                130.0        250.0               0.0   \n",
       "4  41.0  0.0         2.0                130.0        204.0               0.0   \n",
       "\n",
       "   rest_ecg  max_heart_rate  exercise_angina  st_depression  st_slope  \\\n",
       "0       2.0           150.0              0.0            2.3       3.0   \n",
       "1       2.0           108.0              1.0            1.5       2.0   \n",
       "2       2.0           129.0              1.0            2.6       2.0   \n",
       "3       0.0           187.0              0.0            3.5       3.0   \n",
       "4       2.0           172.0              0.0            1.4       1.0   \n",
       "\n",
       "   major_vessels  thal  target  \n",
       "0            0.0   6.0       0  \n",
       "1            3.0   3.0       1  \n",
       "2            2.0   7.0       1  \n",
       "3            0.0   3.0       0  \n",
       "4            0.0   3.0       0  "
      ]
     },
     "execution_count": 2,
     "metadata": {},
     "output_type": "execute_result"
    }
   ],
   "source": [
    "names=['age', 'sex', 'cp', 'trestbps', 'chol', 'fbs', 'restecg', 'thalach', 'exang', 'oldpeak', 'slope', 'ca', 'thal', 'target']\n",
    "df = pd.read_csv('data/out.csv')\n",
    "\n",
    "df.head()"
   ]
  },
  {
   "cell_type": "code",
   "execution_count": 3,
   "metadata": {},
   "outputs": [],
   "source": [
    "y = df.iloc[:, -1].values\n",
    "X = df.iloc[:, :-1]"
   ]
  },
  {
   "cell_type": "markdown",
   "metadata": {},
   "source": [
    "## Split data\n",
    "Splitting the data into two sets (`train` and `test`) means that the test set can be used as a new, unbiased dataset to evaluate the performance of the model against. This also helps detect the phenomenon of overfitting, where a model is extremely tailored to the training dataset, and therefore performs poorly on unseen datasets.\n",
    "\n",
    "In this case, 80% of the samples will go to the training set, and the remaining 20 will go to the test set."
   ]
  },
  {
   "cell_type": "code",
   "execution_count": 4,
   "metadata": {},
   "outputs": [
    {
     "name": "stdout",
     "output_type": "stream",
     "text": [
      "X_train: (736, 13) X_test: (184, 13)\n",
      "y_train: (736,) y_test: (184,)\n"
     ]
    }
   ],
   "source": [
    "from sklearn.model_selection import train_test_split\n",
    "\n",
    "X_train, X_test, y_train, y_test = train_test_split(X, y, test_size = 0.2)\n",
    "print(\"X_train:\", X_train.shape, \"X_test:\", X_test.shape)\n",
    "print(\"y_train:\", y_train.shape, \"y_test:\", y_test.shape)"
   ]
  },
  {
   "cell_type": "markdown",
   "metadata": {},
   "source": [
    "## Scale data\n",
    "Variables with much broader ranges of values might disproportionately effect the final model, so standardising the data ensures that all features are proportionately weighted. \n",
    "\n",
    "The formula used for feature standardisation transforms each feature to have zero-mean and unit-variance:\n",
    "\n",
    "$ \\large{x' = \\frac{x - \\overline{x}}{\\sigma}} $\n",
    "\n",
    "Where $x$ is the original feature vector, $ \\bar{x}=average(x)$ is the mean of that feature vector, and $\\sigma$ is its standard deviation."
   ]
  },
  {
   "cell_type": "code",
   "execution_count": 5,
   "metadata": {},
   "outputs": [],
   "source": [
    "from sklearn.preprocessing import StandardScaler\n",
    "\n",
    "sc = StandardScaler()\n",
    "X_train = sc.fit_transform(X_train)\n",
    "X_test = sc.transform(X_test)"
   ]
  },
  {
   "cell_type": "markdown",
   "metadata": {},
   "source": [
    "# Training the classifiers\n",
    "The following models will be compared:\n",
    "\n",
    "Using `sklearn`: \n",
    "- Decision tree \n",
    "- Support Vector Machine\n",
    "- Logistic Regression\n",
    "\n",
    "Using `Tensorflow`:\n",
    "- Artificial Neural Network\n",
    "\n",
    "## Neural Network\n",
    "\n",
    "The Neural Network was built with trial and error, until the best performing network was found. \n",
    "It contains:\n",
    "- 13 input nodes, which correspond to the 13 input features\n",
    "- 6 nodes in the first hidden layer, which uses the `ReLU` activation function and the `uniform` bias initialiser\n",
    "- 13 nodes in the second hidden layer, which also uses the `ReLU` activation function\n",
    "- 1 output layer (the probability of whether a patient is sick or not)\n",
    "- Stochastic gradient descent (`sgd`) for calculating the loss function\n",
    "- Mean squared error (`mean_squared_error`) algorithm for optimising the loss function\n",
    "\n",
    "<img src=\"data/nn.png\" width=\"600\" />"
   ]
  },
  {
   "cell_type": "code",
   "execution_count": 6,
   "metadata": {},
   "outputs": [],
   "source": [
    "import tensorflow as tf\n",
    "from tensorflow import keras\n",
    "\n",
    "classifier = keras.Sequential()\n",
    "\n",
    "# adding the input layer (input_dim) and the first hidden layer\n",
    "classifier.add(keras.layers.Dense(6, bias_initializer = 'uniform', activation = 'relu', input_dim = 13))\n",
    "\n",
    "# adding the second hidden layer\n",
    "classifier.add(keras.layers.Dense(13, activation = 'relu'))\n",
    "\n",
    "# adding the output layer which contains 1 neuron \n",
    "# (this is a binary classification problem)\n",
    "classifier.add(keras.layers.Dense(1, activation = 'sigmoid'))"
   ]
  },
  {
   "cell_type": "code",
   "execution_count": 7,
   "metadata": {},
   "outputs": [
    {
     "name": "stdout",
     "output_type": "stream",
     "text": [
      "Epoch 1/100\n",
      "736/736 [==============================] - 0s 431us/step - loss: 0.2355 - acc: 0.5938\n",
      "Epoch 2/100\n",
      "736/736 [==============================] - 0s 92us/step - loss: 0.2193 - acc: 0.7024\n",
      "Epoch 3/100\n",
      "736/736 [==============================] - 0s 94us/step - loss: 0.2074 - acc: 0.7120\n",
      "Epoch 4/100\n",
      "736/736 [==============================] - 0s 96us/step - loss: 0.1985 - acc: 0.7255\n",
      "Epoch 5/100\n",
      "736/736 [==============================] - 0s 92us/step - loss: 0.1916 - acc: 0.7473\n",
      "Epoch 6/100\n",
      "736/736 [==============================] - 0s 108us/step - loss: 0.1860 - acc: 0.7486\n",
      "Epoch 7/100\n",
      "736/736 [==============================] - 0s 133us/step - loss: 0.1812 - acc: 0.7595\n",
      "Epoch 8/100\n",
      "736/736 [==============================] - 0s 119us/step - loss: 0.1771 - acc: 0.7704\n",
      "Epoch 9/100\n",
      "736/736 [==============================] - 0s 93us/step - loss: 0.1735 - acc: 0.7731\n",
      "Epoch 10/100\n",
      "736/736 [==============================] - 0s 97us/step - loss: 0.1703 - acc: 0.7772\n",
      "Epoch 11/100\n",
      "736/736 [==============================] - 0s 93us/step - loss: 0.1675 - acc: 0.7785\n",
      "Epoch 12/100\n",
      "736/736 [==============================] - 0s 95us/step - loss: 0.1649 - acc: 0.7799\n",
      "Epoch 13/100\n",
      "736/736 [==============================] - 0s 97us/step - loss: 0.1628 - acc: 0.7826\n",
      "Epoch 14/100\n",
      "736/736 [==============================] - 0s 104us/step - loss: 0.1608 - acc: 0.7853\n",
      "Epoch 15/100\n",
      "736/736 [==============================] - 0s 111us/step - loss: 0.1592 - acc: 0.7867\n",
      "Epoch 16/100\n",
      "736/736 [==============================] - 0s 104us/step - loss: 0.1577 - acc: 0.7867\n",
      "Epoch 17/100\n",
      "736/736 [==============================] - 0s 128us/step - loss: 0.1564 - acc: 0.7880\n",
      "Epoch 18/100\n",
      "736/736 [==============================] - 0s 134us/step - loss: 0.1552 - acc: 0.7908\n",
      "Epoch 19/100\n",
      "736/736 [==============================] - 0s 175us/step - loss: 0.1542 - acc: 0.7908\n",
      "Epoch 20/100\n",
      "736/736 [==============================] - 0s 166us/step - loss: 0.1532 - acc: 0.7921\n",
      "Epoch 21/100\n",
      "736/736 [==============================] - 0s 130us/step - loss: 0.1524 - acc: 0.7935\n",
      "Epoch 22/100\n",
      "736/736 [==============================] - 0s 119us/step - loss: 0.1516 - acc: 0.7935\n",
      "Epoch 23/100\n",
      "736/736 [==============================] - 0s 122us/step - loss: 0.1508 - acc: 0.7935\n",
      "Epoch 24/100\n",
      "736/736 [==============================] - 0s 131us/step - loss: 0.1501 - acc: 0.7976\n",
      "Epoch 25/100\n",
      "736/736 [==============================] - 0s 114us/step - loss: 0.1495 - acc: 0.7989\n",
      "Epoch 26/100\n",
      "736/736 [==============================] - 0s 111us/step - loss: 0.1490 - acc: 0.7989\n",
      "Epoch 27/100\n",
      "736/736 [==============================] - 0s 109us/step - loss: 0.1484 - acc: 0.7989\n",
      "Epoch 28/100\n",
      "736/736 [==============================] - 0s 162us/step - loss: 0.1479 - acc: 0.8003\n",
      "Epoch 29/100\n",
      "736/736 [==============================] - 0s 158us/step - loss: 0.1475 - acc: 0.7989\n",
      "Epoch 30/100\n",
      "736/736 [==============================] - 0s 126us/step - loss: 0.1470 - acc: 0.7976\n",
      "Epoch 31/100\n",
      "736/736 [==============================] - 0s 157us/step - loss: 0.1466 - acc: 0.7989\n",
      "Epoch 32/100\n",
      "736/736 [==============================] - 0s 127us/step - loss: 0.1462 - acc: 0.8003\n",
      "Epoch 33/100\n",
      "736/736 [==============================] - 0s 156us/step - loss: 0.1458 - acc: 0.8043\n",
      "Epoch 34/100\n",
      "736/736 [==============================] - 0s 118us/step - loss: 0.1455 - acc: 0.8016\n",
      "Epoch 35/100\n",
      "736/736 [==============================] - 0s 123us/step - loss: 0.1452 - acc: 0.8057\n",
      "Epoch 36/100\n",
      "736/736 [==============================] - 0s 122us/step - loss: 0.1448 - acc: 0.8071\n",
      "Epoch 37/100\n",
      "736/736 [==============================] - 0s 148us/step - loss: 0.1445 - acc: 0.8071\n",
      "Epoch 38/100\n",
      "736/736 [==============================] - 0s 129us/step - loss: 0.1443 - acc: 0.8071\n",
      "Epoch 39/100\n",
      "736/736 [==============================] - 0s 128us/step - loss: 0.1440 - acc: 0.8084\n",
      "Epoch 40/100\n",
      "736/736 [==============================] - 0s 135us/step - loss: 0.1438 - acc: 0.8084\n",
      "Epoch 41/100\n",
      "736/736 [==============================] - 0s 156us/step - loss: 0.1435 - acc: 0.8084\n",
      "Epoch 42/100\n",
      "736/736 [==============================] - 0s 173us/step - loss: 0.1433 - acc: 0.8084\n",
      "Epoch 43/100\n",
      "736/736 [==============================] - 0s 182us/step - loss: 0.1430 - acc: 0.8084\n",
      "Epoch 44/100\n",
      "736/736 [==============================] - 0s 145us/step - loss: 0.1428 - acc: 0.8084\n",
      "Epoch 45/100\n",
      "736/736 [==============================] - 0s 122us/step - loss: 0.1426 - acc: 0.8084\n",
      "Epoch 46/100\n",
      "736/736 [==============================] - 0s 95us/step - loss: 0.1424 - acc: 0.8084\n",
      "Epoch 47/100\n",
      "736/736 [==============================] - 0s 93us/step - loss: 0.1422 - acc: 0.8098\n",
      "Epoch 48/100\n",
      "736/736 [==============================] - 0s 89us/step - loss: 0.1420 - acc: 0.8111\n",
      "Epoch 49/100\n",
      "736/736 [==============================] - 0s 114us/step - loss: 0.1418 - acc: 0.8098\n",
      "Epoch 50/100\n",
      "736/736 [==============================] - 0s 115us/step - loss: 0.1416 - acc: 0.8098\n",
      "Epoch 51/100\n",
      "736/736 [==============================] - 0s 122us/step - loss: 0.1414 - acc: 0.8125\n",
      "Epoch 52/100\n",
      "736/736 [==============================] - 0s 101us/step - loss: 0.1412 - acc: 0.8139\n",
      "Epoch 53/100\n",
      "736/736 [==============================] - 0s 99us/step - loss: 0.1410 - acc: 0.8084\n",
      "Epoch 54/100\n",
      "736/736 [==============================] - 0s 102us/step - loss: 0.1409 - acc: 0.8125\n",
      "Epoch 55/100\n",
      "736/736 [==============================] - 0s 78us/step - loss: 0.1407 - acc: 0.8125\n",
      "Epoch 56/100\n",
      "736/736 [==============================] - 0s 81us/step - loss: 0.1405 - acc: 0.8125\n",
      "Epoch 57/100\n",
      "736/736 [==============================] - 0s 84us/step - loss: 0.1404 - acc: 0.8125\n",
      "Epoch 58/100\n",
      "736/736 [==============================] - 0s 83us/step - loss: 0.1402 - acc: 0.8166\n",
      "Epoch 59/100\n",
      "736/736 [==============================] - 0s 81us/step - loss: 0.1401 - acc: 0.8152\n",
      "Epoch 60/100\n",
      "736/736 [==============================] - 0s 80us/step - loss: 0.1399 - acc: 0.8152\n",
      "Epoch 61/100\n",
      "736/736 [==============================] - 0s 78us/step - loss: 0.1398 - acc: 0.8152\n",
      "Epoch 62/100\n",
      "736/736 [==============================] - 0s 84us/step - loss: 0.1396 - acc: 0.8152\n",
      "Epoch 63/100\n",
      "736/736 [==============================] - 0s 82us/step - loss: 0.1395 - acc: 0.8166\n",
      "Epoch 64/100\n",
      "736/736 [==============================] - ETA: 0s - loss: 0.1377 - acc: 0.820 - 0s 92us/step - loss: 0.1393 - acc: 0.8166\n",
      "Epoch 65/100\n",
      "736/736 [==============================] - 0s 79us/step - loss: 0.1392 - acc: 0.8152\n",
      "Epoch 66/100\n",
      "736/736 [==============================] - 0s 77us/step - loss: 0.1391 - acc: 0.8152\n",
      "Epoch 67/100\n",
      "736/736 [==============================] - 0s 78us/step - loss: 0.1389 - acc: 0.8152\n",
      "Epoch 68/100\n",
      "736/736 [==============================] - 0s 79us/step - loss: 0.1388 - acc: 0.8152\n",
      "Epoch 69/100\n",
      "736/736 [==============================] - 0s 81us/step - loss: 0.1386 - acc: 0.8152\n",
      "Epoch 70/100\n",
      "736/736 [==============================] - 0s 117us/step - loss: 0.1385 - acc: 0.8152\n",
      "Epoch 71/100\n",
      "736/736 [==============================] - 0s 113us/step - loss: 0.1384 - acc: 0.8139\n",
      "Epoch 72/100\n",
      "736/736 [==============================] - 0s 97us/step - loss: 0.1383 - acc: 0.8152\n",
      "Epoch 73/100\n",
      "736/736 [==============================] - 0s 105us/step - loss: 0.1381 - acc: 0.8193\n",
      "Epoch 74/100\n",
      "736/736 [==============================] - 0s 84us/step - loss: 0.1380 - acc: 0.8166\n",
      "Epoch 75/100\n",
      "736/736 [==============================] - 0s 87us/step - loss: 0.1378 - acc: 0.8193\n",
      "Epoch 76/100\n",
      "736/736 [==============================] - 0s 93us/step - loss: 0.1377 - acc: 0.8193\n",
      "Epoch 77/100\n",
      "736/736 [==============================] - 0s 83us/step - loss: 0.1376 - acc: 0.8179\n",
      "Epoch 78/100\n",
      "736/736 [==============================] - 0s 82us/step - loss: 0.1374 - acc: 0.8193\n",
      "Epoch 79/100\n",
      "736/736 [==============================] - 0s 93us/step - loss: 0.1373 - acc: 0.8179\n",
      "Epoch 80/100\n",
      "736/736 [==============================] - 0s 111us/step - loss: 0.1371 - acc: 0.8179\n",
      "Epoch 81/100\n",
      "736/736 [==============================] - 0s 99us/step - loss: 0.1370 - acc: 0.8166\n",
      "Epoch 82/100\n",
      "736/736 [==============================] - 0s 98us/step - loss: 0.1369 - acc: 0.8179\n",
      "Epoch 83/100\n"
     ]
    },
    {
     "name": "stdout",
     "output_type": "stream",
     "text": [
      "736/736 [==============================] - 0s 108us/step - loss: 0.1368 - acc: 0.8179\n",
      "Epoch 84/100\n",
      "736/736 [==============================] - 0s 116us/step - loss: 0.1366 - acc: 0.8193\n",
      "Epoch 85/100\n",
      "736/736 [==============================] - 0s 83us/step - loss: 0.1365 - acc: 0.8179\n",
      "Epoch 86/100\n",
      "736/736 [==============================] - 0s 83us/step - loss: 0.1364 - acc: 0.8220\n",
      "Epoch 87/100\n",
      "736/736 [==============================] - 0s 83us/step - loss: 0.1362 - acc: 0.8220\n",
      "Epoch 88/100\n",
      "736/736 [==============================] - 0s 85us/step - loss: 0.1361 - acc: 0.8207\n",
      "Epoch 89/100\n",
      "736/736 [==============================] - 0s 107us/step - loss: 0.1360 - acc: 0.8220\n",
      "Epoch 90/100\n",
      "736/736 [==============================] - 0s 120us/step - loss: 0.1358 - acc: 0.8220\n",
      "Epoch 91/100\n",
      "736/736 [==============================] - 0s 94us/step - loss: 0.1357 - acc: 0.8220\n",
      "Epoch 92/100\n",
      "736/736 [==============================] - 0s 82us/step - loss: 0.1356 - acc: 0.8207\n",
      "Epoch 93/100\n",
      "736/736 [==============================] - 0s 77us/step - loss: 0.1355 - acc: 0.8220\n",
      "Epoch 94/100\n",
      "736/736 [==============================] - 0s 83us/step - loss: 0.1353 - acc: 0.8234\n",
      "Epoch 95/100\n",
      "736/736 [==============================] - 0s 88us/step - loss: 0.1352 - acc: 0.8234\n",
      "Epoch 96/100\n",
      "736/736 [==============================] - 0s 86us/step - loss: 0.1351 - acc: 0.8220\n",
      "Epoch 97/100\n",
      "736/736 [==============================] - 0s 78us/step - loss: 0.1349 - acc: 0.8220\n",
      "Epoch 98/100\n",
      "736/736 [==============================] - 0s 84us/step - loss: 0.1348 - acc: 0.8247\n",
      "Epoch 99/100\n",
      "736/736 [==============================] - 0s 91us/step - loss: 0.1347 - acc: 0.8234\n",
      "Epoch 100/100\n",
      "736/736 [==============================] - 0s 92us/step - loss: 0.1346 - acc: 0.8234\n"
     ]
    },
    {
     "data": {
      "text/plain": [
       "<tensorflow.python.keras.callbacks.History at 0x1a2bb42f98>"
      ]
     },
     "execution_count": 7,
     "metadata": {},
     "output_type": "execute_result"
    }
   ],
   "source": [
    "# compiling the neural network\n",
    "classifier.compile(optimizer = 'sgd', loss = 'mean_squared_error', metrics = ['accuracy'])\n",
    "\n",
    "# fitting the model \n",
    "classifier.fit(X_train, y_train, batch_size = 10, epochs = 100)"
   ]
  },
  {
   "cell_type": "code",
   "execution_count": 8,
   "metadata": {},
   "outputs": [
    {
     "name": "stderr",
     "output_type": "stream",
     "text": [
      "Using TensorFlow backend.\n"
     ]
    }
   ],
   "source": [
    "import tensorflowjs as tfjs\n",
    "tfjs.converters.save_keras_model(classifier, \".\")"
   ]
  },
  {
   "cell_type": "code",
   "execution_count": 10,
   "metadata": {},
   "outputs": [],
   "source": [
    "y_pred = classifier.predict(X_test)\n",
    "y_pred = y_pred.flatten().round()"
   ]
  },
  {
   "cell_type": "code",
   "execution_count": 11,
   "metadata": {},
   "outputs": [
    {
     "name": "stdout",
     "output_type": "stream",
     "text": [
      "Predicted  0.0  1.0\n",
      "Actual             \n",
      "0           56   25\n",
      "1            7   96\n"
     ]
    }
   ],
   "source": [
    "y_actu = pd.Series(y_test, name='Actual')\n",
    "y_pred = pd.Series(y_pred, name='Predicted')\n",
    "\n",
    "df_confusion = pd.crosstab(y_actu, y_pred)\n",
    "print(df_confusion)"
   ]
  },
  {
   "cell_type": "code",
   "execution_count": 12,
   "metadata": {},
   "outputs": [
    {
     "name": "stdout",
     "output_type": "stream",
     "text": [
      "Test accuracy: 82.6086956521739\n",
      "Train accuracy: 82.47282608695652\n"
     ]
    }
   ],
   "source": [
    "accuracy = 100 * np.sum(y_test == y_pred) / len(y_test)\n",
    "print(\"Test accuracy:\", accuracy)\n",
    "\n",
    "y_train_pred = classifier.predict(X_train).flatten().round()\n",
    "accuracy_train = 100 * np.sum(y_train == y_train_pred) / len(y_train)\n",
    "print(\"Train accuracy:\", accuracy_train)"
   ]
  },
  {
   "cell_type": "markdown",
   "metadata": {},
   "source": [
    "## Decision Tree classifier"
   ]
  },
  {
   "cell_type": "code",
   "execution_count": 13,
   "metadata": {},
   "outputs": [],
   "source": [
    "def get_accuracy():\n",
    "    print(\"Sklearn accuracy:\", sklearn.metrics.accuracy_score(y_test, y_pred))\n",
    "    print(\"Sklearn recall:\", sklearn.metrics.recall_score(y_test, y_pred))\n",
    "    print(\"\\nConfusion matrix (predicted vs actual)\")\n",
    "    print(pd.DataFrame(np.c_[sklearn.metrics.confusion_matrix(y_test, y_pred)]))  "
   ]
  },
  {
   "cell_type": "code",
   "execution_count": 14,
   "metadata": {},
   "outputs": [
    {
     "name": "stdout",
     "output_type": "stream",
     "text": [
      "Sklearn accuracy: 0.7336956521739131\n",
      "Sklearn recall: 0.8252427184466019\n",
      "\n",
      "Confusion matrix (predicted vs actual)\n",
      "    0   1\n",
      "0  50  31\n",
      "1  18  85\n"
     ]
    }
   ],
   "source": [
    "from sklearn.tree import DecisionTreeClassifier  \n",
    "\n",
    "# Create a decision tree Classifier\n",
    "classifier = DecisionTreeClassifier()  \n",
    "\n",
    "# Fit the model\n",
    "classifier.fit(X_train, y_train)  \n",
    "\n",
    "# Predict the response for test dataset\n",
    "y_pred = classifier.predict(X_test)  \n",
    "\n",
    "# Get accuracy results\n",
    "get_accuracy()"
   ]
  },
  {
   "cell_type": "markdown",
   "metadata": {},
   "source": [
    "## Support Vector Machine"
   ]
  },
  {
   "cell_type": "code",
   "execution_count": 18,
   "metadata": {},
   "outputs": [
    {
     "name": "stdout",
     "output_type": "stream",
     "text": [
      "Sklearn accuracy: 0.8260869565217391\n",
      "Sklearn recall: 0.9223300970873787\n",
      "\n",
      "Confusion matrix (predicted vs actual)\n",
      "    0   1\n",
      "0  57  24\n",
      "1   8  95\n"
     ]
    }
   ],
   "source": [
    "from sklearn.svm import SVC\n",
    "\n",
    "# Create an SVM Classifier\n",
    "classifier = SVC(kernel='linear') # Linear Kernel\n",
    "\n",
    "# Fit the model\n",
    "classifier.fit(X_train, y_train)  \n",
    "\n",
    "# Train the model and predict against the validation set\n",
    "y_pred = classifier.predict(X_test)  \n",
    "\n",
    "# Get accuracy results\n",
    "get_accuracy()"
   ]
  },
  {
   "cell_type": "markdown",
   "metadata": {},
   "source": [
    "## Logistic regression"
   ]
  },
  {
   "cell_type": "code",
   "execution_count": 19,
   "metadata": {},
   "outputs": [
    {
     "name": "stdout",
     "output_type": "stream",
     "text": [
      "Sklearn accuracy: 0.8315217391304348\n",
      "Sklearn recall: 0.9223300970873787\n",
      "\n",
      "Confusion matrix (predicted vs actual)\n",
      "    0   1\n",
      "0  58  23\n",
      "1   8  95\n"
     ]
    }
   ],
   "source": [
    "from sklearn.linear_model import LogisticRegression\n",
    "\n",
    "classifier = LogisticRegression(random_state=0, solver='lbfgs', multi_class='multinomial')\n",
    "\n",
    "# Fit the model\n",
    "classifier.fit(X_train, y_train)  \n",
    "\n",
    "# Predict the response for test dataset\n",
    "y_pred = classifier.predict(X_test)  \n",
    "\n",
    "# Get accuracy results\n",
    "get_accuracy()"
   ]
  },
  {
   "cell_type": "code",
   "execution_count": null,
   "metadata": {},
   "outputs": [],
   "source": []
  },
  {
   "cell_type": "code",
   "execution_count": null,
   "metadata": {},
   "outputs": [],
   "source": []
  },
  {
   "cell_type": "code",
   "execution_count": null,
   "metadata": {},
   "outputs": [],
   "source": []
  }
 ],
 "metadata": {
  "kernelspec": {
   "display_name": "conda env tensorflow",
   "language": "python",
   "name": "tensorflow"
  },
  "language_info": {
   "codemirror_mode": {
    "name": "ipython",
    "version": 3
   },
   "file_extension": ".py",
   "mimetype": "text/x-python",
   "name": "python",
   "nbconvert_exporter": "python",
   "pygments_lexer": "ipython3",
   "version": "3.6.8"
  }
 },
 "nbformat": 4,
 "nbformat_minor": 2
}
