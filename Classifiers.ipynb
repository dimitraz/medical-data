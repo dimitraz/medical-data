{
 "cells": [
  {
   "cell_type": "markdown",
   "metadata": {},
   "source": [
    "# Classifier training"
   ]
  },
  {
   "cell_type": "code",
   "execution_count": 102,
   "metadata": {},
   "outputs": [],
   "source": [
    "import pandas as pd\n",
    "import numpy as np\n",
    "import tensorflow as tf\n",
    "import scipy.stats as sm\n",
    "import sklearn"
   ]
  },
  {
   "cell_type": "markdown",
   "metadata": {},
   "source": [
    "# Loading the data"
   ]
  },
  {
   "cell_type": "code",
   "execution_count": 113,
   "metadata": {},
   "outputs": [
    {
     "data": {
      "text/html": [
       "<div>\n",
       "<style scoped>\n",
       "    .dataframe tbody tr th:only-of-type {\n",
       "        vertical-align: middle;\n",
       "    }\n",
       "\n",
       "    .dataframe tbody tr th {\n",
       "        vertical-align: top;\n",
       "    }\n",
       "\n",
       "    .dataframe thead th {\n",
       "        text-align: right;\n",
       "    }\n",
       "</style>\n",
       "<table border=\"1\" class=\"dataframe\">\n",
       "  <thead>\n",
       "    <tr style=\"text-align: right;\">\n",
       "      <th></th>\n",
       "      <th>age</th>\n",
       "      <th>sex</th>\n",
       "      <th>chest_pain</th>\n",
       "      <th>rest_blood_pressure</th>\n",
       "      <th>cholestorol</th>\n",
       "      <th>fast_blood_sugar</th>\n",
       "      <th>rest_ecg</th>\n",
       "      <th>max_heart_rate</th>\n",
       "      <th>exercise_angina</th>\n",
       "      <th>st_depression</th>\n",
       "      <th>st_slope</th>\n",
       "      <th>major_vessels</th>\n",
       "      <th>thal</th>\n",
       "      <th>target</th>\n",
       "    </tr>\n",
       "  </thead>\n",
       "  <tbody>\n",
       "    <tr>\n",
       "      <th>0</th>\n",
       "      <td>63.0</td>\n",
       "      <td>1.0</td>\n",
       "      <td>1.0</td>\n",
       "      <td>145.0</td>\n",
       "      <td>233.0</td>\n",
       "      <td>1.0</td>\n",
       "      <td>2.0</td>\n",
       "      <td>150.0</td>\n",
       "      <td>0.0</td>\n",
       "      <td>2.3</td>\n",
       "      <td>3.0</td>\n",
       "      <td>0.0</td>\n",
       "      <td>6.0</td>\n",
       "      <td>0</td>\n",
       "    </tr>\n",
       "    <tr>\n",
       "      <th>1</th>\n",
       "      <td>67.0</td>\n",
       "      <td>1.0</td>\n",
       "      <td>4.0</td>\n",
       "      <td>160.0</td>\n",
       "      <td>286.0</td>\n",
       "      <td>0.0</td>\n",
       "      <td>2.0</td>\n",
       "      <td>108.0</td>\n",
       "      <td>1.0</td>\n",
       "      <td>1.5</td>\n",
       "      <td>2.0</td>\n",
       "      <td>3.0</td>\n",
       "      <td>3.0</td>\n",
       "      <td>1</td>\n",
       "    </tr>\n",
       "    <tr>\n",
       "      <th>2</th>\n",
       "      <td>67.0</td>\n",
       "      <td>1.0</td>\n",
       "      <td>4.0</td>\n",
       "      <td>120.0</td>\n",
       "      <td>229.0</td>\n",
       "      <td>0.0</td>\n",
       "      <td>2.0</td>\n",
       "      <td>129.0</td>\n",
       "      <td>1.0</td>\n",
       "      <td>2.6</td>\n",
       "      <td>2.0</td>\n",
       "      <td>2.0</td>\n",
       "      <td>7.0</td>\n",
       "      <td>1</td>\n",
       "    </tr>\n",
       "    <tr>\n",
       "      <th>3</th>\n",
       "      <td>37.0</td>\n",
       "      <td>1.0</td>\n",
       "      <td>3.0</td>\n",
       "      <td>130.0</td>\n",
       "      <td>250.0</td>\n",
       "      <td>0.0</td>\n",
       "      <td>0.0</td>\n",
       "      <td>187.0</td>\n",
       "      <td>0.0</td>\n",
       "      <td>3.5</td>\n",
       "      <td>3.0</td>\n",
       "      <td>0.0</td>\n",
       "      <td>3.0</td>\n",
       "      <td>0</td>\n",
       "    </tr>\n",
       "    <tr>\n",
       "      <th>4</th>\n",
       "      <td>41.0</td>\n",
       "      <td>0.0</td>\n",
       "      <td>2.0</td>\n",
       "      <td>130.0</td>\n",
       "      <td>204.0</td>\n",
       "      <td>0.0</td>\n",
       "      <td>2.0</td>\n",
       "      <td>172.0</td>\n",
       "      <td>0.0</td>\n",
       "      <td>1.4</td>\n",
       "      <td>1.0</td>\n",
       "      <td>0.0</td>\n",
       "      <td>3.0</td>\n",
       "      <td>0</td>\n",
       "    </tr>\n",
       "  </tbody>\n",
       "</table>\n",
       "</div>"
      ],
      "text/plain": [
       "    age  sex  chest_pain  rest_blood_pressure  cholestorol  fast_blood_sugar  \\\n",
       "0  63.0  1.0         1.0                145.0        233.0               1.0   \n",
       "1  67.0  1.0         4.0                160.0        286.0               0.0   \n",
       "2  67.0  1.0         4.0                120.0        229.0               0.0   \n",
       "3  37.0  1.0         3.0                130.0        250.0               0.0   \n",
       "4  41.0  0.0         2.0                130.0        204.0               0.0   \n",
       "\n",
       "   rest_ecg  max_heart_rate  exercise_angina  st_depression  st_slope  \\\n",
       "0       2.0           150.0              0.0            2.3       3.0   \n",
       "1       2.0           108.0              1.0            1.5       2.0   \n",
       "2       2.0           129.0              1.0            2.6       2.0   \n",
       "3       0.0           187.0              0.0            3.5       3.0   \n",
       "4       2.0           172.0              0.0            1.4       1.0   \n",
       "\n",
       "   major_vessels  thal  target  \n",
       "0            0.0   6.0       0  \n",
       "1            3.0   3.0       1  \n",
       "2            2.0   7.0       1  \n",
       "3            0.0   3.0       0  \n",
       "4            0.0   3.0       0  "
      ]
     },
     "execution_count": 113,
     "metadata": {},
     "output_type": "execute_result"
    }
   ],
   "source": [
    "names=['age', 'sex', 'cp', 'trestbps', 'chol', 'fbs', 'restecg', 'thalach', 'exang', 'oldpeak', 'slope', 'ca', 'thal', 'target']\n",
    "df = pd.read_csv('data/out.csv')\n",
    "\n",
    "df.head()"
   ]
  },
  {
   "cell_type": "code",
   "execution_count": 114,
   "metadata": {},
   "outputs": [],
   "source": [
    "y = df.iloc[:, -1].values\n",
    "X = df.iloc[:, :-1]"
   ]
  },
  {
   "cell_type": "markdown",
   "metadata": {},
   "source": [
    "## Split data\n",
    "Splitting the data into two sets (`train` and `test`) means that the test set can be used as a new, unbiased dataset to evaluate the performance of the model against. This also helps detect the phenomenon of overfitting, where a model is extremely tailored to the training dataset, and therefore performs poorly on unseen datasets.\n",
    "\n",
    "In this case, 80% of the samples will go to the training set, and the remaining 20 will go to the test set."
   ]
  },
  {
   "cell_type": "code",
   "execution_count": 194,
   "metadata": {},
   "outputs": [
    {
     "name": "stdout",
     "output_type": "stream",
     "text": [
      "X_train: (736, 13) X_test: (184, 13)\n",
      "y_train: (736,) y_test: (184,)\n"
     ]
    }
   ],
   "source": [
    "from sklearn.model_selection import train_test_split\n",
    "\n",
    "X_train, X_test, y_train, y_test = train_test_split(X, y, test_size = 0.2)\n",
    "print(\"X_train:\", X_train.shape, \"X_test:\", X_test.shape)\n",
    "print(\"y_train:\", y_train.shape, \"y_test:\", y_test.shape)"
   ]
  },
  {
   "cell_type": "markdown",
   "metadata": {},
   "source": [
    "## Scale data\n",
    "Variables with much broader ranges of values might disproportionately effect the final model, so standardising the data ensures that all features are proportionately weighted. \n",
    "\n",
    "The formula used for feature standardisation transforms each feature to have zero-mean and unit-variance:\n",
    "\n",
    "$ \\large{x' = \\frac{x - \\overline{x}}{\\sigma}} $\n",
    "\n",
    "Where $x$ is the original feature vector, $ \\bar{x}=average(x)$ is the mean of that feature vector, and $\\sigma$ is its standard deviation."
   ]
  },
  {
   "cell_type": "code",
   "execution_count": 195,
   "metadata": {},
   "outputs": [],
   "source": [
    "from sklearn.preprocessing import StandardScaler\n",
    "\n",
    "sc = StandardScaler()\n",
    "X_train = sc.fit_transform(X_train)\n",
    "X_test = sc.transform(X_test)"
   ]
  },
  {
   "cell_type": "markdown",
   "metadata": {},
   "source": [
    "# Training the classifiers\n",
    "The following models will be compared:\n",
    "\n",
    "Using `sklearn`: \n",
    "- Decision tree \n",
    "- Support Vector Machine\n",
    "- Logistic Regression\n",
    "\n",
    "Using `Tensorflow`:\n",
    "- Artificial Neural Network\n",
    "\n",
    "## Neural Network\n",
    "\n",
    "The Neural Network was built with trial and error, until the best performing network was found. \n",
    "It contains:\n",
    "- 13 input nodes, which correspond to the 13 input features\n",
    "- 6 nodes in the first hidden layer, which uses the `ReLU` activation function and the `uniform` bias initialiser\n",
    "- 13 nodes in the second hidden layer, which also uses the `ReLU` activation function\n",
    "- 1 output layer (the probability of whether a patient is sick or not)\n",
    "- Stochastic gradient descent (`sgd`) for calculating the loss function\n",
    "- Mean squared error (`mean_squared_error`) algorithm for optimising the loss function\n",
    "\n",
    "<img src=\"data/nn.png\" width=\"600\" />"
   ]
  },
  {
   "cell_type": "code",
   "execution_count": 215,
   "metadata": {},
   "outputs": [],
   "source": [
    "import tensorflow as tf\n",
    "from tensorflow import keras\n",
    "\n",
    "classifier = keras.Sequential()\n",
    "\n",
    "# adding the input layer (input_dim) and the first hidden layer\n",
    "classifier.add(keras.layers.Dense(6, bias_initializer = 'uniform', activation = 'relu', input_dim = 13))\n",
    "\n",
    "# adding the second hidden layer\n",
    "classifier.add(keras.layers.Dense(13, activation = 'relu'))\n",
    "\n",
    "# adding the output layer which contains 1 neuron \n",
    "# (this is a binary classification problem)\n",
    "classifier.add(keras.layers.Dense(1, activation = 'sigmoid'))"
   ]
  },
  {
   "cell_type": "code",
   "execution_count": 216,
   "metadata": {},
   "outputs": [
    {
     "name": "stdout",
     "output_type": "stream",
     "text": [
      "Epoch 1/100\n",
      "736/736 [==============================] - 2s 2ms/step - loss: 0.3156 - acc: 0.4701\n",
      "Epoch 2/100\n",
      "736/736 [==============================] - 0s 141us/step - loss: 0.2450 - acc: 0.5829\n",
      "Epoch 3/100\n",
      "736/736 [==============================] - 0s 133us/step - loss: 0.2121 - acc: 0.7024\n",
      "Epoch 4/100\n",
      "736/736 [==============================] - 0s 149us/step - loss: 0.1955 - acc: 0.7527\n",
      "Epoch 5/100\n",
      "736/736 [==============================] - 0s 170us/step - loss: 0.1831 - acc: 0.7745\n",
      "Epoch 6/100\n",
      "736/736 [==============================] - 0s 147us/step - loss: 0.1736 - acc: 0.7785\n",
      "Epoch 7/100\n",
      "736/736 [==============================] - 0s 170us/step - loss: 0.1659 - acc: 0.7840\n",
      "Epoch 8/100\n",
      "736/736 [==============================] - 0s 182us/step - loss: 0.1598 - acc: 0.7962\n",
      "Epoch 9/100\n",
      "736/736 [==============================] - 0s 183us/step - loss: 0.1551 - acc: 0.7935\n",
      "Epoch 10/100\n",
      "736/736 [==============================] - 0s 188us/step - loss: 0.1513 - acc: 0.7976\n",
      "Epoch 11/100\n",
      "736/736 [==============================] - 0s 220us/step - loss: 0.1482 - acc: 0.7989\n",
      "Epoch 12/100\n",
      "736/736 [==============================] - 0s 264us/step - loss: 0.1457 - acc: 0.8016\n",
      "Epoch 13/100\n",
      "736/736 [==============================] - 0s 197us/step - loss: 0.1435 - acc: 0.8084\n",
      "Epoch 14/100\n",
      "736/736 [==============================] - 0s 224us/step - loss: 0.1417 - acc: 0.8111\n",
      "Epoch 15/100\n",
      "736/736 [==============================] - 0s 185us/step - loss: 0.1402 - acc: 0.8152\n",
      "Epoch 16/100\n",
      "736/736 [==============================] - 0s 246us/step - loss: 0.1389 - acc: 0.8193\n",
      "Epoch 17/100\n",
      "736/736 [==============================] - 0s 272us/step - loss: 0.1377 - acc: 0.8193\n",
      "Epoch 18/100\n",
      "736/736 [==============================] - 0s 262us/step - loss: 0.1368 - acc: 0.8179\n",
      "Epoch 19/100\n",
      "736/736 [==============================] - 0s 214us/step - loss: 0.1359 - acc: 0.8166\n",
      "Epoch 20/100\n",
      "736/736 [==============================] - 0s 185us/step - loss: 0.1352 - acc: 0.8179\n",
      "Epoch 21/100\n",
      "736/736 [==============================] - 0s 208us/step - loss: 0.1345 - acc: 0.8207\n",
      "Epoch 22/100\n",
      "736/736 [==============================] - 0s 282us/step - loss: 0.1339 - acc: 0.8207\n",
      "Epoch 23/100\n",
      "736/736 [==============================] - 0s 243us/step - loss: 0.1334 - acc: 0.8234\n",
      "Epoch 24/100\n",
      "736/736 [==============================] - 0s 193us/step - loss: 0.1328 - acc: 0.8207\n",
      "Epoch 25/100\n",
      "736/736 [==============================] - 0s 239us/step - loss: 0.1323 - acc: 0.8247\n",
      "Epoch 26/100\n",
      "736/736 [==============================] - 0s 225us/step - loss: 0.1320 - acc: 0.8261\n",
      "Epoch 27/100\n",
      "736/736 [==============================] - 0s 177us/step - loss: 0.1316 - acc: 0.8220\n",
      "Epoch 28/100\n",
      "736/736 [==============================] - 0s 150us/step - loss: 0.1311 - acc: 0.8234\n",
      "Epoch 29/100\n",
      "736/736 [==============================] - 0s 149us/step - loss: 0.1308 - acc: 0.8261\n",
      "Epoch 30/100\n",
      "736/736 [==============================] - 0s 137us/step - loss: 0.1305 - acc: 0.8207\n",
      "Epoch 31/100\n",
      "736/736 [==============================] - 0s 138us/step - loss: 0.1302 - acc: 0.8207\n",
      "Epoch 32/100\n",
      "736/736 [==============================] - 0s 148us/step - loss: 0.1299 - acc: 0.8220\n",
      "Epoch 33/100\n",
      "736/736 [==============================] - 0s 153us/step - loss: 0.1295 - acc: 0.8247\n",
      "Epoch 34/100\n",
      "736/736 [==============================] - 0s 161us/step - loss: 0.1293 - acc: 0.8261\n",
      "Epoch 35/100\n",
      "736/736 [==============================] - 0s 162us/step - loss: 0.1290 - acc: 0.8261\n",
      "Epoch 36/100\n",
      "736/736 [==============================] - 0s 186us/step - loss: 0.1287 - acc: 0.8261\n",
      "Epoch 37/100\n",
      "736/736 [==============================] - 0s 209us/step - loss: 0.1285 - acc: 0.8274\n",
      "Epoch 38/100\n",
      "736/736 [==============================] - 0s 200us/step - loss: 0.1282 - acc: 0.8288\n",
      "Epoch 39/100\n",
      "736/736 [==============================] - 0s 180us/step - loss: 0.1280 - acc: 0.8288\n",
      "Epoch 40/100\n",
      "736/736 [==============================] - 0s 158us/step - loss: 0.1278 - acc: 0.8261\n",
      "Epoch 41/100\n",
      "736/736 [==============================] - 0s 159us/step - loss: 0.1276 - acc: 0.8261\n",
      "Epoch 42/100\n",
      "736/736 [==============================] - 0s 160us/step - loss: 0.1273 - acc: 0.8274\n",
      "Epoch 43/100\n",
      "736/736 [==============================] - 0s 155us/step - loss: 0.1271 - acc: 0.8274\n",
      "Epoch 44/100\n",
      "736/736 [==============================] - 0s 161us/step - loss: 0.1269 - acc: 0.8342\n",
      "Epoch 45/100\n",
      "736/736 [==============================] - 0s 194us/step - loss: 0.1267 - acc: 0.8302\n",
      "Epoch 46/100\n",
      "736/736 [==============================] - 0s 199us/step - loss: 0.1265 - acc: 0.8329\n",
      "Epoch 47/100\n",
      "736/736 [==============================] - 0s 170us/step - loss: 0.1263 - acc: 0.8329\n",
      "Epoch 48/100\n",
      "736/736 [==============================] - 0s 167us/step - loss: 0.1261 - acc: 0.8342\n",
      "Epoch 49/100\n",
      "736/736 [==============================] - 0s 170us/step - loss: 0.1259 - acc: 0.8315\n",
      "Epoch 50/100\n",
      "736/736 [==============================] - 0s 162us/step - loss: 0.1258 - acc: 0.8315\n",
      "Epoch 51/100\n",
      "736/736 [==============================] - 0s 162us/step - loss: 0.1256 - acc: 0.8329\n",
      "Epoch 52/100\n",
      "736/736 [==============================] - 0s 164us/step - loss: 0.1255 - acc: 0.8302\n",
      "Epoch 53/100\n",
      "736/736 [==============================] - 0s 177us/step - loss: 0.1253 - acc: 0.8302\n",
      "Epoch 54/100\n",
      "736/736 [==============================] - 0s 139us/step - loss: 0.1251 - acc: 0.8302\n",
      "Epoch 55/100\n",
      "736/736 [==============================] - 0s 126us/step - loss: 0.1249 - acc: 0.8288\n",
      "Epoch 56/100\n",
      "736/736 [==============================] - 0s 138us/step - loss: 0.1248 - acc: 0.8302\n",
      "Epoch 57/100\n",
      "736/736 [==============================] - 0s 153us/step - loss: 0.1246 - acc: 0.8274\n",
      "Epoch 58/100\n",
      "736/736 [==============================] - 0s 150us/step - loss: 0.1245 - acc: 0.8288\n",
      "Epoch 59/100\n",
      "736/736 [==============================] - 0s 140us/step - loss: 0.1244 - acc: 0.8315\n",
      "Epoch 60/100\n",
      "736/736 [==============================] - 0s 170us/step - loss: 0.1242 - acc: 0.8302\n",
      "Epoch 61/100\n",
      "736/736 [==============================] - 0s 178us/step - loss: 0.1241 - acc: 0.8288\n",
      "Epoch 62/100\n",
      "736/736 [==============================] - 0s 153us/step - loss: 0.1240 - acc: 0.8288\n",
      "Epoch 63/100\n",
      "736/736 [==============================] - 0s 148us/step - loss: 0.1238 - acc: 0.8302\n",
      "Epoch 64/100\n",
      "736/736 [==============================] - 0s 176us/step - loss: 0.1237 - acc: 0.8329\n",
      "Epoch 65/100\n",
      "736/736 [==============================] - 0s 190us/step - loss: 0.1235 - acc: 0.8302\n",
      "Epoch 66/100\n",
      "736/736 [==============================] - 0s 175us/step - loss: 0.1234 - acc: 0.8329\n",
      "Epoch 67/100\n",
      "736/736 [==============================] - 0s 171us/step - loss: 0.1233 - acc: 0.8302\n",
      "Epoch 68/100\n",
      "736/736 [==============================] - 0s 159us/step - loss: 0.1231 - acc: 0.8302\n",
      "Epoch 69/100\n",
      "736/736 [==============================] - 0s 163us/step - loss: 0.1230 - acc: 0.8329\n",
      "Epoch 70/100\n",
      "736/736 [==============================] - 0s 211us/step - loss: 0.1229 - acc: 0.8315\n",
      "Epoch 71/100\n",
      "736/736 [==============================] - 0s 197us/step - loss: 0.1228 - acc: 0.8315\n",
      "Epoch 72/100\n",
      "736/736 [==============================] - 0s 206us/step - loss: 0.1226 - acc: 0.8329\n",
      "Epoch 73/100\n",
      "736/736 [==============================] - 0s 189us/step - loss: 0.1226 - acc: 0.8302\n",
      "Epoch 74/100\n",
      "736/736 [==============================] - 0s 159us/step - loss: 0.1225 - acc: 0.8302\n",
      "Epoch 75/100\n",
      "736/736 [==============================] - 0s 172us/step - loss: 0.1223 - acc: 0.8329\n",
      "Epoch 76/100\n",
      "736/736 [==============================] - 0s 162us/step - loss: 0.1222 - acc: 0.8288\n",
      "Epoch 77/100\n",
      "736/736 [==============================] - 0s 148us/step - loss: 0.1220 - acc: 0.8315\n",
      "Epoch 78/100\n",
      "736/736 [==============================] - 0s 217us/step - loss: 0.1220 - acc: 0.8329\n",
      "Epoch 79/100\n",
      "736/736 [==============================] - 0s 180us/step - loss: 0.1218 - acc: 0.8315\n",
      "Epoch 80/100\n",
      "736/736 [==============================] - 0s 161us/step - loss: 0.1217 - acc: 0.8342\n",
      "Epoch 81/100\n",
      "736/736 [==============================] - 0s 158us/step - loss: 0.1216 - acc: 0.8302\n",
      "Epoch 82/100\n",
      "736/736 [==============================] - 0s 163us/step - loss: 0.1214 - acc: 0.8315\n",
      "Epoch 83/100\n"
     ]
    },
    {
     "name": "stdout",
     "output_type": "stream",
     "text": [
      "736/736 [==============================] - 0s 168us/step - loss: 0.1214 - acc: 0.8315\n",
      "Epoch 84/100\n",
      "736/736 [==============================] - 0s 170us/step - loss: 0.1212 - acc: 0.8356\n",
      "Epoch 85/100\n",
      "736/736 [==============================] - 0s 172us/step - loss: 0.1211 - acc: 0.8315\n",
      "Epoch 86/100\n",
      "736/736 [==============================] - 0s 167us/step - loss: 0.1210 - acc: 0.8315\n",
      "Epoch 87/100\n",
      "736/736 [==============================] - 0s 157us/step - loss: 0.1209 - acc: 0.8315\n",
      "Epoch 88/100\n",
      "736/736 [==============================] - 0s 194us/step - loss: 0.1208 - acc: 0.8302\n",
      "Epoch 89/100\n",
      "736/736 [==============================] - 0s 168us/step - loss: 0.1207 - acc: 0.8342\n",
      "Epoch 90/100\n",
      "736/736 [==============================] - 0s 152us/step - loss: 0.1206 - acc: 0.8342\n",
      "Epoch 91/100\n",
      "736/736 [==============================] - 0s 164us/step - loss: 0.1204 - acc: 0.8356\n",
      "Epoch 92/100\n",
      "736/736 [==============================] - 0s 159us/step - loss: 0.1203 - acc: 0.8342\n",
      "Epoch 93/100\n",
      "736/736 [==============================] - 0s 182us/step - loss: 0.1202 - acc: 0.8342\n",
      "Epoch 94/100\n",
      "736/736 [==============================] - 0s 206us/step - loss: 0.1201 - acc: 0.8356\n",
      "Epoch 95/100\n",
      "736/736 [==============================] - 0s 198us/step - loss: 0.1199 - acc: 0.8370 0s - loss: 0.1198 - acc: 0.82\n",
      "Epoch 96/100\n",
      "736/736 [==============================] - 0s 203us/step - loss: 0.1198 - acc: 0.8356\n",
      "Epoch 97/100\n",
      "736/736 [==============================] - 0s 175us/step - loss: 0.1197 - acc: 0.8370\n",
      "Epoch 98/100\n",
      "736/736 [==============================] - 0s 178us/step - loss: 0.1196 - acc: 0.8356\n",
      "Epoch 99/100\n",
      "736/736 [==============================] - 0s 184us/step - loss: 0.1194 - acc: 0.8370\n",
      "Epoch 100/100\n",
      "736/736 [==============================] - 0s 200us/step - loss: 0.1193 - acc: 0.8370\n"
     ]
    },
    {
     "data": {
      "text/plain": [
       "<tensorflow.python.keras.callbacks.History at 0x1a3525b080>"
      ]
     },
     "execution_count": 216,
     "metadata": {},
     "output_type": "execute_result"
    }
   ],
   "source": [
    "# compiling the neural network\n",
    "classifier.compile(optimizer = 'sgd', loss = 'mean_squared_error', metrics = ['accuracy'])\n",
    "\n",
    "# fitting the model \n",
    "classifier.fit(X_train, y_train, batch_size = 10, epochs = 100)"
   ]
  },
  {
   "cell_type": "code",
   "execution_count": 217,
   "metadata": {},
   "outputs": [],
   "source": [
    "y_pred = classifier.predict(X_test)\n",
    "y_pred = y_pred.flatten().round()"
   ]
  },
  {
   "cell_type": "code",
   "execution_count": 218,
   "metadata": {},
   "outputs": [
    {
     "name": "stdout",
     "output_type": "stream",
     "text": [
      "Predicted  0.0  1.0\n",
      "Actual             \n",
      "0           56   19\n",
      "1           19   90\n"
     ]
    }
   ],
   "source": [
    "y_actu = pd.Series(y_test, name='Actual')\n",
    "y_pred = pd.Series(y_pred, name='Predicted')\n",
    "\n",
    "df_confusion = pd.crosstab(y_actu, y_pred)\n",
    "print(df_confusion)"
   ]
  },
  {
   "cell_type": "code",
   "execution_count": 219,
   "metadata": {},
   "outputs": [
    {
     "name": "stdout",
     "output_type": "stream",
     "text": [
      "Test accuracy: 79.34782608695652\n",
      "Train accuracy: 83.69565217391305\n"
     ]
    }
   ],
   "source": [
    "accuracy = 100 * np.sum(y_test == y_pred) / len(y_test)\n",
    "print(\"Test accuracy:\", accuracy)\n",
    "\n",
    "y_train_pred = classifier.predict(X_train).flatten().round()\n",
    "accuracy_train = 100 * np.sum(y_train == y_train_pred) / len(y_train)\n",
    "print(\"Train accuracy:\", accuracy_train)"
   ]
  },
  {
   "cell_type": "markdown",
   "metadata": {},
   "source": [
    "## Decision Tree classifier"
   ]
  },
  {
   "cell_type": "code",
   "execution_count": 220,
   "metadata": {},
   "outputs": [],
   "source": [
    "def get_accuracy():\n",
    "    print(\"Sklearn accuracy:\", sklearn.metrics.accuracy_score(y_test, y_pred))\n",
    "    print(\"\\nConfusion matrix (predicted vs actual)\")\n",
    "    print(pd.DataFrame(np.c_[sklearn.metrics.confusion_matrix(y_test, y_pred)]))  "
   ]
  },
  {
   "cell_type": "code",
   "execution_count": 221,
   "metadata": {},
   "outputs": [
    {
     "name": "stdout",
     "output_type": "stream",
     "text": [
      "Sklearn accuracy: 0.6847826086956522\n",
      "\n",
      "Confusion matrix (predicted vs actual)\n",
      "    0   1\n",
      "0  49  26\n",
      "1  32  77\n"
     ]
    }
   ],
   "source": [
    "from sklearn.tree import DecisionTreeClassifier  \n",
    "\n",
    "# Create a decision tree Classifier\n",
    "classifier = DecisionTreeClassifier()  \n",
    "\n",
    "# Fit the model\n",
    "classifier.fit(X_train, y_train)  \n",
    "\n",
    "# Predict the response for test dataset\n",
    "y_pred = classifier.predict(X_test)  \n",
    "\n",
    "# Get accuracy results\n",
    "get_accuracy()"
   ]
  },
  {
   "cell_type": "markdown",
   "metadata": {},
   "source": [
    "## Support Vector Machine"
   ]
  },
  {
   "cell_type": "code",
   "execution_count": 222,
   "metadata": {},
   "outputs": [
    {
     "name": "stdout",
     "output_type": "stream",
     "text": [
      "Sklearn accuracy: 0.7880434782608695\n",
      "\n",
      "Confusion matrix (predicted vs actual)\n",
      "    0   1\n",
      "0  54  21\n",
      "1  18  91\n"
     ]
    }
   ],
   "source": [
    "from sklearn.svm import SVC\n",
    "\n",
    "# Create an SVM Classifier\n",
    "classifier = SVC(kernel='linear') # Linear Kernel\n",
    "\n",
    "# Train the model and predict against the validation set\n",
    "y_pred = predict(classifier)  \n",
    "\n",
    "# Get accuracy results\n",
    "get_accuracy()"
   ]
  },
  {
   "cell_type": "markdown",
   "metadata": {},
   "source": [
    "## Logistic regression"
   ]
  },
  {
   "cell_type": "code",
   "execution_count": 223,
   "metadata": {},
   "outputs": [
    {
     "name": "stdout",
     "output_type": "stream",
     "text": [
      "Sklearn accuracy: 0.7934782608695652\n",
      "\n",
      "Confusion matrix (predicted vs actual)\n",
      "    0   1\n",
      "0  55  20\n",
      "1  18  91\n"
     ]
    }
   ],
   "source": [
    "from sklearn.linear_model import LogisticRegression\n",
    "\n",
    "classifier = LogisticRegression(random_state=0, solver='lbfgs', multi_class='multinomial')\n",
    "\n",
    "# Fit the model\n",
    "classifier.fit(X_train, y_train)  \n",
    "\n",
    "# Predict the response for test dataset\n",
    "y_pred = classifier.predict(X_test)  \n",
    "\n",
    "# Get accuracy results\n",
    "get_accuracy()"
   ]
  }
 ],
 "metadata": {
  "kernelspec": {
   "display_name": "conda env tensorflow",
   "language": "python",
   "name": "tensorflow"
  },
  "language_info": {
   "codemirror_mode": {
    "name": "ipython",
    "version": 3
   },
   "file_extension": ".py",
   "mimetype": "text/x-python",
   "name": "python",
   "nbconvert_exporter": "python",
   "pygments_lexer": "ipython3",
   "version": "3.6.6"
  }
 },
 "nbformat": 4,
 "nbformat_minor": 2
}
