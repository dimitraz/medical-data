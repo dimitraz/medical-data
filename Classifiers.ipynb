{
 "cells": [
  {
   "cell_type": "markdown",
   "metadata": {},
   "source": [
    "# Classifier training"
   ]
  },
  {
   "cell_type": "code",
   "execution_count": 103,
   "metadata": {},
   "outputs": [],
   "source": [
    "import pandas as pd\n",
    "import numpy as np\n",
    "import tensorflow as tf\n",
    "import scipy.stats as sm\n",
    "import sklearn\n",
    "import matplotlib.pyplot as plt\n",
    "import seaborn as sns\n",
    "\n",
    "sns.set()"
   ]
  },
  {
   "cell_type": "markdown",
   "metadata": {},
   "source": [
    "# Loading the data"
   ]
  },
  {
   "cell_type": "code",
   "execution_count": 104,
   "metadata": {},
   "outputs": [
    {
     "name": "stdout",
     "output_type": "stream",
     "text": [
      "    age  sex  chest_pain  rest_blood_pressure  cholestorol  fast_blood_sugar  \\\n",
      "0  63.0  1.0         1.0                145.0        233.0               1.0   \n",
      "1  67.0  1.0         4.0                160.0        286.0               0.0   \n",
      "2  67.0  1.0         4.0                120.0        229.0               0.0   \n",
      "3  37.0  1.0         3.0                130.0        250.0               0.0   \n",
      "4  41.0  0.0         2.0                130.0        204.0               0.0   \n",
      "\n",
      "   rest_ecg  max_heart_rate  exercise_angina  st_depression  ...    age_young  \\\n",
      "0       2.0           150.0              0.0            2.3  ...         True   \n",
      "1       2.0           108.0              1.0            1.5  ...         True   \n",
      "2       2.0           129.0              1.0            2.6  ...         True   \n",
      "3       0.0           187.0              0.0            3.5  ...        False   \n",
      "4       2.0           172.0              0.0            1.4  ...        False   \n",
      "\n",
      "   age_middle   bp_1   bp_2   bp_3   bp_4   ch_1   ch_2   ch_3   ch_4  \n",
      "0       False  False  False  False   True  False   True  False  False  \n",
      "1       False  False  False  False   True  False  False  False   True  \n",
      "2       False   True  False  False  False  False   True  False  False  \n",
      "3       False  False  False   True  False  False  False   True  False  \n",
      "4       False  False  False   True  False   True  False  False  False  \n",
      "\n",
      "[5 rows x 25 columns]\n"
     ]
    }
   ],
   "source": [
    "df = pd.read_csv('data/out.csv')\n",
    "print(df.head())"
   ]
  },
  {
   "cell_type": "code",
   "execution_count": 105,
   "metadata": {},
   "outputs": [],
   "source": [
    "y = df[\"target\"]\n",
    "X = df.drop(\"target\", axis=1)"
   ]
  },
  {
   "cell_type": "markdown",
   "metadata": {},
   "source": [
    "## Split data\n",
    "Splitting the data into two sets (`train` and `test`) means that the test set can be used as a new, unbiased dataset to evaluate the performance of the model against. This also helps detect the phenomenon of overfitting, where a model is extremely tailored to the training dataset, and therefore performs poorly on unseen datasets.\n",
    "\n",
    "In this case, 80% of the samples will go to the training set, and the remaining 20 will go to the test set."
   ]
  },
  {
   "cell_type": "code",
   "execution_count": 106,
   "metadata": {},
   "outputs": [
    {
     "name": "stdout",
     "output_type": "stream",
     "text": [
      "X_train: (736, 24) X_test: (184, 24)\n",
      "y_train: (736,) y_test: (184,)\n"
     ]
    }
   ],
   "source": [
    "from sklearn.model_selection import train_test_split\n",
    "\n",
    "X_train, X_test, y_train, y_test = train_test_split(X, y, test_size = 0.2)\n",
    "print(\"X_train:\", X_train.shape, \"X_test:\", X_test.shape)\n",
    "print(\"y_train:\", y_train.shape, \"y_test:\", y_test.shape)"
   ]
  },
  {
   "cell_type": "markdown",
   "metadata": {},
   "source": [
    "### Dummy Variables\n"
   ]
  },
  {
   "cell_type": "code",
   "execution_count": 107,
   "metadata": {},
   "outputs": [],
   "source": [
    "df_train = pd.get_dummies(data=X_train, drop_first=True)\n",
    "df_test = pd.get_dummies(data=X_test, drop_first=True)"
   ]
  },
  {
   "cell_type": "markdown",
   "metadata": {},
   "source": [
    "## Scale data\n",
    "Variables with much broader ranges of values might disproportionately effect the final model, so standardising the data ensures that all features are proportionately weighted. \n",
    "\n",
    "The formula used for feature standardisation transforms each feature to have zero-mean and unit-variance:\n",
    "\n",
    "$ \\large{x' = \\frac{x - \\overline{x}}{\\sigma}} $\n",
    "\n",
    "Where $x$ is the original feature vector, $ \\bar{x}=average(x)$ is the mean of that feature vector, and $\\sigma$ is its standard deviation."
   ]
  },
  {
   "cell_type": "code",
   "execution_count": 108,
   "metadata": {},
   "outputs": [
    {
     "name": "stderr",
     "output_type": "stream",
     "text": [
      "/anaconda3/lib/python3.6/site-packages/sklearn/preprocessing/data.py:625: DataConversionWarning: Data with input dtype bool, float64 were all converted to float64 by StandardScaler.\n",
      "  return self.partial_fit(X, y)\n",
      "/anaconda3/lib/python3.6/site-packages/sklearn/base.py:462: DataConversionWarning: Data with input dtype bool, float64 were all converted to float64 by StandardScaler.\n",
      "  return self.fit(X, **fit_params).transform(X)\n",
      "/anaconda3/lib/python3.6/site-packages/ipykernel_launcher.py:5: DataConversionWarning: Data with input dtype bool, float64 were all converted to float64 by StandardScaler.\n",
      "  \"\"\"\n"
     ]
    }
   ],
   "source": [
    "from sklearn.preprocessing import StandardScaler\n",
    "\n",
    "sc = StandardScaler()\n",
    "X_train = sc.fit_transform(X_train)\n",
    "X_test = sc.transform(X_test)"
   ]
  },
  {
   "cell_type": "markdown",
   "metadata": {},
   "source": [
    "# Training the classifiers\n",
    "The following models will be compared:\n",
    "\n",
    "Using `sklearn`: \n",
    "- Decision tree \n",
    "- Support Vector Machine\n",
    "- Logistic Regression\n",
    "- Random Forest\n",
    "\n",
    "Using `Tensorflow`:\n",
    "- Artificial Neural Network"
   ]
  },
  {
   "cell_type": "markdown",
   "metadata": {},
   "source": [
    "## Decision Tree classifier"
   ]
  },
  {
   "cell_type": "code",
   "execution_count": 109,
   "metadata": {},
   "outputs": [],
   "source": [
    "def get_accuracy():\n",
    "    print(\"Sklearn accuracy:\", sklearn.metrics.accuracy_score(y_test, y_pred))\n",
    "    print(\"Sklearn recall:\", sklearn.metrics.recall_score(y_test, y_pred, average='micro'))\n",
    "    print(\"\\nConfusion matrix (predicted vs actual)\")\n",
    "    print(pd.DataFrame(np.c_[sklearn.metrics.confusion_matrix(y_test, y_pred)]))  "
   ]
  },
  {
   "cell_type": "code",
   "execution_count": 110,
   "metadata": {
    "scrolled": true
   },
   "outputs": [
    {
     "name": "stdout",
     "output_type": "stream",
     "text": [
      "Sklearn accuracy: 0.5163043478260869\n",
      "Sklearn recall: 0.5163043478260869\n",
      "\n",
      "Confusion matrix (predicted vs actual)\n",
      "    0   1  2  3  4\n",
      "0  69   6  5  6  2\n",
      "1   9  11  6  8  2\n",
      "2   8   6  7  4  1\n",
      "3   5   5  5  7  3\n",
      "4   1   1  4  2  1\n"
     ]
    }
   ],
   "source": [
    "from sklearn.tree import DecisionTreeClassifier  \n",
    "\n",
    "# Create a decision tree Classifier\n",
    "classifier = DecisionTreeClassifier()  \n",
    "\n",
    "# Fit the model\n",
    "classifier.fit(X_train, y_train)  \n",
    "\n",
    "# Predict the response for test dataset\n",
    "y_pred = classifier.predict(X_test)  \n",
    "\n",
    "# Get accuracy results\n",
    "get_accuracy()"
   ]
  },
  {
   "cell_type": "markdown",
   "metadata": {},
   "source": [
    "### Hyperparamater tuning\n",
    "Testing combinations of possible hyperparameters to attempt to improve the model's recall search. This is done with `Random Search` over `Grid Search` for efficiency"
   ]
  },
  {
   "cell_type": "code",
   "execution_count": 111,
   "metadata": {
    "scrolled": true
   },
   "outputs": [
    {
     "name": "stdout",
     "output_type": "stream",
     "text": [
      "CPU times: user 201 ms, sys: 80.2 ms, total: 281 ms\n",
      "Wall time: 3.41 s\n",
      "Score: 0.4834708338475462\n",
      "Best parameters: {'splitter': 'best', 'min_samples_split': 2, 'min_samples_leaf': 3, 'max_depth': 5, 'criterion': 'gini'}\n"
     ]
    }
   ],
   "source": [
    "from sklearn.model_selection import RandomizedSearchCV\n",
    "\n",
    "param_grid = {\n",
    "    'max_depth': range(1, 10),\n",
    "    'splitter': ['best', 'random'],\n",
    "    'criterion': ['gini', 'entropy'],\n",
    "    'max_depth': range(2, 15),\n",
    "    'min_samples_split': range(2, 5),\n",
    "    'min_samples_leaf': range(2, 5)\n",
    "}\n",
    "\n",
    "rs = RandomizedSearchCV(\n",
    "    estimator=DecisionTreeClassifier(),\n",
    "    iid=False,\n",
    "    return_train_score=True,\n",
    "    param_distributions=param_grid, \n",
    "    scoring='recall_micro', \n",
    "    cv=10, \n",
    "    n_jobs=-1)\n",
    "\n",
    "%time rs = rs.fit(X_train, y_train)\n",
    "print(\"Score:\", rs.best_score_)\n",
    "print(\"Best parameters:\", rs.best_params_)"
   ]
  },
  {
   "cell_type": "markdown",
   "metadata": {},
   "source": [
    "## Support Vector Machine"
   ]
  },
  {
   "cell_type": "code",
   "execution_count": 112,
   "metadata": {},
   "outputs": [
    {
     "name": "stdout",
     "output_type": "stream",
     "text": [
      "Sklearn accuracy: 0.532608695652174\n",
      "Sklearn recall: 0.532608695652174\n",
      "\n",
      "Confusion matrix (predicted vs actual)\n",
      "    0   1  2  3  4\n",
      "0  73   5  3  7  0\n",
      "1  14  10  7  5  0\n",
      "2   4   9  6  7  0\n",
      "3   3   7  6  9  0\n",
      "4   1   1  4  3  0\n"
     ]
    }
   ],
   "source": [
    "from sklearn.svm import SVC\n",
    "\n",
    "# Create an SVM Classifier\n",
    "classifier = SVC(kernel='linear') # Linear Kernel\n",
    "\n",
    "# Fit the model\n",
    "classifier.fit(X_train, y_train)  \n",
    "\n",
    "# Train the model and predict against the validation set\n",
    "y_pred = classifier.predict(X_test)  \n",
    "\n",
    "# Get accuracy results\n",
    "get_accuracy()"
   ]
  },
  {
   "cell_type": "markdown",
   "metadata": {},
   "source": [
    "### Hyperparameter tuning"
   ]
  },
  {
   "cell_type": "code",
   "execution_count": 113,
   "metadata": {},
   "outputs": [
    {
     "name": "stdout",
     "output_type": "stream",
     "text": [
      "CPU times: user 315 ms, sys: 38.2 ms, total: 353 ms\n",
      "Wall time: 5.05 s\n",
      "Score: 0.5174056727960836\n",
      "Best parameters: {'kernel': 'linear', 'gamma': 3.593813663804626, 'degree': 1, 'C': 0.2782559402207124}\n"
     ]
    }
   ],
   "source": [
    "param_range = np.logspace(-1, 1, 10)\n",
    "param_grid = {\n",
    "        'C': param_range,\n",
    "        'gamma': param_range,\n",
    "        'kernel': ['linear'],\n",
    "        'degree': range(1, 7)\n",
    "}\n",
    "\n",
    "rs = RandomizedSearchCV(\n",
    "    estimator=SVC(),\n",
    "    iid=False,\n",
    "    return_train_score=True,\n",
    "    param_distributions=param_grid, \n",
    "    scoring='recall_micro', \n",
    "    cv=10, \n",
    "    n_jobs=-1)\n",
    "\n",
    "%time rs = rs.fit(X_train, y_train)\n",
    "print(\"Score:\", rs.best_score_)\n",
    "print(\"Best parameters:\", rs.best_params_)"
   ]
  },
  {
   "cell_type": "markdown",
   "metadata": {},
   "source": [
    "## Logistic regression"
   ]
  },
  {
   "cell_type": "code",
   "execution_count": 114,
   "metadata": {},
   "outputs": [
    {
     "name": "stdout",
     "output_type": "stream",
     "text": [
      "Sklearn accuracy: 0.5271739130434783\n",
      "Sklearn recall: 0.5271739130434783\n",
      "\n",
      "Confusion matrix (predicted vs actual)\n",
      "    0   1  2  3  4\n",
      "0  72   8  1  7  0\n",
      "1  14  12  6  4  0\n",
      "2   4  10  4  8  0\n",
      "3   3   8  6  8  0\n",
      "4   1   2  2  3  1\n"
     ]
    }
   ],
   "source": [
    "from sklearn.linear_model import LogisticRegression\n",
    "\n",
    "classifier = LogisticRegression(random_state=0, solver='lbfgs', multi_class='multinomial')\n",
    "\n",
    "# Fit the model\n",
    "classifier.fit(X_train, y_train)  \n",
    "\n",
    "# Predict the response for test dataset\n",
    "y_pred = classifier.predict(X_test)  \n",
    "\n",
    "# Get accuracy results\n",
    "get_accuracy()"
   ]
  },
  {
   "cell_type": "markdown",
   "metadata": {},
   "source": [
    "### Hyperparameter tuning"
   ]
  },
  {
   "cell_type": "code",
   "execution_count": 115,
   "metadata": {},
   "outputs": [
    {
     "name": "stdout",
     "output_type": "stream",
     "text": [
      "CPU times: user 215 ms, sys: 27.5 ms, total: 243 ms\n",
      "Wall time: 2.24 s\n",
      "Score: 0.528145398823481\n",
      "Best parameters: {'penalty': 'l1', 'C': 0.21544346900318834}\n"
     ]
    }
   ],
   "source": [
    "param_range = np.logspace(-2, 2, 10)\n",
    "param_grid = {\n",
    "    'C': param_range,\n",
    "    'penalty': ['l1', 'l2']\n",
    "}\n",
    "\n",
    "rs = RandomizedSearchCV(\n",
    "    estimator=LogisticRegression(solver='liblinear', multi_class='auto'),\n",
    "    iid=False,\n",
    "    return_train_score=True,\n",
    "    param_distributions=param_grid, \n",
    "    scoring='recall_micro', \n",
    "    cv=10, \n",
    "    n_jobs=-1)\n",
    "\n",
    "%time rs = rs.fit(X_train, y_train)\n",
    "print(\"Score:\", rs.best_score_)\n",
    "print(\"Best parameters:\", rs.best_params_)"
   ]
  },
  {
   "cell_type": "markdown",
   "metadata": {},
   "source": [
    "## Random Forest"
   ]
  },
  {
   "cell_type": "code",
   "execution_count": 116,
   "metadata": {},
   "outputs": [
    {
     "name": "stdout",
     "output_type": "stream",
     "text": [
      "Sklearn accuracy: 0.5108695652173914\n",
      "Sklearn recall: 0.5108695652173914\n",
      "\n",
      "Confusion matrix (predicted vs actual)\n",
      "    0  1  2  3  4\n",
      "0  87  1  0  0  0\n",
      "1  29  7  0  0  0\n",
      "2  19  7  0  0  0\n",
      "3  16  9  0  0  0\n",
      "4   3  6  0  0  0\n"
     ]
    }
   ],
   "source": [
    "from sklearn.ensemble import RandomForestClassifier\n",
    "\n",
    "classifier = clf = RandomForestClassifier(n_estimators=100, max_depth=2, random_state=0)\n",
    "\n",
    "# Fit the model\n",
    "classifier.fit(X_train, y_train)  \n",
    "\n",
    "# Predict the response for test dataset\n",
    "y_pred = classifier.predict(X_test)  \n",
    "\n",
    "# Get accuracy results\n",
    "get_accuracy()"
   ]
  },
  {
   "cell_type": "markdown",
   "metadata": {},
   "source": [
    "### Hyperparameter tuning"
   ]
  },
  {
   "cell_type": "code",
   "execution_count": 117,
   "metadata": {},
   "outputs": [
    {
     "name": "stdout",
     "output_type": "stream",
     "text": [
      "CPU times: user 177 ms, sys: 14 ms, total: 191 ms\n",
      "Wall time: 853 ms\n",
      "Score: 0.5161648977744869\n",
      "Best parameters: {'n_estimators': 9, 'min_samples_split': 4, 'min_samples_leaf': 4, 'max_depth': 5, 'criterion': 'entropy'}\n"
     ]
    }
   ],
   "source": [
    "param_range = np.logspace(-6, 4, 20)\n",
    "param_grid = {\n",
    "    'max_depth': [10, 50, 100],\n",
    "    'n_estimators': range(1, 10),\n",
    "    'criterion': ['gini', 'entropy'],\n",
    "    'max_depth': range(2, 15),\n",
    "    'min_samples_split': range(2, 5),\n",
    "    'min_samples_leaf': range(2, 5)\n",
    "}\n",
    "\n",
    "rs = RandomizedSearchCV(\n",
    "    estimator=RandomForestClassifier(),\n",
    "    iid=False,\n",
    "    return_train_score=True,\n",
    "    param_distributions=param_grid, \n",
    "    scoring='recall_micro', \n",
    "    cv=10, \n",
    "    n_jobs=-1)\n",
    "\n",
    "%time rs = rs.fit(X_train, y_train)\n",
    "print(\"Score:\", rs.best_score_)\n",
    "print(\"Best parameters:\", rs.best_params_)"
   ]
  },
  {
   "cell_type": "markdown",
   "metadata": {},
   "source": [
    "**Comments**:\n",
    "- Logistic regresion performs the best, achieving the highest recall score (around `0.58`)\n",
    "- Hyperparameter tuning improves the score slightly. Better results could be achieved by adding wider parameter searches or performing Grid Search but these would need exponentially more compute power"
   ]
  },
  {
   "cell_type": "markdown",
   "metadata": {},
   "source": [
    "## Neural Network\n",
    "\n",
    "The Neural Network was built with trial and error, until the best performing network was found. \n",
    "It contains:\n",
    "- 13 input nodes, which correspond to the 13 input features\n",
    "- 6 nodes in the first hidden layer, which uses the `ReLU` activation function and the `uniform` bias initialiser\n",
    "- 13 nodes in the second hidden layer, which also uses the `ReLU` activation function\n",
    "- 1 output layer with 4 nodes, which uses the `Softmax` activation function. This layer outputs a prediction of the level of severity of heart disease (`0` = absence, `1-4` = presence) \n",
    "- Categorical cross entropy (`categorical_crossentropy`) for calculating the loss function\n",
    "- Adam (`adam`) algorithm for optimising the loss function\n",
    "\n",
    "<img src=\"data/nn3.png\" width=\"600\" />"
   ]
  },
  {
   "cell_type": "code",
   "execution_count": 118,
   "metadata": {},
   "outputs": [],
   "source": [
    "df = pd.read_csv('data/out.csv')\n",
    "\n",
    "drop = ['target', 'age_mature', 'age_young', 'age_middle', 'bp_1', 'bp_2', 'bp_3', 'bp_4',\n",
    "       'ch_1', 'ch_2', 'ch_3', 'ch_4']\n",
    "\n",
    "y = df[\"target\"]\n",
    "X = df.drop(drop, axis=1)"
   ]
  },
  {
   "cell_type": "code",
   "execution_count": 119,
   "metadata": {},
   "outputs": [
    {
     "name": "stdout",
     "output_type": "stream",
     "text": [
      "X_train: (736, 13) X_test: (184, 13)\n",
      "y_train: (736, 5) y_test: (184, 5)\n"
     ]
    }
   ],
   "source": [
    "from sklearn.preprocessing import OneHotEncoder\n",
    "\n",
    "encoder = OneHotEncoder(sparse=False,  categories='auto')\n",
    "y = encoder.fit_transform(y.values.reshape(-1, 1))\n",
    "\n",
    "X_train, X_test, y_train, y_test = train_test_split(X, y, test_size = 0.2)\n",
    "print(\"X_train:\", X_train.shape, \"X_test:\", X_test.shape)\n",
    "print(\"y_train:\", y_train.shape, \"y_test:\", y_test.shape)"
   ]
  },
  {
   "cell_type": "code",
   "execution_count": 120,
   "metadata": {},
   "outputs": [],
   "source": [
    "sc = StandardScaler()\n",
    "X_train = sc.fit_transform(X_train)\n",
    "X_test = sc.transform(X_test)"
   ]
  },
  {
   "cell_type": "code",
   "execution_count": 121,
   "metadata": {},
   "outputs": [],
   "source": [
    "import tensorflow as tf\n",
    "from tensorflow import keras\n",
    "\n",
    "classifier = keras.Sequential()\n",
    "\n",
    "# adding the input layer (input_dim) and the first hidden layer\n",
    "classifier.add(keras.layers.Dense(6, bias_initializer = 'uniform', activation = 'relu', input_dim = X_train.shape[1], name='hidden_1'))\n",
    "\n",
    "# adding the second and third hidden layers\n",
    "classifier.add(keras.layers.Dense(13, activation='relu', name='hidden_2'))\n",
    "\n",
    "# adding the output layer\n",
    "classifier.add(keras.layers.Dense(y_train.shape[1], activation='softmax', name='output'))\n"
   ]
  },
  {
   "cell_type": "code",
   "execution_count": 122,
   "metadata": {},
   "outputs": [],
   "source": [
    "# compiling the neural network\n",
    "# classifier.compile(optimizer = 'sgd', loss = 'mean_squared_error', metrics = ['recall'])\n",
    "classifier.compile(loss = 'categorical_crossentropy' , optimizer = 'adam' , metrics = ['accuracy'] )\n"
   ]
  },
  {
   "cell_type": "code",
   "execution_count": 123,
   "metadata": {},
   "outputs": [
    {
     "name": "stdout",
     "output_type": "stream",
     "text": [
      "_________________________________________________________________\n",
      "Layer (type)                 Output Shape              Param #   \n",
      "=================================================================\n",
      "hidden_1 (Dense)             (None, 6)                 84        \n",
      "_________________________________________________________________\n",
      "hidden_2 (Dense)             (None, 13)                91        \n",
      "_________________________________________________________________\n",
      "output (Dense)               (None, 5)                 70        \n",
      "=================================================================\n",
      "Total params: 245\n",
      "Trainable params: 245\n",
      "Non-trainable params: 0\n",
      "_________________________________________________________________\n"
     ]
    }
   ],
   "source": [
    "classifier.summary()"
   ]
  },
  {
   "cell_type": "code",
   "execution_count": 124,
   "metadata": {},
   "outputs": [
    {
     "name": "stdout",
     "output_type": "stream",
     "text": [
      "Epoch 1/100\n",
      "736/736 [==============================] - 1s 832us/step - loss: 1.6815 - acc: 0.2582\n",
      "Epoch 2/100\n",
      "736/736 [==============================] - 0s 226us/step - loss: 1.5014 - acc: 0.3845\n",
      "Epoch 3/100\n",
      "736/736 [==============================] - 0s 223us/step - loss: 1.3792 - acc: 0.4986\n",
      "Epoch 4/100\n",
      "736/736 [==============================] - 0s 150us/step - loss: 1.2948 - acc: 0.4918\n",
      "Epoch 5/100\n",
      "736/736 [==============================] - 0s 151us/step - loss: 1.2290 - acc: 0.5054\n",
      "Epoch 6/100\n",
      "736/736 [==============================] - 0s 207us/step - loss: 1.1854 - acc: 0.5149\n",
      "Epoch 7/100\n",
      "736/736 [==============================] - 0s 186us/step - loss: 1.1566 - acc: 0.5217\n",
      "Epoch 8/100\n",
      "736/736 [==============================] - 0s 180us/step - loss: 1.1367 - acc: 0.5476\n",
      "Epoch 9/100\n",
      "736/736 [==============================] - 0s 180us/step - loss: 1.1207 - acc: 0.5435\n",
      "Epoch 10/100\n",
      "736/736 [==============================] - 0s 180us/step - loss: 1.1085 - acc: 0.5367\n",
      "Epoch 11/100\n",
      "736/736 [==============================] - 0s 190us/step - loss: 1.0996 - acc: 0.5394\n",
      "Epoch 12/100\n",
      "736/736 [==============================] - 0s 245us/step - loss: 1.0904 - acc: 0.5435\n",
      "Epoch 13/100\n",
      "736/736 [==============================] - 0s 170us/step - loss: 1.0839 - acc: 0.5476\n",
      "Epoch 14/100\n",
      "736/736 [==============================] - 0s 136us/step - loss: 1.0785 - acc: 0.5598\n",
      "Epoch 15/100\n",
      "736/736 [==============================] - 0s 131us/step - loss: 1.0748 - acc: 0.5639\n",
      "Epoch 16/100\n",
      "736/736 [==============================] - 0s 170us/step - loss: 1.0699 - acc: 0.5584\n",
      "Epoch 17/100\n",
      "736/736 [==============================] - 0s 233us/step - loss: 1.0652 - acc: 0.5639\n",
      "Epoch 18/100\n",
      "736/736 [==============================] - 0s 166us/step - loss: 1.0623 - acc: 0.5557\n",
      "Epoch 19/100\n",
      "736/736 [==============================] - 0s 159us/step - loss: 1.0596 - acc: 0.5598\n",
      "Epoch 20/100\n",
      "736/736 [==============================] - 0s 158us/step - loss: 1.0563 - acc: 0.5543\n",
      "Epoch 21/100\n",
      "736/736 [==============================] - 0s 150us/step - loss: 1.0532 - acc: 0.5625\n",
      "Epoch 22/100\n",
      "736/736 [==============================] - 0s 207us/step - loss: 1.0521 - acc: 0.5625\n",
      "Epoch 23/100\n",
      "736/736 [==============================] - 0s 194us/step - loss: 1.0485 - acc: 0.5639\n",
      "Epoch 24/100\n",
      "736/736 [==============================] - 0s 215us/step - loss: 1.0467 - acc: 0.5734\n",
      "Epoch 25/100\n",
      "736/736 [==============================] - 0s 167us/step - loss: 1.0451 - acc: 0.5679\n",
      "Epoch 26/100\n",
      "736/736 [==============================] - 0s 145us/step - loss: 1.0430 - acc: 0.5734\n",
      "Epoch 27/100\n",
      "736/736 [==============================] - 0s 141us/step - loss: 1.0411 - acc: 0.5679\n",
      "Epoch 28/100\n",
      "736/736 [==============================] - 0s 200us/step - loss: 1.0395 - acc: 0.5734\n",
      "Epoch 29/100\n",
      "736/736 [==============================] - 0s 254us/step - loss: 1.0386 - acc: 0.5761\n",
      "Epoch 30/100\n",
      "736/736 [==============================] - 0s 228us/step - loss: 1.0362 - acc: 0.5734\n",
      "Epoch 31/100\n",
      "736/736 [==============================] - 0s 172us/step - loss: 1.0344 - acc: 0.5747\n",
      "Epoch 32/100\n",
      "736/736 [==============================] - 0s 174us/step - loss: 1.0332 - acc: 0.5761\n",
      "Epoch 33/100\n",
      "736/736 [==============================] - 0s 183us/step - loss: 1.0318 - acc: 0.5734\n",
      "Epoch 34/100\n",
      "736/736 [==============================] - 0s 172us/step - loss: 1.0290 - acc: 0.5788\n",
      "Epoch 35/100\n",
      "736/736 [==============================] - 0s 186us/step - loss: 1.0284 - acc: 0.5829\n",
      "Epoch 36/100\n",
      "736/736 [==============================] - 0s 192us/step - loss: 1.0271 - acc: 0.5870\n",
      "Epoch 37/100\n",
      "736/736 [==============================] - 0s 201us/step - loss: 1.0275 - acc: 0.5842\n",
      "Epoch 38/100\n",
      "736/736 [==============================] - 0s 189us/step - loss: 1.0250 - acc: 0.5815\n",
      "Epoch 39/100\n",
      "736/736 [==============================] - 0s 227us/step - loss: 1.0226 - acc: 0.5761\n",
      "Epoch 40/100\n",
      "736/736 [==============================] - 0s 201us/step - loss: 1.0232 - acc: 0.5883\n",
      "Epoch 41/100\n",
      "736/736 [==============================] - 0s 214us/step - loss: 1.0208 - acc: 0.5910\n",
      "Epoch 42/100\n",
      "736/736 [==============================] - 0s 210us/step - loss: 1.0191 - acc: 0.5829\n",
      "Epoch 43/100\n",
      "736/736 [==============================] - 0s 212us/step - loss: 1.0185 - acc: 0.5856\n",
      "Epoch 44/100\n",
      "736/736 [==============================] - 0s 236us/step - loss: 1.0169 - acc: 0.5802\n",
      "Epoch 45/100\n",
      "736/736 [==============================] - 0s 224us/step - loss: 1.0164 - acc: 0.5829\n",
      "Epoch 46/100\n",
      "736/736 [==============================] - 0s 188us/step - loss: 1.0154 - acc: 0.5788\n",
      "Epoch 47/100\n",
      "736/736 [==============================] - 0s 199us/step - loss: 1.0133 - acc: 0.5829\n",
      "Epoch 48/100\n",
      "736/736 [==============================] - 0s 170us/step - loss: 1.0134 - acc: 0.5883\n",
      "Epoch 49/100\n",
      "736/736 [==============================] - 0s 151us/step - loss: 1.0119 - acc: 0.5842\n",
      "Epoch 50/100\n",
      "736/736 [==============================] - 0s 148us/step - loss: 1.0109 - acc: 0.5829\n",
      "Epoch 51/100\n",
      "736/736 [==============================] - 0s 156us/step - loss: 1.0094 - acc: 0.5842\n",
      "Epoch 52/100\n",
      "736/736 [==============================] - 0s 162us/step - loss: 1.0087 - acc: 0.5883\n",
      "Epoch 53/100\n",
      "736/736 [==============================] - 0s 176us/step - loss: 1.0076 - acc: 0.5774\n",
      "Epoch 54/100\n",
      "736/736 [==============================] - 0s 146us/step - loss: 1.0063 - acc: 0.5815\n",
      "Epoch 55/100\n",
      "736/736 [==============================] - 0s 122us/step - loss: 1.0050 - acc: 0.5870\n",
      "Epoch 56/100\n",
      "736/736 [==============================] - 0s 136us/step - loss: 1.0026 - acc: 0.5870\n",
      "Epoch 57/100\n",
      "736/736 [==============================] - 0s 125us/step - loss: 1.0013 - acc: 0.5870\n",
      "Epoch 58/100\n",
      "736/736 [==============================] - 0s 132us/step - loss: 1.0020 - acc: 0.5842\n",
      "Epoch 59/100\n",
      "736/736 [==============================] - 0s 124us/step - loss: 0.9997 - acc: 0.5856\n",
      "Epoch 60/100\n",
      "736/736 [==============================] - 0s 128us/step - loss: 0.9987 - acc: 0.5815\n",
      "Epoch 61/100\n",
      "736/736 [==============================] - 0s 134us/step - loss: 0.9974 - acc: 0.5897\n",
      "Epoch 62/100\n",
      "736/736 [==============================] - 0s 144us/step - loss: 0.9977 - acc: 0.5856\n",
      "Epoch 63/100\n",
      "736/736 [==============================] - 0s 242us/step - loss: 0.9968 - acc: 0.5910\n",
      "Epoch 64/100\n",
      "736/736 [==============================] - 0s 161us/step - loss: 0.9970 - acc: 0.5870\n",
      "Epoch 65/100\n",
      "736/736 [==============================] - 0s 143us/step - loss: 0.9948 - acc: 0.5842\n",
      "Epoch 66/100\n",
      "736/736 [==============================] - 0s 139us/step - loss: 0.9940 - acc: 0.5870\n",
      "Epoch 67/100\n",
      "736/736 [==============================] - 0s 138us/step - loss: 0.9941 - acc: 0.5815\n",
      "Epoch 68/100\n",
      "736/736 [==============================] - 0s 139us/step - loss: 0.9925 - acc: 0.5870\n",
      "Epoch 69/100\n",
      "736/736 [==============================] - 0s 138us/step - loss: 0.9922 - acc: 0.5829\n",
      "Epoch 70/100\n",
      "736/736 [==============================] - 0s 131us/step - loss: 0.9922 - acc: 0.5870\n",
      "Epoch 71/100\n",
      "736/736 [==============================] - 0s 149us/step - loss: 0.9903 - acc: 0.5870\n",
      "Epoch 72/100\n",
      "736/736 [==============================] - 0s 138us/step - loss: 0.9902 - acc: 0.5978\n",
      "Epoch 73/100\n",
      "736/736 [==============================] - 0s 167us/step - loss: 0.9882 - acc: 0.5978\n",
      "Epoch 74/100\n",
      "736/736 [==============================] - 0s 197us/step - loss: 0.9880 - acc: 0.5951\n",
      "Epoch 75/100\n",
      "736/736 [==============================] - 0s 173us/step - loss: 0.9875 - acc: 0.5924\n",
      "Epoch 76/100\n",
      "736/736 [==============================] - 0s 158us/step - loss: 0.9879 - acc: 0.5938\n",
      "Epoch 77/100\n",
      "736/736 [==============================] - 0s 164us/step - loss: 0.9861 - acc: 0.5924\n",
      "Epoch 78/100\n",
      "736/736 [==============================] - 0s 151us/step - loss: 0.9859 - acc: 0.5951\n",
      "Epoch 79/100\n",
      "736/736 [==============================] - 0s 179us/step - loss: 0.9870 - acc: 0.5978\n",
      "Epoch 80/100\n",
      "736/736 [==============================] - 0s 240us/step - loss: 0.9841 - acc: 0.5992\n",
      "Epoch 81/100\n",
      "736/736 [==============================] - 0s 299us/step - loss: 0.9827 - acc: 0.5978\n",
      "Epoch 82/100\n",
      "736/736 [==============================] - 0s 159us/step - loss: 0.9830 - acc: 0.5992\n",
      "Epoch 83/100\n"
     ]
    },
    {
     "name": "stdout",
     "output_type": "stream",
     "text": [
      "736/736 [==============================] - 0s 173us/step - loss: 0.9818 - acc: 0.5951\n",
      "Epoch 84/100\n",
      "736/736 [==============================] - 0s 159us/step - loss: 0.9809 - acc: 0.5951\n",
      "Epoch 85/100\n",
      "736/736 [==============================] - 0s 155us/step - loss: 0.9808 - acc: 0.5992\n",
      "Epoch 86/100\n",
      "736/736 [==============================] - 0s 170us/step - loss: 0.9802 - acc: 0.5938\n",
      "Epoch 87/100\n",
      "736/736 [==============================] - 0s 167us/step - loss: 0.9796 - acc: 0.5910\n",
      "Epoch 88/100\n",
      "736/736 [==============================] - 0s 187us/step - loss: 0.9785 - acc: 0.5897\n",
      "Epoch 89/100\n",
      "736/736 [==============================] - 0s 198us/step - loss: 0.9770 - acc: 0.5938\n",
      "Epoch 90/100\n",
      "736/736 [==============================] - 0s 210us/step - loss: 0.9783 - acc: 0.6019\n",
      "Epoch 91/100\n",
      "736/736 [==============================] - 0s 161us/step - loss: 0.9761 - acc: 0.5951\n",
      "Epoch 92/100\n",
      "736/736 [==============================] - 0s 198us/step - loss: 0.9767 - acc: 0.5978\n",
      "Epoch 93/100\n",
      "736/736 [==============================] - 0s 184us/step - loss: 0.9760 - acc: 0.5965\n",
      "Epoch 94/100\n",
      "736/736 [==============================] - 0s 200us/step - loss: 0.9747 - acc: 0.6019\n",
      "Epoch 95/100\n",
      "736/736 [==============================] - 0s 160us/step - loss: 0.9759 - acc: 0.6019\n",
      "Epoch 96/100\n",
      "736/736 [==============================] - 0s 180us/step - loss: 0.9734 - acc: 0.5965\n",
      "Epoch 97/100\n",
      "736/736 [==============================] - 0s 201us/step - loss: 0.9724 - acc: 0.6019\n",
      "Epoch 98/100\n",
      "736/736 [==============================] - 0s 204us/step - loss: 0.9737 - acc: 0.5978 0s - loss: 0.9928 - acc: 0.581\n",
      "Epoch 99/100\n",
      "736/736 [==============================] - 0s 177us/step - loss: 0.9722 - acc: 0.5992\n",
      "Epoch 100/100\n",
      "736/736 [==============================] - 0s 158us/step - loss: 0.9718 - acc: 0.6073\n"
     ]
    },
    {
     "data": {
      "text/plain": [
       "<tensorflow.python.keras.callbacks.History at 0x1c2e36b978>"
      ]
     },
     "execution_count": 124,
     "metadata": {},
     "output_type": "execute_result"
    }
   ],
   "source": [
    "# fitting the model \n",
    "classifier.fit(X_train, y_train, batch_size = 10, epochs = 100)"
   ]
  },
  {
   "cell_type": "code",
   "execution_count": 125,
   "metadata": {},
   "outputs": [
    {
     "name": "stdout",
     "output_type": "stream",
     "text": [
      "184/184 [==============================] - 0s 702us/step\n",
      "Final test set loss: 1.284249\n",
      "Final test set accuracy: 0.472826\n"
     ]
    }
   ],
   "source": [
    "results = classifier.evaluate(X_test, y_test)\n",
    "\n",
    "print('Final test set loss: {:4f}'.format(results[0]))\n",
    "print('Final test set accuracy: {:4f}'.format(results[1]))"
   ]
  },
  {
   "cell_type": "code",
   "execution_count": 126,
   "metadata": {},
   "outputs": [
    {
     "name": "stdout",
     "output_type": "stream",
     "text": [
      "[[64 11  2  2  0]\n",
      " [14 11  6  9  0]\n",
      " [ 5  7  3 14  0]\n",
      " [ 7  3  7  9  0]\n",
      " [ 1  4  1  4  0]]\n"
     ]
    }
   ],
   "source": [
    "from sklearn.metrics import confusion_matrix\n",
    "\n",
    "y_pred = classifier.predict(X_test)\n",
    "cm = confusion_matrix(y_test.argmax(axis=1), y_pred.argmax(axis=1))\n",
    "print(cm)"
   ]
  },
  {
   "cell_type": "code",
   "execution_count": 127,
   "metadata": {},
   "outputs": [],
   "source": [
    "def print_cm(cm, labels, hide_zeroes=False, hide_diagonal=False, hide_threshold=None):\n",
    "    \"\"\"pretty print for confusion matrixes\"\"\"\n",
    "    columnwidth = max([len(x) for x in labels] + [5])  # 5 is value length\n",
    "    empty_cell = \" \" * columnwidth\n",
    "    # Print header\n",
    "    print(\"    \" + empty_cell, end=\" \")\n",
    "    for label in labels:\n",
    "        print(\"%{0}s\".format(columnwidth) % label, end=\" \")\n",
    "    print()\n",
    "    # Print rows\n",
    "    for i, label1 in enumerate(labels):\n",
    "        print(\"    %{0}s\".format(columnwidth) % label1, end=\" \")\n",
    "        for j in range(len(labels)):\n",
    "            cell = \"%{0}.1f\".format(columnwidth) % cm[i, j]\n",
    "            if hide_zeroes:\n",
    "                cell = cell if float(cm[i, j]) != 0 else empty_cell\n",
    "            if hide_diagonal:\n",
    "                cell = cell if i != j else empty_cell\n",
    "            if hide_threshold:\n",
    "                cell = cell if cm[i, j] > hide_threshold else empty_cell\n",
    "            print(cell, end=\" \")\n",
    "        print()"
   ]
  },
  {
   "cell_type": "code",
   "execution_count": 128,
   "metadata": {},
   "outputs": [
    {
     "name": "stdout",
     "output_type": "stream",
     "text": [
      "              0     1     2     3     4 \n",
      "        0  64.0  11.0   2.0   2.0   0.0 \n",
      "        1  14.0  11.0   6.0   9.0   0.0 \n",
      "        2   5.0   7.0   3.0  14.0   0.0 \n",
      "        3   7.0   3.0   7.0   9.0   0.0 \n",
      "        4   1.0   4.0   1.0   4.0   0.0 \n"
     ]
    }
   ],
   "source": [
    "print_cm(cm, [\"0\", \"1\", \"2\", \"3\", \"4\"])"
   ]
  },
  {
   "cell_type": "code",
   "execution_count": 129,
   "metadata": {},
   "outputs": [],
   "source": [
    "import tensorflowjs as tfjs\n",
    "tfjs.converters.save_keras_model(classifier, \".\")"
   ]
  }
 ],
 "metadata": {
  "kernelspec": {
   "display_name": "conda env tensorflow",
   "language": "python",
   "name": "tensorflow"
  },
  "language_info": {
   "codemirror_mode": {
    "name": "ipython",
    "version": 3
   },
   "file_extension": ".py",
   "mimetype": "text/x-python",
   "name": "python",
   "nbconvert_exporter": "python",
   "pygments_lexer": "ipython3",
   "version": "3.6.8"
  }
 },
 "nbformat": 4,
 "nbformat_minor": 2
}
