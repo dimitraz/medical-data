{
 "cells": [
  {
   "cell_type": "markdown",
   "metadata": {},
   "source": [
    "# Classifier training"
   ]
  },
  {
   "cell_type": "code",
   "execution_count": 1,
   "metadata": {},
   "outputs": [],
   "source": [
    "import pandas as pd\n",
    "import numpy as np\n",
    "import tensorflow as tf\n",
    "import scipy.stats as sm\n",
    "import sklearn\n",
    "import matplotlib.pyplot as plt\n",
    "import seaborn as sns\n",
    "\n",
    "sns.set()"
   ]
  },
  {
   "cell_type": "markdown",
   "metadata": {},
   "source": [
    "# Loading the data"
   ]
  },
  {
   "cell_type": "code",
   "execution_count": 2,
   "metadata": {},
   "outputs": [
    {
     "data": {
      "text/html": [
       "<div>\n",
       "<style scoped>\n",
       "    .dataframe tbody tr th:only-of-type {\n",
       "        vertical-align: middle;\n",
       "    }\n",
       "\n",
       "    .dataframe tbody tr th {\n",
       "        vertical-align: top;\n",
       "    }\n",
       "\n",
       "    .dataframe thead th {\n",
       "        text-align: right;\n",
       "    }\n",
       "</style>\n",
       "<table border=\"1\" class=\"dataframe\">\n",
       "  <thead>\n",
       "    <tr style=\"text-align: right;\">\n",
       "      <th></th>\n",
       "      <th>age</th>\n",
       "      <th>sex</th>\n",
       "      <th>chest_pain</th>\n",
       "      <th>rest_blood_pressure</th>\n",
       "      <th>cholestorol</th>\n",
       "      <th>fast_blood_sugar</th>\n",
       "      <th>rest_ecg</th>\n",
       "      <th>max_heart_rate</th>\n",
       "      <th>exercise_angina</th>\n",
       "      <th>st_depression</th>\n",
       "      <th>...</th>\n",
       "      <th>age_young</th>\n",
       "      <th>age_middle</th>\n",
       "      <th>bp_1</th>\n",
       "      <th>bp_2</th>\n",
       "      <th>bp_3</th>\n",
       "      <th>bp_4</th>\n",
       "      <th>ch_1</th>\n",
       "      <th>ch_2</th>\n",
       "      <th>ch_3</th>\n",
       "      <th>ch_4</th>\n",
       "    </tr>\n",
       "  </thead>\n",
       "  <tbody>\n",
       "    <tr>\n",
       "      <th>0</th>\n",
       "      <td>63.0</td>\n",
       "      <td>1.0</td>\n",
       "      <td>1.0</td>\n",
       "      <td>145.0</td>\n",
       "      <td>233.0</td>\n",
       "      <td>1.0</td>\n",
       "      <td>2.0</td>\n",
       "      <td>150.0</td>\n",
       "      <td>0.0</td>\n",
       "      <td>2.3</td>\n",
       "      <td>...</td>\n",
       "      <td>True</td>\n",
       "      <td>False</td>\n",
       "      <td>False</td>\n",
       "      <td>False</td>\n",
       "      <td>False</td>\n",
       "      <td>True</td>\n",
       "      <td>False</td>\n",
       "      <td>True</td>\n",
       "      <td>False</td>\n",
       "      <td>False</td>\n",
       "    </tr>\n",
       "    <tr>\n",
       "      <th>1</th>\n",
       "      <td>67.0</td>\n",
       "      <td>1.0</td>\n",
       "      <td>4.0</td>\n",
       "      <td>160.0</td>\n",
       "      <td>286.0</td>\n",
       "      <td>0.0</td>\n",
       "      <td>2.0</td>\n",
       "      <td>108.0</td>\n",
       "      <td>1.0</td>\n",
       "      <td>1.5</td>\n",
       "      <td>...</td>\n",
       "      <td>True</td>\n",
       "      <td>False</td>\n",
       "      <td>False</td>\n",
       "      <td>False</td>\n",
       "      <td>False</td>\n",
       "      <td>True</td>\n",
       "      <td>False</td>\n",
       "      <td>False</td>\n",
       "      <td>False</td>\n",
       "      <td>True</td>\n",
       "    </tr>\n",
       "    <tr>\n",
       "      <th>2</th>\n",
       "      <td>67.0</td>\n",
       "      <td>1.0</td>\n",
       "      <td>4.0</td>\n",
       "      <td>120.0</td>\n",
       "      <td>229.0</td>\n",
       "      <td>0.0</td>\n",
       "      <td>2.0</td>\n",
       "      <td>129.0</td>\n",
       "      <td>1.0</td>\n",
       "      <td>2.6</td>\n",
       "      <td>...</td>\n",
       "      <td>True</td>\n",
       "      <td>False</td>\n",
       "      <td>True</td>\n",
       "      <td>False</td>\n",
       "      <td>False</td>\n",
       "      <td>False</td>\n",
       "      <td>False</td>\n",
       "      <td>True</td>\n",
       "      <td>False</td>\n",
       "      <td>False</td>\n",
       "    </tr>\n",
       "    <tr>\n",
       "      <th>3</th>\n",
       "      <td>37.0</td>\n",
       "      <td>1.0</td>\n",
       "      <td>3.0</td>\n",
       "      <td>130.0</td>\n",
       "      <td>250.0</td>\n",
       "      <td>0.0</td>\n",
       "      <td>0.0</td>\n",
       "      <td>187.0</td>\n",
       "      <td>0.0</td>\n",
       "      <td>3.5</td>\n",
       "      <td>...</td>\n",
       "      <td>False</td>\n",
       "      <td>False</td>\n",
       "      <td>False</td>\n",
       "      <td>False</td>\n",
       "      <td>True</td>\n",
       "      <td>False</td>\n",
       "      <td>False</td>\n",
       "      <td>False</td>\n",
       "      <td>True</td>\n",
       "      <td>False</td>\n",
       "    </tr>\n",
       "    <tr>\n",
       "      <th>4</th>\n",
       "      <td>41.0</td>\n",
       "      <td>0.0</td>\n",
       "      <td>2.0</td>\n",
       "      <td>130.0</td>\n",
       "      <td>204.0</td>\n",
       "      <td>0.0</td>\n",
       "      <td>2.0</td>\n",
       "      <td>172.0</td>\n",
       "      <td>0.0</td>\n",
       "      <td>1.4</td>\n",
       "      <td>...</td>\n",
       "      <td>False</td>\n",
       "      <td>False</td>\n",
       "      <td>False</td>\n",
       "      <td>False</td>\n",
       "      <td>True</td>\n",
       "      <td>False</td>\n",
       "      <td>True</td>\n",
       "      <td>False</td>\n",
       "      <td>False</td>\n",
       "      <td>False</td>\n",
       "    </tr>\n",
       "  </tbody>\n",
       "</table>\n",
       "<p>5 rows × 25 columns</p>\n",
       "</div>"
      ],
      "text/plain": [
       "    age  sex  chest_pain  rest_blood_pressure  cholestorol  fast_blood_sugar  \\\n",
       "0  63.0  1.0         1.0                145.0        233.0               1.0   \n",
       "1  67.0  1.0         4.0                160.0        286.0               0.0   \n",
       "2  67.0  1.0         4.0                120.0        229.0               0.0   \n",
       "3  37.0  1.0         3.0                130.0        250.0               0.0   \n",
       "4  41.0  0.0         2.0                130.0        204.0               0.0   \n",
       "\n",
       "   rest_ecg  max_heart_rate  exercise_angina  st_depression  ...    age_young  \\\n",
       "0       2.0           150.0              0.0            2.3  ...         True   \n",
       "1       2.0           108.0              1.0            1.5  ...         True   \n",
       "2       2.0           129.0              1.0            2.6  ...         True   \n",
       "3       0.0           187.0              0.0            3.5  ...        False   \n",
       "4       2.0           172.0              0.0            1.4  ...        False   \n",
       "\n",
       "   age_middle   bp_1   bp_2   bp_3   bp_4   ch_1   ch_2   ch_3   ch_4  \n",
       "0       False  False  False  False   True  False   True  False  False  \n",
       "1       False  False  False  False   True  False  False  False   True  \n",
       "2       False   True  False  False  False  False   True  False  False  \n",
       "3       False  False  False   True  False  False  False   True  False  \n",
       "4       False  False  False   True  False   True  False  False  False  \n",
       "\n",
       "[5 rows x 25 columns]"
      ]
     },
     "execution_count": 2,
     "metadata": {},
     "output_type": "execute_result"
    }
   ],
   "source": [
    "# names=['age', 'sex', 'cp', 'trestbps', 'chol', 'fbs', 'restecg', 'thalach', 'exang', 'oldpeak', 'slope', 'ca', 'thal', 'target']\n",
    "df = pd.read_csv('data/out.csv')\n",
    "\n",
    "df.head()"
   ]
  },
  {
   "cell_type": "code",
   "execution_count": 3,
   "metadata": {},
   "outputs": [],
   "source": [
    "# list(df['rest_blood_pressure'])"
   ]
  },
  {
   "cell_type": "code",
   "execution_count": 4,
   "metadata": {},
   "outputs": [],
   "source": [
    "# y = df.iloc[:, -1].values\n",
    "# X = df.iloc[:, :-1]\n",
    "\n",
    "y = df[\"target\"]\n",
    "X = df.drop(\"target\", axis=1)"
   ]
  },
  {
   "cell_type": "markdown",
   "metadata": {},
   "source": [
    "## Split data\n",
    "Splitting the data into two sets (`train` and `test`) means that the test set can be used as a new, unbiased dataset to evaluate the performance of the model against. This also helps detect the phenomenon of overfitting, where a model is extremely tailored to the training dataset, and therefore performs poorly on unseen datasets.\n",
    "\n",
    "In this case, 80% of the samples will go to the training set, and the remaining 20 will go to the test set."
   ]
  },
  {
   "cell_type": "code",
   "execution_count": 5,
   "metadata": {},
   "outputs": [
    {
     "name": "stdout",
     "output_type": "stream",
     "text": [
      "X_train: (736, 24) X_test: (184, 24)\n",
      "y_train: (736,) y_test: (184,)\n"
     ]
    }
   ],
   "source": [
    "from sklearn.model_selection import train_test_split\n",
    "\n",
    "X_train, X_test, y_train, y_test = train_test_split(X, y, test_size = 0.2)\n",
    "print(\"X_train:\", X_train.shape, \"X_test:\", X_test.shape)\n",
    "print(\"y_train:\", y_train.shape, \"y_test:\", y_test.shape)"
   ]
  },
  {
   "cell_type": "markdown",
   "metadata": {},
   "source": [
    "### Dummy Variables\n"
   ]
  },
  {
   "cell_type": "code",
   "execution_count": 6,
   "metadata": {},
   "outputs": [],
   "source": [
    "df_train = pd.get_dummies(data=X_train, drop_first=True)\n",
    "df_test = pd.get_dummies(data=X_test, drop_first=True)"
   ]
  },
  {
   "cell_type": "markdown",
   "metadata": {},
   "source": [
    "## Scale data\n",
    "Variables with much broader ranges of values might disproportionately effect the final model, so standardising the data ensures that all features are proportionately weighted. \n",
    "\n",
    "The formula used for feature standardisation transforms each feature to have zero-mean and unit-variance:\n",
    "\n",
    "$ \\large{x' = \\frac{x - \\overline{x}}{\\sigma}} $\n",
    "\n",
    "Where $x$ is the original feature vector, $ \\bar{x}=average(x)$ is the mean of that feature vector, and $\\sigma$ is its standard deviation."
   ]
  },
  {
   "cell_type": "code",
   "execution_count": 7,
   "metadata": {},
   "outputs": [
    {
     "name": "stderr",
     "output_type": "stream",
     "text": [
      "/anaconda3/lib/python3.6/site-packages/sklearn/preprocessing/data.py:625: DataConversionWarning: Data with input dtype bool, float64 were all converted to float64 by StandardScaler.\n",
      "  return self.partial_fit(X, y)\n",
      "/anaconda3/lib/python3.6/site-packages/sklearn/base.py:462: DataConversionWarning: Data with input dtype bool, float64 were all converted to float64 by StandardScaler.\n",
      "  return self.fit(X, **fit_params).transform(X)\n",
      "/anaconda3/lib/python3.6/site-packages/ipykernel_launcher.py:5: DataConversionWarning: Data with input dtype bool, float64 were all converted to float64 by StandardScaler.\n",
      "  \"\"\"\n"
     ]
    }
   ],
   "source": [
    "from sklearn.preprocessing import StandardScaler\n",
    "\n",
    "sc = StandardScaler()\n",
    "X_train = sc.fit_transform(X_train)\n",
    "X_test = sc.transform(X_test)"
   ]
  },
  {
   "cell_type": "markdown",
   "metadata": {},
   "source": [
    "# Training the classifiers\n",
    "The following models will be compared:\n",
    "\n",
    "Using `sklearn`: \n",
    "- Decision tree \n",
    "- Support Vector Machine\n",
    "- Logistic Regression\n",
    "- Random Forest\n",
    "\n",
    "Using `Tensorflow`:\n",
    "- Artificial Neural Network"
   ]
  },
  {
   "cell_type": "markdown",
   "metadata": {},
   "source": [
    "## Decision Tree classifier"
   ]
  },
  {
   "cell_type": "code",
   "execution_count": 8,
   "metadata": {},
   "outputs": [],
   "source": [
    "def get_accuracy():\n",
    "    print(\"Sklearn accuracy:\", sklearn.metrics.accuracy_score(y_test, y_pred))\n",
    "    print(\"Sklearn recall:\", sklearn.metrics.recall_score(y_test, y_pred, average='micro'))\n",
    "    print(\"\\nConfusion matrix (predicted vs actual)\")\n",
    "    print(pd.DataFrame(np.c_[sklearn.metrics.confusion_matrix(y_test, y_pred)]))  "
   ]
  },
  {
   "cell_type": "code",
   "execution_count": 9,
   "metadata": {},
   "outputs": [
    {
     "name": "stdout",
     "output_type": "stream",
     "text": [
      "Sklearn accuracy: 0.41304347826086957\n",
      "Sklearn recall: 0.41304347826086957\n",
      "\n",
      "Confusion matrix (predicted vs actual)\n",
      "    0   1  2   3  4\n",
      "0  57  12  6   9  1\n",
      "1  15   6  6  10  2\n",
      "2   3  10  9   7  1\n",
      "3   1   4  6   3  2\n",
      "4   1   6  2   4  1\n"
     ]
    }
   ],
   "source": [
    "from sklearn.tree import DecisionTreeClassifier  \n",
    "\n",
    "# Create a decision tree Classifier\n",
    "classifier = DecisionTreeClassifier()  \n",
    "\n",
    "# Fit the model\n",
    "classifier.fit(X_train, y_train)  \n",
    "\n",
    "# Predict the response for test dataset\n",
    "y_pred = classifier.predict(X_test)  \n",
    "\n",
    "# Get accuracy results\n",
    "get_accuracy()"
   ]
  },
  {
   "cell_type": "markdown",
   "metadata": {},
   "source": [
    "## Support Vector Machine"
   ]
  },
  {
   "cell_type": "code",
   "execution_count": 10,
   "metadata": {},
   "outputs": [
    {
     "name": "stdout",
     "output_type": "stream",
     "text": [
      "Sklearn accuracy: 0.532608695652174\n",
      "Sklearn recall: 0.532608695652174\n",
      "\n",
      "Confusion matrix (predicted vs actual)\n",
      "    0   1  2   3  4\n",
      "0  72  11  1   1  0\n",
      "1  18  15  0   6  0\n",
      "2   7   8  4  11  0\n",
      "3   2   6  1   7  0\n",
      "4   3   2  3   6  0\n"
     ]
    }
   ],
   "source": [
    "from sklearn.svm import SVC\n",
    "\n",
    "# Create an SVM Classifier\n",
    "classifier = SVC(kernel='linear') # Linear Kernel\n",
    "\n",
    "# Fit the model\n",
    "classifier.fit(X_train, y_train)  \n",
    "\n",
    "# Train the model and predict against the validation set\n",
    "y_pred = classifier.predict(X_test)  \n",
    "\n",
    "# Get accuracy results\n",
    "get_accuracy()"
   ]
  },
  {
   "cell_type": "markdown",
   "metadata": {},
   "source": [
    "## Logistic regression"
   ]
  },
  {
   "cell_type": "code",
   "execution_count": 11,
   "metadata": {},
   "outputs": [
    {
     "name": "stdout",
     "output_type": "stream",
     "text": [
      "Sklearn accuracy: 0.5434782608695652\n",
      "Sklearn recall: 0.5434782608695652\n",
      "\n",
      "Confusion matrix (predicted vs actual)\n",
      "    0   1  2  3  4\n",
      "0  74   8  2  1  0\n",
      "1  19  15  1  4  0\n",
      "2   8   9  3  9  1\n",
      "3   2   4  1  8  1\n",
      "4   2   4  1  7  0\n"
     ]
    }
   ],
   "source": [
    "from sklearn.linear_model import LogisticRegression\n",
    "\n",
    "classifier = LogisticRegression(random_state=0, solver='lbfgs', multi_class='multinomial')\n",
    "\n",
    "# Fit the model\n",
    "classifier.fit(X_train, y_train)  \n",
    "\n",
    "# Predict the response for test dataset\n",
    "y_pred = classifier.predict(X_test)  \n",
    "\n",
    "# Get accuracy results\n",
    "get_accuracy()"
   ]
  },
  {
   "cell_type": "markdown",
   "metadata": {},
   "source": [
    "## Neural Network\n",
    "\n",
    "The Neural Network was built with trial and error, until the best performing network was found. \n",
    "It contains:\n",
    "- 13 input nodes, which correspond to the 13 input features\n",
    "- 6 nodes in the first hidden layer, which uses the `ReLU` activation function and the `uniform` bias initialiser\n",
    "- 13 nodes in the second hidden layer, which also uses the `ReLU` activation function\n",
    "- 1 output layer with 4 nodes, which uses the `Softmax` activation function. This layer outputs a prediction of the level of severity of heart disease (`0` = absence, `1-4` = presence) \n",
    "- Categorical cross entropy (`categorical_crossentropy`) for calculating the loss function\n",
    "- Adam (`adam`) algorithm for optimising the loss function\n",
    "\n",
    "<img src=\"data/nn.png\" width=\"600\" />"
   ]
  },
  {
   "cell_type": "code",
   "execution_count": 12,
   "metadata": {},
   "outputs": [],
   "source": [
    "df = pd.read_csv('data/out.csv')\n",
    "\n",
    "drop = ['target', 'age_mature', 'age_young', 'age_middle', 'bp_1', 'bp_2', 'bp_3', 'bp_4',\n",
    "       'ch_1', 'ch_2', 'ch_3', 'ch_4']\n",
    "\n",
    "y = df[\"target\"]\n",
    "X = df.drop(drop, axis=1)"
   ]
  },
  {
   "cell_type": "code",
   "execution_count": 13,
   "metadata": {},
   "outputs": [
    {
     "name": "stdout",
     "output_type": "stream",
     "text": [
      "X_train: (736, 13) X_test: (184, 13)\n",
      "y_train: (736, 5) y_test: (184, 5)\n"
     ]
    }
   ],
   "source": [
    "from sklearn.preprocessing import OneHotEncoder\n",
    "\n",
    "encoder = OneHotEncoder(sparse=False,  categories='auto')\n",
    "y = encoder.fit_transform(y.values.reshape(-1, 1))\n",
    "\n",
    "X_train, X_test, y_train, y_test = train_test_split(X, y, test_size = 0.2)\n",
    "print(\"X_train:\", X_train.shape, \"X_test:\", X_test.shape)\n",
    "print(\"y_train:\", y_train.shape, \"y_test:\", y_test.shape)"
   ]
  },
  {
   "cell_type": "code",
   "execution_count": 14,
   "metadata": {},
   "outputs": [],
   "source": [
    "sc = StandardScaler()\n",
    "X_train = sc.fit_transform(X_train)\n",
    "X_test = sc.transform(X_test)"
   ]
  },
  {
   "cell_type": "code",
   "execution_count": 21,
   "metadata": {},
   "outputs": [],
   "source": [
    "import tensorflow as tf\n",
    "from tensorflow import keras\n",
    "\n",
    "classifier = keras.Sequential()\n",
    "\n",
    "# adding the input layer (input_dim) and the first hidden layer\n",
    "classifier.add(keras.layers.Dense(6, bias_initializer = 'uniform', activation = 'relu', input_dim = X_train.shape[1], name='hidden_1'))\n",
    "\n",
    "# adding the second and third hidden layers\n",
    "classifier.add(keras.layers.Dense(13, activation='relu', name='hidden_2'))\n",
    "\n",
    "# adding the output layer\n",
    "classifier.add(keras.layers.Dense(y_train.shape[1], activation='softmax', name='output'))"
   ]
  },
  {
   "cell_type": "code",
   "execution_count": 22,
   "metadata": {},
   "outputs": [],
   "source": [
    "# compiling the neural network\n",
    "# classifier.compile(optimizer = 'sgd', loss = 'mean_squared_error', metrics = ['recall'])\n",
    "classifier.compile(loss = 'categorical_crossentropy' , optimizer = 'adam' , metrics = ['accuracy'] )"
   ]
  },
  {
   "cell_type": "code",
   "execution_count": 23,
   "metadata": {},
   "outputs": [
    {
     "name": "stdout",
     "output_type": "stream",
     "text": [
      "_________________________________________________________________\n",
      "Layer (type)                 Output Shape              Param #   \n",
      "=================================================================\n",
      "hidden_1 (Dense)             (None, 6)                 84        \n",
      "_________________________________________________________________\n",
      "output (Dense)               (None, 5)                 35        \n",
      "=================================================================\n",
      "Total params: 119\n",
      "Trainable params: 119\n",
      "Non-trainable params: 0\n",
      "_________________________________________________________________\n"
     ]
    }
   ],
   "source": [
    "classifier.summary()"
   ]
  },
  {
   "cell_type": "code",
   "execution_count": 24,
   "metadata": {},
   "outputs": [
    {
     "name": "stdout",
     "output_type": "stream",
     "text": [
      "Epoch 1/100\n",
      "736/736 [==============================] - 0s 607us/step - loss: 1.7908 - acc: 0.1658\n",
      "Epoch 2/100\n",
      "736/736 [==============================] - 0s 160us/step - loss: 1.6324 - acc: 0.2201\n",
      "Epoch 3/100\n",
      "736/736 [==============================] - 0s 416us/step - loss: 1.5242 - acc: 0.3315\n",
      "Epoch 4/100\n",
      "736/736 [==============================] - 0s 267us/step - loss: 1.4420 - acc: 0.4171\n",
      "Epoch 5/100\n",
      "736/736 [==============================] - 0s 159us/step - loss: 1.3759 - acc: 0.4715\n",
      "Epoch 6/100\n",
      "736/736 [==============================] - 0s 143us/step - loss: 1.3218 - acc: 0.4959\n",
      "Epoch 7/100\n",
      "736/736 [==============================] - 0s 161us/step - loss: 1.2777 - acc: 0.5068\n",
      "Epoch 8/100\n",
      "736/736 [==============================] - 0s 180us/step - loss: 1.2418 - acc: 0.5095\n",
      "Epoch 9/100\n",
      "736/736 [==============================] - 0s 139us/step - loss: 1.2143 - acc: 0.5204\n",
      "Epoch 10/100\n",
      "736/736 [==============================] - 0s 167us/step - loss: 1.1922 - acc: 0.5231\n",
      "Epoch 11/100\n",
      "736/736 [==============================] - 0s 228us/step - loss: 1.1746 - acc: 0.5299\n",
      "Epoch 12/100\n",
      "736/736 [==============================] - 0s 274us/step - loss: 1.1604 - acc: 0.5408\n",
      "Epoch 13/100\n",
      "736/736 [==============================] - 0s 198us/step - loss: 1.1476 - acc: 0.5435\n",
      "Epoch 14/100\n",
      "736/736 [==============================] - 0s 182us/step - loss: 1.1375 - acc: 0.5503\n",
      "Epoch 15/100\n",
      "736/736 [==============================] - 0s 186us/step - loss: 1.1284 - acc: 0.5571\n",
      "Epoch 16/100\n",
      "736/736 [==============================] - 0s 188us/step - loss: 1.1198 - acc: 0.5571\n",
      "Epoch 17/100\n",
      "736/736 [==============================] - 0s 220us/step - loss: 1.1130 - acc: 0.5666\n",
      "Epoch 18/100\n",
      "736/736 [==============================] - 0s 162us/step - loss: 1.1067 - acc: 0.5652\n",
      "Epoch 19/100\n",
      "736/736 [==============================] - 0s 139us/step - loss: 1.1005 - acc: 0.5639\n",
      "Epoch 20/100\n",
      "736/736 [==============================] - 0s 171us/step - loss: 1.0952 - acc: 0.5584\n",
      "Epoch 21/100\n",
      "736/736 [==============================] - 0s 164us/step - loss: 1.0907 - acc: 0.5666\n",
      "Epoch 22/100\n",
      "736/736 [==============================] - 0s 202us/step - loss: 1.0864 - acc: 0.5707\n",
      "Epoch 23/100\n",
      "736/736 [==============================] - 0s 123us/step - loss: 1.0822 - acc: 0.5693\n",
      "Epoch 24/100\n",
      "736/736 [==============================] - 0s 153us/step - loss: 1.0784 - acc: 0.5734\n",
      "Epoch 25/100\n",
      "736/736 [==============================] - 0s 155us/step - loss: 1.0752 - acc: 0.5734\n",
      "Epoch 26/100\n",
      "736/736 [==============================] - 0s 135us/step - loss: 1.0716 - acc: 0.5707\n",
      "Epoch 27/100\n",
      "736/736 [==============================] - 0s 117us/step - loss: 1.0687 - acc: 0.5747\n",
      "Epoch 28/100\n",
      "736/736 [==============================] - 0s 139us/step - loss: 1.0656 - acc: 0.5761\n",
      "Epoch 29/100\n",
      "736/736 [==============================] - 0s 194us/step - loss: 1.0631 - acc: 0.5720\n",
      "Epoch 30/100\n",
      "736/736 [==============================] - 0s 243us/step - loss: 1.0607 - acc: 0.5707\n",
      "Epoch 31/100\n",
      "736/736 [==============================] - 0s 166us/step - loss: 1.0585 - acc: 0.5707\n",
      "Epoch 32/100\n",
      "736/736 [==============================] - 0s 172us/step - loss: 1.0566 - acc: 0.5734\n",
      "Epoch 33/100\n",
      "736/736 [==============================] - 0s 261us/step - loss: 1.0539 - acc: 0.5734\n",
      "Epoch 34/100\n",
      "736/736 [==============================] - 0s 184us/step - loss: 1.0513 - acc: 0.5734\n",
      "Epoch 35/100\n",
      "736/736 [==============================] - 0s 186us/step - loss: 1.0496 - acc: 0.5720\n",
      "Epoch 36/100\n",
      "736/736 [==============================] - 0s 184us/step - loss: 1.0485 - acc: 0.5802\n",
      "Epoch 37/100\n",
      "736/736 [==============================] - 0s 159us/step - loss: 1.0465 - acc: 0.5761\n",
      "Epoch 38/100\n",
      "736/736 [==============================] - 0s 217us/step - loss: 1.0454 - acc: 0.5802\n",
      "Epoch 39/100\n",
      "736/736 [==============================] - 0s 160us/step - loss: 1.0447 - acc: 0.5802\n",
      "Epoch 40/100\n",
      "736/736 [==============================] - 0s 134us/step - loss: 1.0431 - acc: 0.5802\n",
      "Epoch 41/100\n",
      "736/736 [==============================] - 0s 120us/step - loss: 1.0422 - acc: 0.5761\n",
      "Epoch 42/100\n",
      "736/736 [==============================] - 0s 126us/step - loss: 1.0407 - acc: 0.5720\n",
      "Epoch 43/100\n",
      "736/736 [==============================] - 0s 199us/step - loss: 1.0399 - acc: 0.5815\n",
      "Epoch 44/100\n",
      "736/736 [==============================] - 0s 239us/step - loss: 1.0390 - acc: 0.5761\n",
      "Epoch 45/100\n",
      "736/736 [==============================] - 0s 212us/step - loss: 1.0379 - acc: 0.5802\n",
      "Epoch 46/100\n",
      "736/736 [==============================] - 0s 160us/step - loss: 1.0371 - acc: 0.5802\n",
      "Epoch 47/100\n",
      "736/736 [==============================] - 0s 120us/step - loss: 1.0359 - acc: 0.5802\n",
      "Epoch 48/100\n",
      "736/736 [==============================] - 0s 157us/step - loss: 1.0355 - acc: 0.5829\n",
      "Epoch 49/100\n",
      "736/736 [==============================] - 0s 251us/step - loss: 1.0344 - acc: 0.5829\n",
      "Epoch 50/100\n",
      "736/736 [==============================] - 0s 201us/step - loss: 1.0339 - acc: 0.5829\n",
      "Epoch 51/100\n",
      "736/736 [==============================] - 0s 153us/step - loss: 1.0329 - acc: 0.5829\n",
      "Epoch 52/100\n",
      "736/736 [==============================] - 0s 137us/step - loss: 1.0324 - acc: 0.5815\n",
      "Epoch 53/100\n",
      "736/736 [==============================] - 0s 146us/step - loss: 1.0312 - acc: 0.5842\n",
      "Epoch 54/100\n",
      "736/736 [==============================] - 0s 143us/step - loss: 1.0305 - acc: 0.5842\n",
      "Epoch 55/100\n",
      "736/736 [==============================] - 0s 129us/step - loss: 1.0302 - acc: 0.5815\n",
      "Epoch 56/100\n",
      "736/736 [==============================] - 0s 164us/step - loss: 1.0293 - acc: 0.5910\n",
      "Epoch 57/100\n",
      "736/736 [==============================] - 0s 166us/step - loss: 1.0293 - acc: 0.5870\n",
      "Epoch 58/100\n",
      "736/736 [==============================] - 0s 162us/step - loss: 1.0288 - acc: 0.5883\n",
      "Epoch 59/100\n",
      "736/736 [==============================] - 0s 134us/step - loss: 1.0278 - acc: 0.5856\n",
      "Epoch 60/100\n",
      "736/736 [==============================] - 0s 116us/step - loss: 1.0279 - acc: 0.5856\n",
      "Epoch 61/100\n",
      "736/736 [==============================] - 0s 126us/step - loss: 1.0267 - acc: 0.5856\n",
      "Epoch 62/100\n",
      "736/736 [==============================] - 0s 115us/step - loss: 1.0268 - acc: 0.5856\n",
      "Epoch 63/100\n",
      "736/736 [==============================] - 0s 132us/step - loss: 1.0258 - acc: 0.5897\n",
      "Epoch 64/100\n",
      "736/736 [==============================] - 0s 112us/step - loss: 1.0248 - acc: 0.5842\n",
      "Epoch 65/100\n",
      "736/736 [==============================] - 0s 174us/step - loss: 1.0250 - acc: 0.5870\n",
      "Epoch 66/100\n",
      "736/736 [==============================] - 0s 150us/step - loss: 1.0242 - acc: 0.5870\n",
      "Epoch 67/100\n",
      "736/736 [==============================] - 0s 120us/step - loss: 1.0234 - acc: 0.5897\n",
      "Epoch 68/100\n",
      "736/736 [==============================] - 0s 222us/step - loss: 1.0233 - acc: 0.5910\n",
      "Epoch 69/100\n",
      "736/736 [==============================] - 0s 137us/step - loss: 1.0228 - acc: 0.5842\n",
      "Epoch 70/100\n",
      "736/736 [==============================] - 0s 101us/step - loss: 1.0225 - acc: 0.5883\n",
      "Epoch 71/100\n",
      "736/736 [==============================] - 0s 133us/step - loss: 1.0221 - acc: 0.5883\n",
      "Epoch 72/100\n",
      "736/736 [==============================] - 0s 152us/step - loss: 1.0210 - acc: 0.5870\n",
      "Epoch 73/100\n",
      "736/736 [==============================] - 0s 127us/step - loss: 1.0207 - acc: 0.5870\n",
      "Epoch 74/100\n",
      "736/736 [==============================] - 0s 196us/step - loss: 1.0198 - acc: 0.5842\n",
      "Epoch 75/100\n",
      "736/736 [==============================] - 0s 192us/step - loss: 1.0194 - acc: 0.5924\n",
      "Epoch 76/100\n",
      "736/736 [==============================] - 0s 192us/step - loss: 1.0192 - acc: 0.5897\n",
      "Epoch 77/100\n",
      "736/736 [==============================] - 0s 143us/step - loss: 1.0188 - acc: 0.5951\n",
      "Epoch 78/100\n",
      "736/736 [==============================] - 0s 123us/step - loss: 1.0187 - acc: 0.5897\n",
      "Epoch 79/100\n",
      "736/736 [==============================] - 0s 134us/step - loss: 1.0184 - acc: 0.5897\n",
      "Epoch 80/100\n",
      "736/736 [==============================] - 0s 120us/step - loss: 1.0178 - acc: 0.5883\n",
      "Epoch 81/100\n",
      "736/736 [==============================] - 0s 146us/step - loss: 1.0169 - acc: 0.5938\n",
      "Epoch 82/100\n",
      "736/736 [==============================] - 0s 140us/step - loss: 1.0174 - acc: 0.5856\n",
      "Epoch 83/100\n"
     ]
    },
    {
     "name": "stdout",
     "output_type": "stream",
     "text": [
      "736/736 [==============================] - 0s 159us/step - loss: 1.0162 - acc: 0.5897\n",
      "Epoch 84/100\n",
      "736/736 [==============================] - 0s 157us/step - loss: 1.0153 - acc: 0.5938\n",
      "Epoch 85/100\n",
      "736/736 [==============================] - 0s 146us/step - loss: 1.0151 - acc: 0.5924\n",
      "Epoch 86/100\n",
      "736/736 [==============================] - 0s 137us/step - loss: 1.0148 - acc: 0.5924\n",
      "Epoch 87/100\n",
      "736/736 [==============================] - 0s 145us/step - loss: 1.0146 - acc: 0.5910\n",
      "Epoch 88/100\n",
      "736/736 [==============================] - 0s 128us/step - loss: 1.0141 - acc: 0.5897\n",
      "Epoch 89/100\n",
      "736/736 [==============================] - 0s 121us/step - loss: 1.0135 - acc: 0.5910\n",
      "Epoch 90/100\n",
      "736/736 [==============================] - 0s 141us/step - loss: 1.0133 - acc: 0.5910\n",
      "Epoch 91/100\n",
      "736/736 [==============================] - 0s 122us/step - loss: 1.0129 - acc: 0.5870\n",
      "Epoch 92/100\n",
      "736/736 [==============================] - 0s 130us/step - loss: 1.0124 - acc: 0.5883\n",
      "Epoch 93/100\n",
      "736/736 [==============================] - 0s 144us/step - loss: 1.0118 - acc: 0.5897\n",
      "Epoch 94/100\n",
      "736/736 [==============================] - 0s 152us/step - loss: 1.0117 - acc: 0.5924\n",
      "Epoch 95/100\n",
      "736/736 [==============================] - 0s 197us/step - loss: 1.0112 - acc: 0.5870\n",
      "Epoch 96/100\n",
      "736/736 [==============================] - 0s 146us/step - loss: 1.0107 - acc: 0.5938\n",
      "Epoch 97/100\n",
      "736/736 [==============================] - 0s 142us/step - loss: 1.0113 - acc: 0.5938\n",
      "Epoch 98/100\n",
      "736/736 [==============================] - 0s 186us/step - loss: 1.0105 - acc: 0.5897\n",
      "Epoch 99/100\n",
      "736/736 [==============================] - 0s 168us/step - loss: 1.0099 - acc: 0.5897\n",
      "Epoch 100/100\n",
      "736/736 [==============================] - 0s 146us/step - loss: 1.0097 - acc: 0.5924\n"
     ]
    },
    {
     "data": {
      "text/plain": [
       "<tensorflow.python.keras.callbacks.History at 0x1a2a02f518>"
      ]
     },
     "execution_count": 24,
     "metadata": {},
     "output_type": "execute_result"
    }
   ],
   "source": [
    "# fitting the model \n",
    "classifier.fit(X_train, y_train, batch_size = 10, epochs = 100)"
   ]
  },
  {
   "cell_type": "code",
   "execution_count": 25,
   "metadata": {},
   "outputs": [
    {
     "name": "stdout",
     "output_type": "stream",
     "text": [
      "184/184 [==============================] - 0s 685us/step\n",
      "Final test set loss: 1.274317\n",
      "Final test set accuracy: 0.461957\n"
     ]
    }
   ],
   "source": [
    "results = classifier.evaluate(X_test, y_test)\n",
    "\n",
    "print('Final test set loss: {:4f}'.format(results[0]))\n",
    "print('Final test set accuracy: {:4f}'.format(results[1]))"
   ]
  },
  {
   "cell_type": "code",
   "execution_count": 32,
   "metadata": {},
   "outputs": [
    {
     "name": "stdout",
     "output_type": "stream",
     "text": [
      "[[62  6  3  6  0]\n",
      " [15 15  6  7  0]\n",
      " [ 6 15  2  4  0]\n",
      " [ 4 10  7  6  1]\n",
      " [ 0  1  4  4  0]]\n"
     ]
    }
   ],
   "source": [
    "from sklearn.metrics import confusion_matrix\n",
    "\n",
    "y_pred = classifier.predict(X_test)\n",
    "cm = confusion_matrix(y_test.argmax(axis=1), y_pred.argmax(axis=1))\n",
    "print(cm)"
   ]
  },
  {
   "cell_type": "code",
   "execution_count": 30,
   "metadata": {},
   "outputs": [],
   "source": [
    "def print_cm(cm, labels, hide_zeroes=False, hide_diagonal=False, hide_threshold=None):\n",
    "    \"\"\"pretty print for confusion matrixes\"\"\"\n",
    "    columnwidth = max([len(x) for x in labels] + [5])  # 5 is value length\n",
    "    empty_cell = \" \" * columnwidth\n",
    "    # Print header\n",
    "    print(\"    \" + empty_cell, end=\" \")\n",
    "    for label in labels:\n",
    "        print(\"%{0}s\".format(columnwidth) % label, end=\" \")\n",
    "    print()\n",
    "    # Print rows\n",
    "    for i, label1 in enumerate(labels):\n",
    "        print(\"    %{0}s\".format(columnwidth) % label1, end=\" \")\n",
    "        for j in range(len(labels)):\n",
    "            cell = \"%{0}.1f\".format(columnwidth) % cm[i, j]\n",
    "            if hide_zeroes:\n",
    "                cell = cell if float(cm[i, j]) != 0 else empty_cell\n",
    "            if hide_diagonal:\n",
    "                cell = cell if i != j else empty_cell\n",
    "            if hide_threshold:\n",
    "                cell = cell if cm[i, j] > hide_threshold else empty_cell\n",
    "            print(cell, end=\" \")\n",
    "        print()"
   ]
  },
  {
   "cell_type": "code",
   "execution_count": 31,
   "metadata": {},
   "outputs": [
    {
     "name": "stdout",
     "output_type": "stream",
     "text": [
      "              0     1     2     3     4 \n",
      "        0  62.0   6.0   3.0   6.0   0.0 \n",
      "        1  15.0  15.0   6.0   7.0   0.0 \n",
      "        2   6.0  15.0   2.0   4.0   0.0 \n",
      "        3   4.0  10.0   7.0   6.0   1.0 \n",
      "        4   0.0   1.0   4.0   4.0   0.0 \n"
     ]
    }
   ],
   "source": [
    "print_cm(cm, [\"0\", \"1\", \"2\", \"3\", \"4\"])"
   ]
  },
  {
   "cell_type": "code",
   "execution_count": null,
   "metadata": {},
   "outputs": [],
   "source": [
    "import tensorflowjs as tfjs\n",
    "tfjs.converters.save_keras_model(classifier, \".\")"
   ]
  }
 ],
 "metadata": {
  "kernelspec": {
   "display_name": "conda env tensorflow",
   "language": "python",
   "name": "tensorflow"
  },
  "language_info": {
   "codemirror_mode": {
    "name": "ipython",
    "version": 3
   },
   "file_extension": ".py",
   "mimetype": "text/x-python",
   "name": "python",
   "nbconvert_exporter": "python",
   "pygments_lexer": "ipython3",
   "version": "3.6.8"
  }
 },
 "nbformat": 4,
 "nbformat_minor": 2
}
