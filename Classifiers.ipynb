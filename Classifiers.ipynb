{
 "cells": [
  {
   "cell_type": "markdown",
   "metadata": {},
   "source": [
    "# Classifier training"
   ]
  },
  {
   "cell_type": "code",
   "execution_count": 43,
   "metadata": {},
   "outputs": [],
   "source": [
    "import pandas as pd\n",
    "import numpy as np\n",
    "import tensorflow as tf\n",
    "import scipy.stats as sm\n",
    "import sklearn"
   ]
  },
  {
   "cell_type": "code",
   "execution_count": 34,
   "metadata": {},
   "outputs": [],
   "source": [
    "names=['age', 'sex', 'cp', 'trestbps', 'chol', 'fbs', 'restecg', 'thalach', 'exang', 'oldpeak', 'slope', 'ca', 'thal', 'target']\n",
    "\n",
    "df = pd.read_csv('heart.csv')"
   ]
  },
  {
   "cell_type": "code",
   "execution_count": 35,
   "metadata": {},
   "outputs": [],
   "source": [
    "y = df.iloc[:, -1].values\n",
    "X = df.iloc[:, :-1].values"
   ]
  },
  {
   "cell_type": "code",
   "execution_count": 36,
   "metadata": {},
   "outputs": [
    {
     "name": "stdout",
     "output_type": "stream",
     "text": [
      "X_train: (242, 13) X_test: (61, 13)\n",
      "y_train: (242,) y_test: (61,)\n"
     ]
    }
   ],
   "source": [
    "from sklearn.model_selection import train_test_split\n",
    "\n",
    "X_train, X_test, y_train, y_test = train_test_split(X, y, test_size = 0.2)\n",
    "print(\"X_train:\", X_train.shape, \"X_test:\", X_test.shape)\n",
    "print(\"y_train:\", y_train.shape, \"y_test:\", y_test.shape)"
   ]
  },
  {
   "cell_type": "code",
   "execution_count": 37,
   "metadata": {},
   "outputs": [],
   "source": [
    "from sklearn.preprocessing import StandardScaler\n",
    "\n",
    "sc = StandardScaler()\n",
    "X_train = sc.fit_transform(X_train)\n",
    "X_test = sc.transform(X_test)"
   ]
  },
  {
   "cell_type": "code",
   "execution_count": 54,
   "metadata": {},
   "outputs": [],
   "source": [
    "# Importing the Keras libraries and packages\n",
    "import tensorflow as tf\n",
    "from tensorflow import keras\n",
    "\n",
    "classifier = keras.Sequential()\n",
    "\n",
    "# Adding the input layer and the first hidden layer\n",
    "classifier.add(keras.layers.Dense(6, bias_initializer = 'uniform', activation = 'relu', input_dim = 13))\n",
    "\n",
    "# Adding the second hidden layer\n",
    "classifier.add(keras.layers.Dense(13, activation = 'relu'))\n",
    "\n",
    "# Adding the output layer\n",
    "classifier.add(keras.layers.Dense(1, activation = 'sigmoid'))"
   ]
  },
  {
   "cell_type": "code",
   "execution_count": 55,
   "metadata": {},
   "outputs": [
    {
     "name": "stdout",
     "output_type": "stream",
     "text": [
      "Epoch 1/100\n",
      "242/242 [==============================] - 0s 2ms/step - loss: 0.7795 - acc: 0.5372\n",
      "Epoch 2/100\n",
      "242/242 [==============================] - 0s 164us/step - loss: 0.6766 - acc: 0.5992\n",
      "Epoch 3/100\n",
      "242/242 [==============================] - 0s 198us/step - loss: 0.6127 - acc: 0.6653\n",
      "Epoch 4/100\n",
      "242/242 [==============================] - 0s 209us/step - loss: 0.5652 - acc: 0.7231\n",
      "Epoch 5/100\n",
      "242/242 [==============================] - 0s 204us/step - loss: 0.5274 - acc: 0.7645\n",
      "Epoch 6/100\n",
      "242/242 [==============================] - 0s 209us/step - loss: 0.4990 - acc: 0.7769\n",
      "Epoch 7/100\n",
      "242/242 [==============================] - 0s 265us/step - loss: 0.4744 - acc: 0.7934\n",
      "Epoch 8/100\n",
      "242/242 [==============================] - 0s 218us/step - loss: 0.4558 - acc: 0.7934\n",
      "Epoch 9/100\n",
      "242/242 [==============================] - 0s 190us/step - loss: 0.4403 - acc: 0.8058\n",
      "Epoch 10/100\n",
      "242/242 [==============================] - 0s 199us/step - loss: 0.4280 - acc: 0.8058\n",
      "Epoch 11/100\n",
      "242/242 [==============================] - 0s 286us/step - loss: 0.4167 - acc: 0.8140\n",
      "Epoch 12/100\n",
      "242/242 [==============================] - 0s 250us/step - loss: 0.4087 - acc: 0.8182\n",
      "Epoch 13/100\n",
      "242/242 [==============================] - 0s 236us/step - loss: 0.4011 - acc: 0.8223\n",
      "Epoch 14/100\n",
      "242/242 [==============================] - 0s 248us/step - loss: 0.3941 - acc: 0.8223\n",
      "Epoch 15/100\n",
      "242/242 [==============================] - 0s 221us/step - loss: 0.3890 - acc: 0.8223\n",
      "Epoch 16/100\n",
      "242/242 [==============================] - 0s 204us/step - loss: 0.3837 - acc: 0.8264\n",
      "Epoch 17/100\n",
      "242/242 [==============================] - 0s 202us/step - loss: 0.3786 - acc: 0.8264\n",
      "Epoch 18/100\n",
      "242/242 [==============================] - 0s 223us/step - loss: 0.3745 - acc: 0.8264\n",
      "Epoch 19/100\n",
      "242/242 [==============================] - 0s 204us/step - loss: 0.3713 - acc: 0.8306\n",
      "Epoch 20/100\n",
      "242/242 [==============================] - 0s 213us/step - loss: 0.3687 - acc: 0.8388\n",
      "Epoch 21/100\n",
      "242/242 [==============================] - 0s 255us/step - loss: 0.3643 - acc: 0.8388\n",
      "Epoch 22/100\n",
      "242/242 [==============================] - 0s 394us/step - loss: 0.3615 - acc: 0.8430\n",
      "Epoch 23/100\n",
      "242/242 [==============================] - 0s 323us/step - loss: 0.3590 - acc: 0.8471\n",
      "Epoch 24/100\n",
      "242/242 [==============================] - 0s 265us/step - loss: 0.3566 - acc: 0.8512\n",
      "Epoch 25/100\n",
      "242/242 [==============================] - 0s 211us/step - loss: 0.3545 - acc: 0.8471\n",
      "Epoch 26/100\n",
      "242/242 [==============================] - 0s 205us/step - loss: 0.3525 - acc: 0.8512\n",
      "Epoch 27/100\n",
      "242/242 [==============================] - 0s 166us/step - loss: 0.3503 - acc: 0.8554\n",
      "Epoch 28/100\n",
      "242/242 [==============================] - 0s 196us/step - loss: 0.3497 - acc: 0.8636\n",
      "Epoch 29/100\n",
      "242/242 [==============================] - 0s 168us/step - loss: 0.3473 - acc: 0.8636\n",
      "Epoch 30/100\n",
      "242/242 [==============================] - 0s 185us/step - loss: 0.3470 - acc: 0.8678\n",
      "Epoch 31/100\n",
      "242/242 [==============================] - 0s 177us/step - loss: 0.3453 - acc: 0.8719\n",
      "Epoch 32/100\n",
      "242/242 [==============================] - 0s 163us/step - loss: 0.3440 - acc: 0.8636\n",
      "Epoch 33/100\n",
      "242/242 [==============================] - 0s 162us/step - loss: 0.3440 - acc: 0.8636\n",
      "Epoch 34/100\n",
      "242/242 [==============================] - 0s 176us/step - loss: 0.3418 - acc: 0.8678\n",
      "Epoch 35/100\n",
      "242/242 [==============================] - 0s 176us/step - loss: 0.3408 - acc: 0.8719\n",
      "Epoch 36/100\n",
      "242/242 [==============================] - 0s 210us/step - loss: 0.3395 - acc: 0.8719\n",
      "Epoch 37/100\n",
      "242/242 [==============================] - 0s 208us/step - loss: 0.3385 - acc: 0.8719\n",
      "Epoch 38/100\n",
      "242/242 [==============================] - 0s 213us/step - loss: 0.3382 - acc: 0.8719\n",
      "Epoch 39/100\n",
      "242/242 [==============================] - 0s 185us/step - loss: 0.3371 - acc: 0.8678\n",
      "Epoch 40/100\n",
      "242/242 [==============================] - 0s 188us/step - loss: 0.3360 - acc: 0.8760\n",
      "Epoch 41/100\n",
      "242/242 [==============================] - 0s 189us/step - loss: 0.3345 - acc: 0.8760\n",
      "Epoch 42/100\n",
      "242/242 [==============================] - 0s 165us/step - loss: 0.3339 - acc: 0.8719\n",
      "Epoch 43/100\n",
      "242/242 [==============================] - 0s 193us/step - loss: 0.3325 - acc: 0.8760\n",
      "Epoch 44/100\n",
      "242/242 [==============================] - 0s 198us/step - loss: 0.3318 - acc: 0.8802\n",
      "Epoch 45/100\n",
      "242/242 [==============================] - 0s 178us/step - loss: 0.3302 - acc: 0.8760\n",
      "Epoch 46/100\n",
      "242/242 [==============================] - 0s 169us/step - loss: 0.3297 - acc: 0.8760\n",
      "Epoch 47/100\n",
      "242/242 [==============================] - 0s 173us/step - loss: 0.3291 - acc: 0.8802\n",
      "Epoch 48/100\n",
      "242/242 [==============================] - 0s 177us/step - loss: 0.3269 - acc: 0.8802\n",
      "Epoch 49/100\n",
      "242/242 [==============================] - 0s 201us/step - loss: 0.3284 - acc: 0.8843\n",
      "Epoch 50/100\n",
      "242/242 [==============================] - 0s 168us/step - loss: 0.3249 - acc: 0.8802\n",
      "Epoch 51/100\n",
      "242/242 [==============================] - 0s 193us/step - loss: 0.3251 - acc: 0.8843\n",
      "Epoch 52/100\n",
      "242/242 [==============================] - 0s 193us/step - loss: 0.3235 - acc: 0.8843\n",
      "Epoch 53/100\n",
      "242/242 [==============================] - 0s 201us/step - loss: 0.3225 - acc: 0.8843\n",
      "Epoch 54/100\n",
      "242/242 [==============================] - 0s 180us/step - loss: 0.3216 - acc: 0.8843\n",
      "Epoch 55/100\n",
      "242/242 [==============================] - 0s 199us/step - loss: 0.3203 - acc: 0.8802\n",
      "Epoch 56/100\n",
      "242/242 [==============================] - 0s 182us/step - loss: 0.3199 - acc: 0.8802\n",
      "Epoch 57/100\n",
      "242/242 [==============================] - 0s 206us/step - loss: 0.3183 - acc: 0.8802\n",
      "Epoch 58/100\n",
      "242/242 [==============================] - 0s 142us/step - loss: 0.3184 - acc: 0.8802\n",
      "Epoch 59/100\n",
      "242/242 [==============================] - 0s 152us/step - loss: 0.3170 - acc: 0.8843\n",
      "Epoch 60/100\n",
      "242/242 [==============================] - 0s 132us/step - loss: 0.3156 - acc: 0.8843\n",
      "Epoch 61/100\n",
      "242/242 [==============================] - 0s 131us/step - loss: 0.3147 - acc: 0.8843\n",
      "Epoch 62/100\n",
      "242/242 [==============================] - 0s 125us/step - loss: 0.3127 - acc: 0.8884\n",
      "Epoch 63/100\n",
      "242/242 [==============================] - 0s 128us/step - loss: 0.3123 - acc: 0.8884\n",
      "Epoch 64/100\n",
      "242/242 [==============================] - 0s 126us/step - loss: 0.3109 - acc: 0.8884\n",
      "Epoch 65/100\n",
      "242/242 [==============================] - 0s 138us/step - loss: 0.3113 - acc: 0.8884\n",
      "Epoch 66/100\n",
      "242/242 [==============================] - 0s 133us/step - loss: 0.3099 - acc: 0.8884\n",
      "Epoch 67/100\n",
      "242/242 [==============================] - 0s 151us/step - loss: 0.3088 - acc: 0.8884\n",
      "Epoch 68/100\n",
      "242/242 [==============================] - 0s 172us/step - loss: 0.3079 - acc: 0.8884\n",
      "Epoch 69/100\n",
      "242/242 [==============================] - 0s 175us/step - loss: 0.3062 - acc: 0.8884\n",
      "Epoch 70/100\n",
      "242/242 [==============================] - 0s 139us/step - loss: 0.3069 - acc: 0.8884\n",
      "Epoch 71/100\n",
      "242/242 [==============================] - 0s 154us/step - loss: 0.3052 - acc: 0.8884\n",
      "Epoch 72/100\n",
      "242/242 [==============================] - 0s 153us/step - loss: 0.3035 - acc: 0.8884\n",
      "Epoch 73/100\n",
      "242/242 [==============================] - 0s 157us/step - loss: 0.3029 - acc: 0.8884\n",
      "Epoch 74/100\n",
      "242/242 [==============================] - 0s 152us/step - loss: 0.3016 - acc: 0.8884\n",
      "Epoch 75/100\n",
      "242/242 [==============================] - 0s 139us/step - loss: 0.3005 - acc: 0.8884\n",
      "Epoch 76/100\n",
      "242/242 [==============================] - 0s 135us/step - loss: 0.3003 - acc: 0.8884\n",
      "Epoch 77/100\n",
      "242/242 [==============================] - 0s 147us/step - loss: 0.2984 - acc: 0.8926\n",
      "Epoch 78/100\n",
      "242/242 [==============================] - 0s 157us/step - loss: 0.2974 - acc: 0.8967\n",
      "Epoch 79/100\n",
      "242/242 [==============================] - 0s 149us/step - loss: 0.2969 - acc: 0.8967\n",
      "Epoch 80/100\n",
      "242/242 [==============================] - 0s 168us/step - loss: 0.2954 - acc: 0.9008\n",
      "Epoch 81/100\n",
      "242/242 [==============================] - 0s 165us/step - loss: 0.2958 - acc: 0.9050\n",
      "Epoch 82/100\n",
      "242/242 [==============================] - 0s 157us/step - loss: 0.2940 - acc: 0.9050\n",
      "Epoch 83/100\n",
      "242/242 [==============================] - 0s 168us/step - loss: 0.2924 - acc: 0.9008\n",
      "Epoch 84/100\n",
      "242/242 [==============================] - 0s 161us/step - loss: 0.2917 - acc: 0.9050\n",
      "Epoch 85/100\n",
      "242/242 [==============================] - 0s 161us/step - loss: 0.2902 - acc: 0.9050\n",
      "Epoch 86/100\n",
      "242/242 [==============================] - 0s 174us/step - loss: 0.2901 - acc: 0.9050\n",
      "Epoch 87/100\n",
      "242/242 [==============================] - 0s 169us/step - loss: 0.2908 - acc: 0.9050\n",
      "Epoch 88/100\n",
      "242/242 [==============================] - 0s 154us/step - loss: 0.2876 - acc: 0.9050\n",
      "Epoch 89/100\n",
      "242/242 [==============================] - 0s 164us/step - loss: 0.2862 - acc: 0.9091\n",
      "Epoch 90/100\n",
      "242/242 [==============================] - 0s 168us/step - loss: 0.2857 - acc: 0.9050\n",
      "Epoch 91/100\n",
      "242/242 [==============================] - 0s 161us/step - loss: 0.2840 - acc: 0.9091\n",
      "Epoch 92/100\n",
      "242/242 [==============================] - 0s 168us/step - loss: 0.2836 - acc: 0.9132\n",
      "Epoch 93/100\n",
      "242/242 [==============================] - 0s 182us/step - loss: 0.2822 - acc: 0.9132\n",
      "Epoch 94/100\n",
      "242/242 [==============================] - 0s 175us/step - loss: 0.2814 - acc: 0.9132\n",
      "Epoch 95/100\n",
      "242/242 [==============================] - 0s 163us/step - loss: 0.2801 - acc: 0.9132\n",
      "Epoch 96/100\n",
      "242/242 [==============================] - 0s 169us/step - loss: 0.2788 - acc: 0.9132\n",
      "Epoch 97/100\n",
      "242/242 [==============================] - 0s 150us/step - loss: 0.2775 - acc: 0.9091\n",
      "Epoch 98/100\n",
      "242/242 [==============================] - 0s 161us/step - loss: 0.2776 - acc: 0.9132\n",
      "Epoch 99/100\n",
      "242/242 [==============================] - 0s 148us/step - loss: 0.2763 - acc: 0.9091\n",
      "Epoch 100/100\n",
      "242/242 [==============================] - 0s 169us/step - loss: 0.2757 - acc: 0.9132\n"
     ]
    },
    {
     "data": {
      "text/plain": [
       "<tensorflow.python.keras.callbacks.History at 0x1a2a2bfe80>"
      ]
     },
     "execution_count": 55,
     "metadata": {},
     "output_type": "execute_result"
    }
   ],
   "source": [
    "# Compiling Neural Network\n",
    "classifier.compile(optimizer = 'adam', loss = 'binary_crossentropy', metrics = ['accuracy'])\n",
    "\n",
    "# Fitting our model \n",
    "classifier.fit(X_train, y_train, batch_size = 10, epochs = 100)"
   ]
  },
  {
   "cell_type": "code",
   "execution_count": 56,
   "metadata": {},
   "outputs": [
    {
     "name": "stdout",
     "output_type": "stream",
     "text": [
      "[1 1 0 0 1 1 1 0 0 1 1 0 1 1 0 1 1 0 0 0 0 1 1 0 1 1 1 1 1 1 1 0 1 1 1 1 1\n",
      " 1 1 1 1 0 1 0 0 0 1 0 0 0 0 0 1 1 1 1 1 0 0 1 0]\n",
      "[1. 1. 0. 1. 1. 1. 1. 0. 0. 1. 1. 0. 1. 1. 0. 1. 1. 0. 0. 0. 1. 1. 1. 0.\n",
      " 1. 1. 0. 1. 0. 1. 1. 0. 1. 1. 0. 1. 1. 1. 1. 1. 0. 0. 1. 0. 0. 0. 1. 0.\n",
      " 0. 0. 0. 0. 0. 1. 1. 1. 0. 0. 0. 1. 0.]\n"
     ]
    }
   ],
   "source": [
    "y_pred = classifier.predict(X_test)\n",
    "y_pred = y_pred.flatten().round()\n",
    "print(y_test)\n",
    "print(y_pred)"
   ]
  },
  {
   "cell_type": "code",
   "execution_count": 57,
   "metadata": {},
   "outputs": [
    {
     "name": "stdout",
     "output_type": "stream",
     "text": [
      "Predicted  0.0  1.0\n",
      "Actual             \n",
      "0           22    2\n",
      "1            6   31\n"
     ]
    }
   ],
   "source": [
    "y_actu = pd.Series(y_test, name='Actual')\n",
    "y_pred = pd.Series(y_pred, name='Predicted')\n",
    "\n",
    "df_confusion = pd.crosstab(y_actu, y_pred)\n",
    "print(df_confusion)"
   ]
  },
  {
   "cell_type": "code",
   "execution_count": 58,
   "metadata": {},
   "outputs": [
    {
     "name": "stdout",
     "output_type": "stream",
     "text": [
      "Test accuracy: 86.88524590163935\n",
      "Train accuracy: 91.32231404958678\n"
     ]
    }
   ],
   "source": [
    "accuracy = 100 * np.sum(y_test == y_pred) / len(y_test)\n",
    "print(\"Test accuracy:\", accuracy)\n",
    "\n",
    "y_train_pred = classifier.predict(X_train).flatten().round()\n",
    "accuracy_train = 100 * np.sum(y_train == y_train_pred) / len(y_train)\n",
    "print(\"Train accuracy:\", accuracy_train)"
   ]
  },
  {
   "cell_type": "code",
   "execution_count": 47,
   "metadata": {},
   "outputs": [],
   "source": [
    "def predict(classifier):\n",
    "    # Train the model using the training sets\n",
    "    classifier.fit(X_train, y_train)  \n",
    "\n",
    "    # Predict the response for test dataset\n",
    "    return classifier.predict(X_test)  \n",
    "    \n",
    "def get_accuracy():\n",
    "    chi = sm.chi2_contingency(pd.crosstab(index=y_test, columns=y_pred))\n",
    "    effect = np.sqrt(chi[0]/(len(y_test)*1))\n",
    "\n",
    "    print(\"Chi-squared effect:\", effect)\n",
    "    print(\"Sklearn accuracy:\", sklearn.metrics.accuracy_score(y_test, y_pred))\n",
    "    print(\"\\nConfusion matrix (predicted vs actual)\")\n",
    "    print(pd.DataFrame(np.c_[sklearn.metrics.confusion_matrix(y_test, y_pred)]))  "
   ]
  },
  {
   "cell_type": "code",
   "execution_count": 51,
   "metadata": {},
   "outputs": [
    {
     "name": "stdout",
     "output_type": "stream",
     "text": [
      "Chi-squared effect: 0.27871621621621623\n",
      "Sklearn accuracy: 0.6721311475409836\n",
      "\n",
      "Confusion matrix (predicted vs actual)\n",
      "    0   1\n",
      "0  14  10\n",
      "1  10  27\n"
     ]
    }
   ],
   "source": [
    "from sklearn.tree import DecisionTreeClassifier  \n",
    "\n",
    "classifier = DecisionTreeClassifier()  \n",
    "\n",
    "# Train the model and predict against the validation set\n",
    "y_pred = predict(classifier)  \n",
    "\n",
    "# Get accuracy results\n",
    "get_accuracy()"
   ]
  },
  {
   "cell_type": "code",
   "execution_count": 52,
   "metadata": {},
   "outputs": [
    {
     "name": "stdout",
     "output_type": "stream",
     "text": [
      "Chi-squared effect: 0.6908783783783784\n",
      "Sklearn accuracy: 0.8688524590163934\n",
      "\n",
      "Confusion matrix (predicted vs actual)\n",
      "    0   1\n",
      "0  20   4\n",
      "1   4  33\n"
     ]
    }
   ],
   "source": [
    "from sklearn.svm import SVC\n",
    "\n",
    "# Create an svm Classifier\n",
    "classifier = SVC(kernel='linear') # Linear Kernel\n",
    "\n",
    "# Train the model and predict against the validation set\n",
    "y_pred = predict(classifier)  \n",
    "\n",
    "# Get accuracy results\n",
    "get_accuracy()"
   ]
  },
  {
   "cell_type": "code",
   "execution_count": null,
   "metadata": {},
   "outputs": [],
   "source": []
  }
 ],
 "metadata": {
  "kernelspec": {
   "display_name": "conda env tensorflow",
   "language": "python",
   "name": "tensorflow"
  },
  "language_info": {
   "codemirror_mode": {
    "name": "ipython",
    "version": 3
   },
   "file_extension": ".py",
   "mimetype": "text/x-python",
   "name": "python",
   "nbconvert_exporter": "python",
   "pygments_lexer": "ipython3",
   "version": "3.6.6"
  }
 },
 "nbformat": 4,
 "nbformat_minor": 2
}
