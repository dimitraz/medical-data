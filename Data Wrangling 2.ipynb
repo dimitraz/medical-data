{
 "cells": [
  {
   "cell_type": "markdown",
   "metadata": {},
   "source": [
    "# Dataset Description \n",
    "\n",
    "The dataset taken from the UCI Machine Learning repository contains medical measurements for patients who suffer from some form of heart disease (`target` = 1, 2, 3, 4), or who have not been diagnosed with heart disease (`target` = 0).\n",
    "\n",
    "The data is collected from a total of 4 locations:\n",
    "     1. Cleveland Clinic Foundation (cleveland.csv)\n",
    "     2. Hungarian Institute of Cardiology, Budapest (hungary.csv)\n",
    "     3. V.A. Medical Center, Long Beach, CA (va.csv)\n",
    "     4. University Hospital, Zurich, Switzerland (switzerland.csv)\n",
    "\n",
    "A summary of the attributes:\n",
    "\n",
    "| Description         | Variable        | Values             | Type    | \n",
    "|:-------------------:|:---------------:|:------------------:| :-----: | \n",
    "| age                 | age in years    | n/a                | numeric (`float64`) |\n",
    "| sex                 | patient gender  | 1: male, 0: female | categorical |\n",
    "| chest_pain          | chest pain type | 1: typical angina, 2: atypical angina, 3: non-anginal pain, 4: asymptomatic | categorical |\n",
    "| rest_blood_pressure | resting blood pressure in mm Hg | n/a | numeric (`float64`) |\n",
    "| cholestorol         | serum cholestoral in mg/dl      | n/a | numeric (`float64`) |\n",
    "| fast_blood_sugar    | fasting blood sugar > 120 mg/dl | 1: true, 0: false | categorical |\n",
    "| rest_ecg            | ecg signal at rest | 0: normal, 1: having ST-T wave abnormality, 2: left ventricular hypertrophy | categorical |\n",
    "| max_heart_rate      | maximum heart rate achieved     | n/a | numeric (`float64`) |\n",
    "| exercise_angina     | exercise induced angina         | 1: yes, 0: no | categorical |\n",
    "| st_depression       | ST depression induced by exercise relative to rest | n/a | numeric (`float64`) |\n",
    "| st_slope            | the slope of the peak exercise ST segment | 1: upsloping, 2: flat, 3: downsloping | categorical |\n",
    "| major_vessels       | number of major vessels | 0-3: colored by flourosopy | numeric (`float64`) |\n",
    "| thal                | n/a | 3: normal, 6: fixed defect, 7: reversable defect | categorical |\n",
    "| target              | diagnosis of heart disease | 0: false, 1: true | categorical |"
   ]
  },
  {
   "cell_type": "markdown",
   "metadata": {},
   "source": [
    "# Preprocessing the data"
   ]
  },
  {
   "cell_type": "markdown",
   "metadata": {},
   "source": [
    "In general, real world datasets tend to be:\n",
    "- **Incomplete**: lacking attribute values, lacking certain attributes of interest, or containing only aggregate data\n",
    "- **Noisy**: containing errors or outliers\n",
    "- **Inconsistent**: containing discrepancies in codes or names\n",
    "   \n",
    "These inconsistencies must be handled carefully to achieve the most accuracy and reliability possible when training the final model. The data importing, wrangling and consolidation phase will be carried out below, and will aim to:\n",
    "- Import the 4 datasets and resolve any inconsistencies between them\n",
    "- Fill in missing values with a \"best guess\" approach using the `mean` and `mode` (described in detail later)\n",
    "- Establish data types\n",
    "- Identify and remove outliers"
   ]
  },
  {
   "cell_type": "code",
   "execution_count": 38,
   "metadata": {},
   "outputs": [],
   "source": [
    "import pandas as pd\n",
    "import numpy as np\n",
    "import matplotlib.pyplot as plt\n",
    "import seaborn as sns\n",
    "sns.set(rc={'figure.figsize':(12, 6)})\n",
    "\n",
    "from IPython.display import Markdown"
   ]
  },
  {
   "cell_type": "markdown",
   "metadata": {},
   "source": [
    "## Reading in the data\n",
    "The data is read in from 4 separate files:\n",
    "- cleveland.csv\n",
    "- hungary.csv\n",
    "- switzerland.csv\n",
    "- va.csv\n",
    "\n",
    "Missing values are marked as either `?` or `-9`."
   ]
  },
  {
   "cell_type": "code",
   "execution_count": 3,
   "metadata": {},
   "outputs": [],
   "source": [
    "names=['age', 'sex', 'chest_pain', 'rest_blood_pressure', 'cholestorol', 'fast_blood_sugar', 'rest_ecg', 'max_heart_rate', 'exercise_angina', 'st_depression', 'st_slope', 'major_vessels', 'thal', 'target']\n",
    "files = ['cleveland.csv', 'hungary.csv', 'switzerland.csv', 'va.csv']\n",
    "\n",
    "# Read in the files as a single dataframe\n",
    "dfs = (pd.read_csv('./data/' + f, names=names, na_values=['?', -9]) for f in files)\n",
    "df = pd.concat(dfs, ignore_index=True)"
   ]
  },
  {
   "cell_type": "code",
   "execution_count": 4,
   "metadata": {},
   "outputs": [
    {
     "data": {
      "text/markdown": [
       "Data set consists of 921 cases (rows) with 13 attributes (cols) and a single target."
      ],
      "text/plain": [
       "<IPython.core.display.Markdown object>"
      ]
     },
     "execution_count": 4,
     "metadata": {},
     "output_type": "execute_result"
    }
   ],
   "source": [
    "message = (\"Data set consists of %d cases (rows) with %s attributes (cols) and a single target.\"\n",
    "% (df.shape[0], df.shape[1]-1))\n",
    "Markdown(message)"
   ]
  },
  {
   "cell_type": "code",
   "execution_count": 5,
   "metadata": {},
   "outputs": [
    {
     "data": {
      "text/html": [
       "<div>\n",
       "<style scoped>\n",
       "    .dataframe tbody tr th:only-of-type {\n",
       "        vertical-align: middle;\n",
       "    }\n",
       "\n",
       "    .dataframe tbody tr th {\n",
       "        vertical-align: top;\n",
       "    }\n",
       "\n",
       "    .dataframe thead th {\n",
       "        text-align: right;\n",
       "    }\n",
       "</style>\n",
       "<table border=\"1\" class=\"dataframe\">\n",
       "  <thead>\n",
       "    <tr style=\"text-align: right;\">\n",
       "      <th></th>\n",
       "      <th>age</th>\n",
       "      <th>sex</th>\n",
       "      <th>chest_pain</th>\n",
       "      <th>rest_blood_pressure</th>\n",
       "      <th>cholestorol</th>\n",
       "      <th>fast_blood_sugar</th>\n",
       "      <th>rest_ecg</th>\n",
       "      <th>max_heart_rate</th>\n",
       "      <th>exercise_angina</th>\n",
       "      <th>st_depression</th>\n",
       "      <th>st_slope</th>\n",
       "      <th>major_vessels</th>\n",
       "      <th>thal</th>\n",
       "      <th>target</th>\n",
       "    </tr>\n",
       "  </thead>\n",
       "  <tbody>\n",
       "    <tr>\n",
       "      <th>0</th>\n",
       "      <td>63.0</td>\n",
       "      <td>1.0</td>\n",
       "      <td>1.0</td>\n",
       "      <td>145.0</td>\n",
       "      <td>233.0</td>\n",
       "      <td>1.0</td>\n",
       "      <td>2.0</td>\n",
       "      <td>150.0</td>\n",
       "      <td>0.0</td>\n",
       "      <td>2.3</td>\n",
       "      <td>3.0</td>\n",
       "      <td>0.0</td>\n",
       "      <td>6.0</td>\n",
       "      <td>0.0</td>\n",
       "    </tr>\n",
       "    <tr>\n",
       "      <th>1</th>\n",
       "      <td>67.0</td>\n",
       "      <td>1.0</td>\n",
       "      <td>4.0</td>\n",
       "      <td>160.0</td>\n",
       "      <td>286.0</td>\n",
       "      <td>0.0</td>\n",
       "      <td>2.0</td>\n",
       "      <td>108.0</td>\n",
       "      <td>1.0</td>\n",
       "      <td>1.5</td>\n",
       "      <td>2.0</td>\n",
       "      <td>3.0</td>\n",
       "      <td>3.0</td>\n",
       "      <td>2.0</td>\n",
       "    </tr>\n",
       "    <tr>\n",
       "      <th>2</th>\n",
       "      <td>67.0</td>\n",
       "      <td>1.0</td>\n",
       "      <td>4.0</td>\n",
       "      <td>120.0</td>\n",
       "      <td>229.0</td>\n",
       "      <td>0.0</td>\n",
       "      <td>2.0</td>\n",
       "      <td>129.0</td>\n",
       "      <td>1.0</td>\n",
       "      <td>2.6</td>\n",
       "      <td>2.0</td>\n",
       "      <td>2.0</td>\n",
       "      <td>7.0</td>\n",
       "      <td>1.0</td>\n",
       "    </tr>\n",
       "    <tr>\n",
       "      <th>3</th>\n",
       "      <td>37.0</td>\n",
       "      <td>1.0</td>\n",
       "      <td>3.0</td>\n",
       "      <td>130.0</td>\n",
       "      <td>250.0</td>\n",
       "      <td>0.0</td>\n",
       "      <td>0.0</td>\n",
       "      <td>187.0</td>\n",
       "      <td>0.0</td>\n",
       "      <td>3.5</td>\n",
       "      <td>3.0</td>\n",
       "      <td>0.0</td>\n",
       "      <td>3.0</td>\n",
       "      <td>0.0</td>\n",
       "    </tr>\n",
       "    <tr>\n",
       "      <th>4</th>\n",
       "      <td>41.0</td>\n",
       "      <td>0.0</td>\n",
       "      <td>2.0</td>\n",
       "      <td>130.0</td>\n",
       "      <td>204.0</td>\n",
       "      <td>0.0</td>\n",
       "      <td>2.0</td>\n",
       "      <td>172.0</td>\n",
       "      <td>0.0</td>\n",
       "      <td>1.4</td>\n",
       "      <td>1.0</td>\n",
       "      <td>0.0</td>\n",
       "      <td>3.0</td>\n",
       "      <td>0.0</td>\n",
       "    </tr>\n",
       "  </tbody>\n",
       "</table>\n",
       "</div>"
      ],
      "text/plain": [
       "    age  sex  chest_pain  rest_blood_pressure  cholestorol  fast_blood_sugar  \\\n",
       "0  63.0  1.0         1.0                145.0        233.0               1.0   \n",
       "1  67.0  1.0         4.0                160.0        286.0               0.0   \n",
       "2  67.0  1.0         4.0                120.0        229.0               0.0   \n",
       "3  37.0  1.0         3.0                130.0        250.0               0.0   \n",
       "4  41.0  0.0         2.0                130.0        204.0               0.0   \n",
       "\n",
       "   rest_ecg  max_heart_rate  exercise_angina  st_depression  st_slope  \\\n",
       "0       2.0           150.0              0.0            2.3       3.0   \n",
       "1       2.0           108.0              1.0            1.5       2.0   \n",
       "2       2.0           129.0              1.0            2.6       2.0   \n",
       "3       0.0           187.0              0.0            3.5       3.0   \n",
       "4       2.0           172.0              0.0            1.4       1.0   \n",
       "\n",
       "   major_vessels  thal  target  \n",
       "0            0.0   6.0     0.0  \n",
       "1            3.0   3.0     2.0  \n",
       "2            2.0   7.0     1.0  \n",
       "3            0.0   3.0     0.0  \n",
       "4            0.0   3.0     0.0  "
      ]
     },
     "execution_count": 5,
     "metadata": {},
     "output_type": "execute_result"
    }
   ],
   "source": [
    "df.head(5)"
   ]
  },
  {
   "cell_type": "markdown",
   "metadata": {},
   "source": [
    "### Correcting data types\n",
    "The categorical variables are read in as `int64`s, so these should be changed to type `category`:"
   ]
  },
  {
   "cell_type": "code",
   "execution_count": 6,
   "metadata": {},
   "outputs": [],
   "source": [
    "# Convert categorical variables\n",
    "df[['sex', 'chest_pain', 'fast_blood_sugar', 'rest_ecg', 'exercise_angina', 'st_slope', 'major_vessels', 'thal', 'target']] = df[['sex', 'chest_pain', 'fast_blood_sugar', 'rest_ecg', 'exercise_angina', 'st_slope', 'major_vessels', 'thal', 'target']].astype('category')"
   ]
  },
  {
   "cell_type": "code",
   "execution_count": 7,
   "metadata": {},
   "outputs": [
    {
     "data": {
      "text/plain": [
       "age                     float64\n",
       "sex                    category\n",
       "chest_pain             category\n",
       "rest_blood_pressure     float64\n",
       "cholestorol             float64\n",
       "fast_blood_sugar       category\n",
       "rest_ecg               category\n",
       "max_heart_rate          float64\n",
       "exercise_angina        category\n",
       "st_depression           float64\n",
       "st_slope               category\n",
       "major_vessels          category\n",
       "thal                   category\n",
       "target                 category\n",
       "dtype: object"
      ]
     },
     "execution_count": 7,
     "metadata": {},
     "output_type": "execute_result"
    }
   ],
   "source": [
    "df.dtypes"
   ]
  },
  {
   "cell_type": "markdown",
   "metadata": {},
   "source": [
    "## Data imputation\n",
    "\n",
    "Imputation methods involve replacing missing values with estimated ones based on information available\n",
    "in the data set [[1](http://www.aaai.org/Papers/KDD/1996/KDD96-023.pdf)]. There are multiple different options for filling in missing data, from naive methods such as the mean, to more robust prediction models like K-Nearest Neighbours.\n",
    "\n",
    "Mean and mode imputation are some of the most frequently used methods for replacing missing data in Machine Learning problems. These methods are based on filling in an unknown value by using the average of the known values for that attribute (quantitative), or simply filling it in using the most frequently occurring value of that attribute (qualitative)."
   ]
  },
  {
   "cell_type": "code",
   "execution_count": 8,
   "metadata": {},
   "outputs": [
    {
     "name": "stdout",
     "output_type": "stream",
     "text": [
      "Shape of the dataset: (921, 14)\n"
     ]
    },
    {
     "data": {
      "text/plain": [
       "age                      1\n",
       "sex                      1\n",
       "chest_pain               1\n",
       "rest_blood_pressure     60\n",
       "cholestorol             31\n",
       "fast_blood_sugar        91\n",
       "rest_ecg                 3\n",
       "max_heart_rate          56\n",
       "exercise_angina         56\n",
       "st_depression           63\n",
       "st_slope               310\n",
       "major_vessels          611\n",
       "thal                   487\n",
       "target                   1\n",
       "dtype: int64"
      ]
     },
     "execution_count": 8,
     "metadata": {},
     "output_type": "execute_result"
    }
   ],
   "source": [
    "print(\"Shape of the dataset:\", df.shape)\n",
    "df.isnull().sum()"
   ]
  },
  {
   "cell_type": "markdown",
   "metadata": {},
   "source": [
    "### Observations\n",
    "- Age and sex have very few missing records. These will be replaced with the mean of the dataset and the mode (the most frequent) respectively\n",
    "- One record does not contain a `target` outcome (healthy or not healthy), so this can be removed\n",
    "- `major_vessels` has the most amount of missing values, next to `thal`. These missing values are about a 2/3 of the length of the dataset, so the column could probably be dropped. For now however the values will be imputed.\n",
    "- For other variables, it makes sense to fill the missing values with means and modes from a subset of similar patients. For example, an older patient is more likely to have a similar heart rate to another patient of similar age and gender, so it might not make sense to replace this value with the average of all of the patient's heart rates. "
   ]
  },
  {
   "cell_type": "markdown",
   "metadata": {},
   "source": [
    "Replacing the age and sex will be done using sklearn's `Imputer`:"
   ]
  },
  {
   "cell_type": "code",
   "execution_count": 9,
   "metadata": {},
   "outputs": [],
   "source": [
    "from sklearn.preprocessing.imputation import Imputer \n",
    "\n",
    "mean_imputer = Imputer(missing_values='NaN', strategy='mean')\n",
    "mode_imputer = Imputer(missing_values='NaN', strategy='most_frequent')\n",
    "\n",
    "# Replace missing values in age with the mean\n",
    "df['age'] = mean_imputer.fit_transform(df[['age']]) \n",
    "\n",
    "# Replace missing values in sex with the mode\n",
    "df['sex'] = mode_imputer.fit_transform(df[['sex']]) "
   ]
  },
  {
   "cell_type": "markdown",
   "metadata": {},
   "source": [
    "For the other columns, replacing will be done by using the mean or mode of a subset of the data. \n",
    "Specific functions are defined for this purpose:"
   ]
  },
  {
   "cell_type": "code",
   "execution_count": 10,
   "metadata": {},
   "outputs": [],
   "source": [
    "def impute_mean(attr):\n",
    "    \"\"\"\n",
    "    Fill NaNs for numerical attributes with \n",
    "    the attribute mean of a subset of patients\n",
    "    with similar age and sex. \n",
    "    \"\"\"\n",
    "    indices = df[df.loc[:, attr].isnull() == True].index\n",
    "\n",
    "    for i in indices:\n",
    "        # get age and sex for corresponding record\n",
    "        age = df['age'].iloc[i]\n",
    "        sex = df['sex'].iloc[i]\n",
    "\n",
    "        # get a subset of patients within a similar range and sex\n",
    "        subset = df[df['age'].between(age - 5, age + 5) & df['sex'] == sex]\n",
    "        mean = subset[attr].mean() \n",
    "        \n",
    "        # fill the record using the mean of attribute from the subset\n",
    "        df[attr].fillna(mean, inplace=True)\n",
    "        #df[attr] = mean_imputer.fit_transform(df[[attr]]) \n",
    "        \n",
    "def impute_mode(attr):\n",
    "    \"\"\"\n",
    "    Fill NaNs for categorical attributes with \n",
    "    the attribute mode of a subset of patients\n",
    "    with similar age and sex. \n",
    "    \"\"\"\n",
    "    indices = df[df.loc[:, attr].isnull() == True].index\n",
    "\n",
    "    for i in indices:\n",
    "        # get age and sex for corresponding record\n",
    "        age = df['age'].iloc[i]\n",
    "        sex = df['sex'].iloc[i]\n",
    "\n",
    "        # get a subset of patients within a similar range and sex\n",
    "        subset = df[df['age'].between(age - 5, age + 5) & df['sex'] == sex]\n",
    "        mode = subset[attr].mode()[0]\n",
    "        \n",
    "        # fill the record using the mean of attribute from the subset\n",
    "        df[attr].fillna(mode, inplace=True)"
   ]
  },
  {
   "cell_type": "code",
   "execution_count": 11,
   "metadata": {},
   "outputs": [
    {
     "name": "stdout",
     "output_type": "stream",
     "text": [
      "NaNs for rest_blood_pressure 0\n",
      "NaNs for cholestorol 0\n",
      "NaNs for max_heart_rate 0\n",
      "NaNs for st_depression 0\n",
      "NaNs for chest_pain 0\n",
      "NaNs for fast_blood_sugar 0\n",
      "NaNs for rest_ecg 0\n",
      "NaNs for exercise_angina 0\n",
      "NaNs for st_slope 0\n",
      "NaNs for major_vessels 0\n",
      "NaNs for thal 0\n"
     ]
    }
   ],
   "source": [
    "# Fill missing values in numerical columns\n",
    "nums = ['rest_blood_pressure', 'cholestorol', 'max_heart_rate', 'st_depression']\n",
    "for i in nums:\n",
    "    impute_mean(i)\n",
    "    print(\"NaNs for\", i, df[i].isnull().sum())\n",
    "    \n",
    "# Fill missing values in categorical columns\n",
    "cats = ['chest_pain', 'fast_blood_sugar', 'rest_ecg', 'exercise_angina', 'st_slope', 'major_vessels', 'thal']\n",
    "for i in cats:\n",
    "    impute_mode(i)\n",
    "    print(\"NaNs for\", i, df[i].isnull().sum())\n",
    "    \n",
    "# Drop the record with a missing target\n",
    "df.dropna(inplace=True)"
   ]
  },
  {
   "cell_type": "markdown",
   "metadata": {},
   "source": [
    "All of the missing values have now been replaced:"
   ]
  },
  {
   "cell_type": "code",
   "execution_count": 12,
   "metadata": {},
   "outputs": [
    {
     "data": {
      "text/plain": [
       "age                    0\n",
       "sex                    0\n",
       "chest_pain             0\n",
       "rest_blood_pressure    0\n",
       "cholestorol            0\n",
       "fast_blood_sugar       0\n",
       "rest_ecg               0\n",
       "max_heart_rate         0\n",
       "exercise_angina        0\n",
       "st_depression          0\n",
       "st_slope               0\n",
       "major_vessels          0\n",
       "thal                   0\n",
       "target                 0\n",
       "dtype: int64"
      ]
     },
     "execution_count": 12,
     "metadata": {},
     "output_type": "execute_result"
    }
   ],
   "source": [
    "df.isnull().sum()"
   ]
  },
  {
   "cell_type": "code",
   "execution_count": 13,
   "metadata": {},
   "outputs": [],
   "source": [
    "# Convert categorical variables\n",
    "df[['sex', 'chest_pain', 'fast_blood_sugar', 'rest_ecg', 'exercise_angina', 'st_slope', 'major_vessels', 'thal', 'target']] = df[['sex', 'chest_pain', 'fast_blood_sugar', 'rest_ecg', 'exercise_angina', 'st_slope', 'major_vessels', 'thal', 'target']].astype('category')"
   ]
  },
  {
   "cell_type": "markdown",
   "metadata": {},
   "source": [
    "## Categorical variables"
   ]
  },
  {
   "cell_type": "code",
   "execution_count": 14,
   "metadata": {},
   "outputs": [
    {
     "name": "stdout",
     "output_type": "stream",
     "text": [
      "Categories\n",
      "\n",
      "chest_pain \n",
      " [1.0, 2.0, 3.0, 4.0]\n",
      "fast_blood_sugar \n",
      " [0.0, 1.0]\n",
      "rest_ecg \n",
      " [0.0, 1.0, 2.0]\n",
      "exercise_angina \n",
      " [0.0, 1.0]\n",
      "st_slope \n",
      " [1.0, 2.0, 3.0]\n",
      "major_vessels \n",
      " [0.0, 1.0, 2.0, 3.0, 9.0]\n",
      "thal \n",
      " [3.0, 6.0, 7.0]\n",
      "target \n",
      " [0.0, 1.0, 2.0, 3.0, 4.0]\n"
     ]
    }
   ],
   "source": [
    "print(\"Categories\\n\")\n",
    "for i in (cats + ['target']):\n",
    "    print(i, \"\\n\", df[i].cat.categories.tolist())"
   ]
  },
  {
   "cell_type": "markdown",
   "metadata": {},
   "source": [
    "### Observations\n",
    "- `target` is the outcome variable which dictates whether or not a patient is healthy (0), or have some form of cardiovascular disease (4 types in total: 1, 2, 3, 4). For the purpose of predicting whether or not a patient is at risk, only two should suffice (0 = healthy, 1 = at risk).\n",
    "- Some categories contain `-9`, which is the equivalent to a missing value. These were converted to NaNs when the data was read in"
   ]
  },
  {
   "cell_type": "code",
   "execution_count": 15,
   "metadata": {},
   "outputs": [
    {
     "data": {
      "text/plain": [
       "[0, 1]\n",
       "Categories (2, int64): [0, 1]"
      ]
     },
     "execution_count": 15,
     "metadata": {},
     "output_type": "execute_result"
    }
   ],
   "source": [
    "# Replace the categories 1, 2, 3, 4 with just 1\n",
    "df['target'] = df['target'].replace({0.0: 0, 1.0: 1, 2.0: 1, 3.0: 1, 4.0: 1}).astype('category')\n",
    "df['target'].unique()"
   ]
  },
  {
   "cell_type": "markdown",
   "metadata": {},
   "source": [
    "# Exploratory data analysis "
   ]
  },
  {
   "cell_type": "markdown",
   "metadata": {},
   "source": [
    "## target\n",
    "* Target binary variable\n",
    "* Indicates whether a patient was diagnosed with heart disease or not"
   ]
  },
  {
   "cell_type": "code",
   "execution_count": 19,
   "metadata": {},
   "outputs": [
    {
     "data": {
      "text/plain": [
       "1    509\n",
       "0    411\n",
       "Name: target, dtype: int64"
      ]
     },
     "execution_count": 19,
     "metadata": {},
     "output_type": "execute_result"
    }
   ],
   "source": [
    "df1 = df.target.value_counts()\n",
    "df1"
   ]
  },
  {
   "cell_type": "code",
   "execution_count": 20,
   "metadata": {},
   "outputs": [
    {
     "data": {
      "image/png": "[encoded data removed]",
      "text/plain": [
       "<Figure size 720x504 with 1 Axes>"
      ]
     },
     "metadata": {},
     "output_type": "display_data"
    }
   ],
   "source": [
    "ax = sns.countplot(x=\"target\", data=df, palette=\"BuGn\")\n",
    "ax.set_title(\"Breakdown of observations by target\")\n",
    "ax.set_xticklabels([\"Not diagnosed\", \"Diagnosed\"])\n",
    "plt.show()"
   ]
  },
  {
   "cell_type": "code",
   "execution_count": 21,
   "metadata": {},
   "outputs": [
    {
     "data": {
      "text/markdown": [
       "Dataset is almost balanced with 44.7%  (411/920) of the cases negative and 55.3% positive (509/920).\n"
      ],
      "text/plain": [
       "<IPython.core.display.Markdown object>"
      ]
     },
     "metadata": {},
     "output_type": "display_data"
    }
   ],
   "source": [
    "display_fraction = lambda n,d: (n/d*100, n, d)\n",
    "\n",
    "message = (\"Dataset is almost balanced with %.1f%%  (%d/%d) of the cases negative and %.1f%% positive (%d/%d).\\n\" %\n",
    "(*display_fraction(df1[0], df1.sum()), *display_fraction(df1[1], df1.sum())))\n",
    "\n",
    "display(Markdown(message))"
   ]
  },
  {
   "cell_type": "markdown",
   "metadata": {},
   "source": [
    "## Other attributes"
   ]
  },
  {
   "cell_type": "code",
   "execution_count": 22,
   "metadata": {},
   "outputs": [
    {
     "data": {
      "text/plain": [
       "age                     50\n",
       "sex                      2\n",
       "chest_pain               4\n",
       "rest_blood_pressure     62\n",
       "cholestorol            218\n",
       "fast_blood_sugar         2\n",
       "rest_ecg                 3\n",
       "max_heart_rate         120\n",
       "exercise_angina          2\n",
       "st_depression           54\n",
       "st_slope                 3\n",
       "major_vessels            5\n",
       "thal                     3\n",
       "target                   2\n",
       "dtype: int64"
      ]
     },
     "execution_count": 22,
     "metadata": {},
     "output_type": "execute_result"
    }
   ],
   "source": [
    "df.agg(\"nunique\")"
   ]
  },
  {
   "cell_type": "markdown",
   "metadata": {},
   "source": [
    "## age\n",
    "* Age of the patient in years\n",
    "* Integer"
   ]
  },
  {
   "cell_type": "code",
   "execution_count": 34,
   "metadata": {},
   "outputs": [
    {
     "data": {
      "text/plain": [
       "count    920.000000\n",
       "mean      53.510870\n",
       "std        9.424685\n",
       "min       28.000000\n",
       "25%       47.000000\n",
       "50%       54.000000\n",
       "75%       60.000000\n",
       "max       77.000000\n",
       "Name: age, dtype: float64"
      ]
     },
     "execution_count": 34,
     "metadata": {},
     "output_type": "execute_result"
    }
   ],
   "source": [
    "df.age.describe()"
   ]
  },
  {
   "cell_type": "code",
   "execution_count": 47,
   "metadata": {},
   "outputs": [
    {
     "data": {
      "image/png": "[encoded data removed]",
      "text/plain": [
       "<Figure size 576x1440 with 1 Axes>"
      ]
     },
     "metadata": {},
     "output_type": "display_data"
    }
   ],
   "source": [
    "fig = plt.figure(figsize=(8, 20))\n",
    "s1 = df.age.value_counts()\n",
    "\n",
    "ax = sns.countplot(y=\"age\", data=df, order=s1.index)\n",
    "ax.set_xlabel(\"Number of patients\")\n",
    "ax.set_ylabel(\"Age\")\n",
    "ax.set_title(\"Observations by age\")\n",
    "\n",
    "plt.show()"
   ]
  },
  {
   "cell_type": "code",
   "execution_count": 39,
   "metadata": {},
   "outputs": [
    {
     "data": {
      "image/png": "[encoded data removed]",
      "text/plain": [
       "<Figure size 864x432 with 1 Axes>"
      ]
     },
     "metadata": {},
     "output_type": "display_data"
    }
   ],
   "source": [
    "ax = sns.kdeplot(df[df.target == 0].age, label=\"Healthy\")\n",
    "ax = sns.kdeplot(df[df.target == 1].age, label=\"Unhealthy\")\n",
    "ax.set_title(\"Distribution of age by target\")\n",
    "plt.show()"
   ]
  },
  {
   "cell_type": "code",
   "execution_count": 50,
   "metadata": {},
   "outputs": [
    {
     "data": {
      "text/markdown": [
       "The median age is 57 for sick patients and 51 for healthy patients.\n"
      ],
      "text/plain": [
       "<IPython.core.display.Markdown object>"
      ]
     },
     "metadata": {},
     "output_type": "display_data"
    }
   ],
   "source": [
    "message = (\"The median age is %d for sick patients and %d for healthy patients.\\n\" %\n",
    "(df[df.target == 1].age.median(), df[df.target == 0].age.median()))\n",
    "\n",
    "display(Markdown(message))"
   ]
  },
  {
   "cell_type": "markdown",
   "metadata": {},
   "source": [
    "* The age distribution of healthy patients is bimodal, with peaks around 43 years and 53 years \n",
    "* The age distribution of unhealthy patients is unimodal and slightly skewed to the left"
   ]
  },
  {
   "cell_type": "code",
   "execution_count": 52,
   "metadata": {},
   "outputs": [
    {
     "data": {
      "image/png": "[encoded data removed]",
      "text/plain": [
       "<Figure size 864x432 with 1 Axes>"
      ]
     },
     "metadata": {},
     "output_type": "display_data"
    }
   ],
   "source": [
    "ax = sns.kdeplot(df[df.sex == 0].age, label=\"Female\")\n",
    "ax = sns.kdeplot(df[df.sex == 1].age, label=\"Male\")\n",
    "ax.set_title(\"Distribution of age by sex\")\n",
    "plt.show()"
   ]
  },
  {
   "cell_type": "code",
   "execution_count": 51,
   "metadata": {},
   "outputs": [
    {
     "data": {
      "text/markdown": [
       "The median age is 53 for female patients and 55 for male patients.\n"
      ],
      "text/plain": [
       "<IPython.core.display.Markdown object>"
      ]
     },
     "metadata": {},
     "output_type": "display_data"
    }
   ],
   "source": [
    "message = (\"The median age is %d for female patients and %d for male patients.\\n\" %\n",
    "(df[df.sex == 0].age.median(), df[df.sex == 1].age.median()))\n",
    "\n",
    "display(Markdown(message))"
   ]
  },
  {
   "cell_type": "markdown",
   "metadata": {},
   "source": [
    "## sex\n",
    "* Binary variable\n",
    "* 0 = Female, 1 = Male"
   ]
  },
  {
   "cell_type": "code",
   "execution_count": 60,
   "metadata": {},
   "outputs": [
    {
     "data": {
      "image/png": "[encoded data removed]",
      "text/plain": [
       "<Figure size 864x432 with 1 Axes>"
      ]
     },
     "metadata": {},
     "output_type": "display_data"
    }
   ],
   "source": [
    "data = df.copy()\n",
    "data['sex'] = data['sex'].replace({0: 'Female', 1: 'Male'})\n",
    "data['target'] = data['target'].replace({0: 'Healthy', 1: 'Unhealthy'})\n",
    "ax = sns.countplot(x=\"sex\", hue=\"target\", data=data)"
   ]
  },
  {
   "cell_type": "code",
   "execution_count": 27,
   "metadata": {},
   "outputs": [
    {
     "data": {
      "text/plain": [
       "1.0    726\n",
       "0.0    194\n",
       "Name: sex, dtype: int64"
      ]
     },
     "execution_count": 27,
     "metadata": {},
     "output_type": "execute_result"
    }
   ],
   "source": [
    "df.sex.value_counts()"
   ]
  },
  {
   "cell_type": "code",
   "execution_count": 64,
   "metadata": {},
   "outputs": [
    {
     "data": {
      "text/html": [
       "<div>\n",
       "<style scoped>\n",
       "    .dataframe tbody tr th:only-of-type {\n",
       "        vertical-align: middle;\n",
       "    }\n",
       "\n",
       "    .dataframe tbody tr th {\n",
       "        vertical-align: top;\n",
       "    }\n",
       "\n",
       "    .dataframe thead th {\n",
       "        text-align: right;\n",
       "    }\n",
       "</style>\n",
       "<table border=\"1\" class=\"dataframe\">\n",
       "  <thead>\n",
       "    <tr style=\"text-align: right;\">\n",
       "      <th>target</th>\n",
       "      <th>0</th>\n",
       "      <th>1</th>\n",
       "      <th>All</th>\n",
       "    </tr>\n",
       "    <tr>\n",
       "      <th>sex</th>\n",
       "      <th></th>\n",
       "      <th></th>\n",
       "      <th></th>\n",
       "    </tr>\n",
       "  </thead>\n",
       "  <tbody>\n",
       "    <tr>\n",
       "      <th>0.0</th>\n",
       "      <td>144</td>\n",
       "      <td>50</td>\n",
       "      <td>194</td>\n",
       "    </tr>\n",
       "    <tr>\n",
       "      <th>1.0</th>\n",
       "      <td>267</td>\n",
       "      <td>459</td>\n",
       "      <td>726</td>\n",
       "    </tr>\n",
       "    <tr>\n",
       "      <th>All</th>\n",
       "      <td>411</td>\n",
       "      <td>509</td>\n",
       "      <td>920</td>\n",
       "    </tr>\n",
       "  </tbody>\n",
       "</table>\n",
       "</div>"
      ],
      "text/plain": [
       "target    0    1  All\n",
       "sex                  \n",
       "0.0     144   50  194\n",
       "1.0     267  459  726\n",
       "All     411  509  920"
      ]
     },
     "execution_count": 64,
     "metadata": {},
     "output_type": "execute_result"
    }
   ],
   "source": [
    "ct = pd.crosstab(df.sex, df.target, margins=True)\n",
    "ct"
   ]
  },
  {
   "cell_type": "code",
   "execution_count": 93,
   "metadata": {},
   "outputs": [
    {
     "data": {
      "text/markdown": [
       "36.8 percent of male patients are healthy, 63.2 percent are unhealthy. \n"
      ],
      "text/plain": [
       "<IPython.core.display.Markdown object>"
      ]
     },
     "metadata": {},
     "output_type": "display_data"
    }
   ],
   "source": [
    "message = (\"%.1f percent of male patients are healthy, %.1f percent are unhealthy. \\n\" %\n",
    "(ct.loc[1, 0]/(ct.loc[1, 0] + ct.loc[1, 1])*100, ct.loc[1, 1]/(ct.loc[1, 0] + ct.loc[1, 1])*100))\n",
    "\n",
    "display(Markdown(message))"
   ]
  },
  {
   "cell_type": "code",
   "execution_count": 94,
   "metadata": {},
   "outputs": [
    {
     "data": {
      "text/markdown": [
       "74.2 percent of female patients are healthy, 25.8 percent are unhealthy. \n"
      ],
      "text/plain": [
       "<IPython.core.display.Markdown object>"
      ]
     },
     "metadata": {},
     "output_type": "display_data"
    }
   ],
   "source": [
    "message = (\"%.1f percent of female patients are healthy, %.1f percent are unhealthy. \\n\" %\n",
    "(ct.loc[0, 0]/(ct.loc[0, 0] + ct.loc[0, 1])*100, ct.loc[0, 1]/(ct.loc[0, 0] + ct.loc[0, 1])*100))\n",
    "\n",
    "display(Markdown(message))"
   ]
  },
  {
   "cell_type": "code",
   "execution_count": 42,
   "metadata": {},
   "outputs": [
    {
     "data": {
      "text/plain": [
       "sex  target\n",
       "0.0  0         144\n",
       "     1          50\n",
       "1.0  1         459\n",
       "     0         267\n",
       "Name: target, dtype: int64"
      ]
     },
     "execution_count": 42,
     "metadata": {},
     "output_type": "execute_result"
    }
   ],
   "source": [
    "df.groupby(['sex']).target.value_counts()"
   ]
  },
  {
   "cell_type": "code",
   "execution_count": 28,
   "metadata": {},
   "outputs": [
    {
     "data": {
      "text/markdown": [
       "Dataset is not balanced with 44.7%  (411/920) of the cases negative and 55.3% positive (509/920).\n"
      ],
      "text/plain": [
       "<IPython.core.display.Markdown object>"
      ]
     },
     "metadata": {},
     "output_type": "display_data"
    }
   ],
   "source": [
    "display_fraction = lambda n,d: (n/d*100, n, d)\n",
    "\n",
    "message = (\"Dataset is not balanced with %.1f%%  (%d/%d) of the cases negative and %.1f%% positive (%d/%d).\\n\" %\n",
    "(*display_fraction(df1[0], df1.sum()), *display_fraction(df1[1], df1.sum())))\n",
    "\n",
    "display(Markdown(message))"
   ]
  },
  {
   "cell_type": "markdown",
   "metadata": {},
   "source": [
    "## chest_pain"
   ]
  },
  {
   "cell_type": "code",
   "execution_count": 95,
   "metadata": {},
   "outputs": [
    {
     "data": {
      "image/png": "[encoded data removed]",
      "text/plain": [
       "<Figure size 864x432 with 1 Axes>"
      ]
     },
     "metadata": {},
     "output_type": "display_data"
    }
   ],
   "source": [
    "ax = sns.countplot(x=\"chest_pain\", hue=\"target\", data=data)\n",
    "plt.show()"
   ]
  },
  {
   "cell_type": "code",
   "execution_count": null,
   "metadata": {},
   "outputs": [],
   "source": [
    "lab 2"
   ]
  }
 ],
 "metadata": {
  "kernelspec": {
   "display_name": "Python 3",
   "language": "python",
   "name": "python3"
  },
  "language_info": {
   "codemirror_mode": {
    "name": "ipython",
    "version": 3
   },
   "file_extension": ".py",
   "mimetype": "text/x-python",
   "name": "python",
   "nbconvert_exporter": "python",
   "pygments_lexer": "ipython3",
   "version": "3.7.2"
  }
 },
 "nbformat": 4,
 "nbformat_minor": 2
}
